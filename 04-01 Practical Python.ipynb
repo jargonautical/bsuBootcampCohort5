{
 "cells": [
  {
   "cell_type": "markdown",
   "id": "7b56e8b2-0870-4278-a53f-1da7a1b5b813",
   "metadata": {},
   "source": [
    "# Practical Python (Week 4 Session 1 notes)  "
   ]
  },
  {
   "cell_type": "markdown",
   "id": "43da10a8",
   "metadata": {},
   "source": [
    "### The aims of this session:  "
   ]
  },
  {
   "cell_type": "markdown",
   "id": "ce6122e1",
   "metadata": {},
   "source": [
    "\n",
    "* Introducing Python programming  \n",
    "* Understanding programming concepts  \n",
    "* Understanding data types, variables, and data structures  \n",
    "* Gaining a practical understanding of core programming tools  \n",
    "* Implement Python code through practical exercises  "
   ]
  },
  {
   "cell_type": "markdown",
   "id": "34259a05",
   "metadata": {},
   "source": [
    "## The basics  "
   ]
  },
  {
   "cell_type": "markdown",
   "id": "c490b8b0",
   "metadata": {},
   "source": [
    "### Keywords"
   ]
  },
  {
   "cell_type": "markdown",
   "id": "d9d161d3",
   "metadata": {},
   "source": [
    "* __Sequential__: accessed by a single thread. This means that a single thread can only do code in a specific order, hence it being sequential. The other thing is concurrent code, multiple threads may access the same code synchronously.  \n",
    "* __Iteration__: a sequence of instructions or code being repeated until a specific result is achieved. Iterative development is sometimes called circular or evolutionary development.  \n",
    "* __Conditions__: used in various programming languages to instruct the computer on the decision to make when given some conditions. These decisions are made if and __only if__ the pre-stated conditions are either true or false, depending on the functions the programmer has in mind.  \n",
    "* __Data structure__: a specialised format for organising, processing, retrieving and storing data. There are several basic and advanced types of data structurs, all designed to arrange data to suit a specific purpose. Data structures make it easy for users to access and work with the data they need in appropriate ways.  \n",
    "* __Subroutine__: a named section of code that can be called by writing the subroutine's name in a programme statement. Subroutines can also be referred to as procedures or functions.  \n",
    "* __Logical operator__: used to create complex conditions and control the flow of your programme based on multiple conditions. They are commonly used in conditional statements such as if and while.  \n",
    "* __Mathematical operator__: used to perform mathematical operations on numbers. The basic mathematical operators in Python are + for addition, - for subtraction, * for multiplication, and / for division."
   ]
  },
  {
   "cell_type": "markdown",
   "id": "874fc372",
   "metadata": {},
   "source": [
    "### History of Python"
   ]
  },
  {
   "cell_type": "markdown",
   "id": "21a5f153",
   "metadata": {},
   "source": [
    "* Designed by Guido van Rossum and released in the early 1990s.\n",
    "* Based off the 'ABC' programming language.\n",
    "* The name was inspired by the BBC comedy show Monty Python's Flying Circus.\n",
    "* Currently on Python version 3.\n",
    "* One of the most popular programming languages, from beginner to advanced.\n",
    "* Used in a wide range of applications:\n",
    "    * Web Development - frameworks such as Django and Flask\n",
    "    * Data Analysis - NumPy and Pandas\n",
    "    * Data Visualisation - Matplotlib and Seaborn\n",
    "    * Machine learning - Scikit-Learn, NLTK, Tensorflow, Pytorch\n",
    "    * Web Scraping - Beautiful Soup\n",
    "    * Computer Vision - OpenCV Image Library\n",
    "    * Internet of Things (IoT) - Raspberry Pi + Python\n",
    "    * Game Development - PyGame"
   ]
  },
  {
   "cell_type": "markdown",
   "id": "05361cf3",
   "metadata": {},
   "source": [
    "### What is Python?  "
   ]
  },
  {
   "cell_type": "markdown",
   "id": "f2ea02e4",
   "metadata": {},
   "source": [
    "A popular, high-level, interpreted programming language.  \n",
    "* __High-level__ means it abstracts away low-level details, making it easier to read and write.  \n",
    "* __Interpreted__ means it is executed line by line, rather than compiled before executing.  \n",
    "\n",
    "Advantages of using Python:  \n",
    "* Object-oriented.\n",
    "    * Objects and classes help organise code.\n",
    "* Supports modules and packages\n",
    "    * Programme modularity.\n",
    "    * Code reuse.\n",
    "* Extensive standard library.\n",
    "* Built-in data structures.\n",
    "    * Lists, dictionaries, etc.\n",
    "* Simple, easy-to-learn syntax:\n",
    "    * Emphasises readability.\n",
    "    * Reduces the cost of programme maintenance.\n",
    "* Freely distributed.\n",
    "* Well-supported and maintained.  \n",
    "* Can be used on multiple platforms.  "
   ]
  },
  {
   "cell_type": "markdown",
   "id": "59332df0",
   "metadata": {},
   "source": [
    "### Common concepts"
   ]
  },
  {
   "cell_type": "markdown",
   "id": "20ce6035",
   "metadata": {},
   "source": [
    "* Programmes consist of the same basic 'building blocks' assembled in different ways to achieve a particular goal:  \n",
    "    * variables, data types, sequences, selection, and iteration.\n",
    "    * Comparing and manipulation and decision-making.\n",
    "    * Logical, relation, arithmetic operators, and error-checking.\n",
    "    * Randomness can be simulated e.g. selecting a random number or item from a list.\n",
    "* Precise instructions: \n",
    "    * Computers follow code exactly.\n",
    "    * If we don't see the result we were expecting, that means there's an error somewhere!"
   ]
  },
  {
   "cell_type": "markdown",
   "id": "7a80de48",
   "metadata": {},
   "source": [
    "### Errors  "
   ]
  },
  {
   "cell_type": "markdown",
   "id": "9a5765c0",
   "metadata": {},
   "source": [
    "There are two main types of error to watch out for:\n",
    "\n",
    "Syntax errors:\n",
    "* Correct syntax is critical.\n",
    "* Computers do not \"guess\" how to run a programme\n",
    "* They follow instructions exactly as written. If they cannot, the programme will halt.\n",
    "\n",
    "Logical errors:\n",
    "* Code might run without apparent error.\n",
    "* Execution might not be as expected, e.g. incorrect mathematicals.\n",
    "* Much harder to debug!\n",
    "* Both examples below run without errors, but only one gives the correct result.\n",
    "* It's a very simple example, but imagine the problems it could cause in a more complicated equation!"
   ]
  },
  {
   "cell_type": "code",
   "execution_count": null,
   "id": "6af496c4",
   "metadata": {},
   "outputs": [
    {
     "name": "stdout",
     "output_type": "stream",
     "text": [
      "Two plus one is: 3\n"
     ]
    }
   ],
   "source": [
    "# add two numbers together\n",
    "x = 2 + 1 # this is the intended calculation\n",
    "print('Two plus one is:', x)"
   ]
  },
  {
   "cell_type": "code",
   "execution_count": null,
   "id": "9fff4493",
   "metadata": {},
   "outputs": [
    {
     "name": "stdout",
     "output_type": "stream",
     "text": [
      "Two plus one is: 1\n"
     ]
    }
   ],
   "source": [
    "# add two numbers together\n",
    "x = 2 - 1 # this one has an accidental minus sign instead of a plus\n",
    "print('Two plus one is:', x)"
   ]
  },
  {
   "cell_type": "markdown",
   "id": "9ac2adb6",
   "metadata": {},
   "source": [
    "### Important notes about Python syntax"
   ]
  },
  {
   "cell_type": "markdown",
   "id": "dc84eef5",
   "metadata": {},
   "source": [
    "* Python is case-sensitive. __Code will not work without correct case__.\n",
    "* Text values need to be in double quotations (e.g. \"text\"); numbers do not.\n",
    "* Variable name cannot be any Python reserved keywords e.g. print, input, etc.\n",
    "* Files cannot be saved using Python reserved keywords.\n",
    "* Comments can be used to explain code:\n",
    "    * Start the line with __#__\n",
    "    * Lines starting with __#__ will not be run.\n",
    "    * Comments provide clarification of a function or variable to the human coder.\n",
    "PEP8 is the official style guide for Python code.\n",
    "* Documentation: https://peps.python.org/pep-0008/\n",
    "* Employers will often require the use of a styling code\n",
    "* Best practice for readable, consistent code\n",
    "Indentation:\n",
    "* Avoid using tabs - not all platforms will read tabs correctly. \n",
    "* Use 4 spaces per indentation level (will be read by all platforms correctly).\n",
    "Line length:\n",
    "* Limit all lines to a maximum of 79 characters, so everything can be seen in the same size panel.\n",
    "Blank lines:\n",
    "* Surround top-level function and class definition with two blank lines.\n",
    "Naming conventions:\n",
    "* Use different naming styles for different types of objects:\n",
    "    * Functions and variables use 'Python case' - lower_case_with_underscores.\n",
    "    * Classes use CapitalisedWords.\n",
    "Whitespace:\n",
    "* Use whitespace in expressions and statements to improve readability.\n",
    "* Don't add too much whitespace if it's not helping to make your code more readable!"
   ]
  },
  {
   "cell_type": "markdown",
   "metadata": {},
   "source": [
    "### Data types  "
   ]
  },
  {
   "cell_type": "markdown",
   "id": "3b71c718",
   "metadata": {},
   "source": [
    "Python has built-in data types:\n",
    "* Integer `<int>`\n",
    "    * Whole numbers - 1, 2, 3, etc.\n",
    "* Floating-point numbers `<float>`\n",
    "    * Decimal numbers e.g. 3.14 or 2.7.\n",
    "* Strings `<str>`\n",
    "    * Text or a sequence of characters e.g. \"Hello world\".\n",
    "* Booleans `<bool>`\n",
    "    * True or False.\n",
    "* Lists\n",
    "    * A collection of values in a single variable.\n",
    "* Dictionaries `<dict>`\n",
    "    * Stored key-value pairs in a single variable.\n",
    "\n",
    "There are more data types available: tuples, sets, objects, and classes. We will get to those!\n",
    "\n",
    "We can discover the data type of a variable *x* by calling `type(x)`.  \n",
    "Try this with the examples listed below."
   ]
  },
  {
   "cell_type": "code",
   "execution_count": 5,
   "id": "ac87997c",
   "metadata": {},
   "outputs": [
    {
     "data": {
      "text/plain": [
       "int"
      ]
     },
     "execution_count": 5,
     "metadata": {},
     "output_type": "execute_result"
    }
   ],
   "source": [
    "myvar1 = 7\n",
    "myvar2 = 1.4\n",
    "myvar3 = \"hello\"\n",
    "myvar4 = True \n",
    "myvar5 = [1,2,3,4,5]\n",
    "myvar6 = {\"a\": 1, \"b\": 2, \"c\": 3}\n",
    "\n",
    "type(myvar1)"
   ]
  },
  {
   "cell_type": "markdown",
   "id": "8347e4cc",
   "metadata": {},
   "source": [
    "### Variables"
   ]
  },
  {
   "cell_type": "markdown",
   "id": "f16fbc40",
   "metadata": {},
   "source": [
    "* A variable is a container for a value.\n",
    "* The value can change during the programme execution.\n",
    "* Can be named almost anything (but not a Python-reserved keyword).\n",
    "* Variable names:\n",
    "    * Must be unique.\n",
    "    * Must start with a letter, not a number.\n",
    "    * Must have no spaces.\n",
    "* Assignment operator `=`\n",
    "    * A single equals sign is used to assign a variable.\n",
    "* Variable type assignment is automatic.\n",
    "* Other programming languages might require definition of type."
   ]
  },
  {
   "cell_type": "code",
   "execution_count": 6,
   "id": "742f0f7c",
   "metadata": {},
   "outputs": [],
   "source": [
    "# assigning a variable  \n",
    "id = 1009\n",
    "name = \"Mike\"\n",
    "linked = True "
   ]
  },
  {
   "cell_type": "markdown",
   "id": "924094de",
   "metadata": {},
   "source": [
    "#### Changing variables  \n",
    "* The value can change during the programme execution.\n",
    "* Variables only hold one value at a time.\n",
    "* New data placed into a variable will overwrite the last data.\n",
    "\n",
    "Example: Keeping track of a game score\n",
    "* Score starts at zero.\n",
    "* Player gains 1 point. We take the current score and add 1.\n",
    "* The new score is still stored in the `score` variable.\n",
    "* The value in `score` increases by 1"
   ]
  },
  {
   "cell_type": "code",
   "execution_count": 7,
   "id": "dcda8055",
   "metadata": {},
   "outputs": [
    {
     "name": "stdout",
     "output_type": "stream",
     "text": [
      "Starting score: 0\n",
      "New score: 1\n"
     ]
    }
   ],
   "source": [
    "# starting score \n",
    "score = 0\n",
    "print(\"Starting score:\", score)\n",
    "\n",
    "# player earns a point \n",
    "score = score + 1 \n",
    "print(\"New score:\", score)"
   ]
  },
  {
   "cell_type": "markdown",
   "id": "5c080228",
   "metadata": {},
   "source": [
    "#### Type Casting\n",
    "* The process of converting one type of variable to another data type.\n",
    "* Code might not return values in a type you need e.g. needs to be a number to perform mathematical logic.\n",
    "* Two types of casting:\n",
    "    * Implicit - Python automatically converts between types.\n",
    "    * Explicit - the user converts the data types.\n",
    "* Constructor functions are premade functions already available to type cast.\n",
    "    * `int()`\n",
    "    * `float()`\n",
    "    * `str()`"
   ]
  },
  {
   "cell_type": "code",
   "execution_count": 8,
   "id": "8b4a3460",
   "metadata": {},
   "outputs": [
    {
     "name": "stdout",
     "output_type": "stream",
     "text": [
      "5.0\n"
     ]
    }
   ],
   "source": [
    "# int to float\n",
    "num = 5\n",
    "num = float(num)\n",
    "print(num)"
   ]
  },
  {
   "cell_type": "code",
   "execution_count": 9,
   "id": "2b38e49e",
   "metadata": {},
   "outputs": [
    {
     "name": "stdout",
     "output_type": "stream",
     "text": [
      "6\n"
     ]
    }
   ],
   "source": [
    "# float to int\n",
    "num = 6.0\n",
    "num = int(num)\n",
    "print(num)"
   ]
  },
  {
   "cell_type": "code",
   "execution_count": 10,
   "id": "d67f1b9c",
   "metadata": {},
   "outputs": [
    {
     "name": "stdout",
     "output_type": "stream",
     "text": [
      "34\n"
     ]
    }
   ],
   "source": [
    "# str to int\n",
    "text = \"34\"\n",
    "num = int(text)\n",
    "print(num)"
   ]
  },
  {
   "cell_type": "markdown",
   "id": "09d2cff3",
   "metadata": {},
   "source": [
    "### Operators"
   ]
  },
  {
   "cell_type": "markdown",
   "id": "f34903a1",
   "metadata": {},
   "source": [
    "#### Input / Output Operators (I/O)\n",
    "* Input from the user\n",
    "* Output to display\n",
    "    * `print()` function shows a message on screen.\n",
    "    * `\\n` is used as a line break.\n",
    "    * `print()` function can also utilise variable names."
   ]
  },
  {
   "cell_type": "code",
   "execution_count": 11,
   "id": "d613354a",
   "metadata": {},
   "outputs": [
    {
     "name": "stdout",
     "output_type": "stream",
     "text": [
      "You entered: \n",
      " hello there\n"
     ]
    }
   ],
   "source": [
    "textValue = input(\"Enter a text value: \")\n",
    "print(\"You entered: \\n\", textValue)"
   ]
  },
  {
   "cell_type": "markdown",
   "id": "f30efec8",
   "metadata": {},
   "source": [
    "__NOTE__: Input will be treated as `string` type by default.\n",
    "* We can typecast the string to type `int`.\n",
    "    * Wrap the `input()` function with the `int()` function.\n",
    "    * Nesting functions, the same as we did in Excel."
   ]
  },
  {
   "cell_type": "code",
   "execution_count": 12,
   "id": "d7c30a12",
   "metadata": {},
   "outputs": [
    {
     "name": "stdout",
     "output_type": "stream",
     "text": [
      "Your number is: 42\n"
     ]
    }
   ],
   "source": [
    "numValue = int(input(\"enter a number: \"))\n",
    "print(\"Your number is:\", numValue)"
   ]
  },
  {
   "cell_type": "markdown",
   "id": "c801c2af",
   "metadata": {},
   "source": [
    "#### Mathematical Operators"
   ]
  },
  {
   "cell_type": "markdown",
   "id": "e811ce68",
   "metadata": {},
   "source": [
    "* `+`   Add\n",
    "* `-`   Subtract\n",
    "* `/`   Divide\n",
    "* `*`   Multiply"
   ]
  },
  {
   "cell_type": "markdown",
   "id": "07010329",
   "metadata": {},
   "source": [
    "#### Logical Operators"
   ]
  },
  {
   "cell_type": "markdown",
   "id": "d2af1e4d",
   "metadata": {},
   "source": [
    "Logical operators - evaluate multiple relational expressions to return a single value.\n",
    "* `and` If all conditions evaluate to `True`, the result will be `True`.\n",
    "* `or`  IF one or more conditions evaluate to `True`, the reuslt will be `True`.\n",
    "* `not` Reverses whatever the inner condition's result was. If it was `True`, then the result will be `False` etc.\n",
    "* Evaluate multiple relational expressions to return a single value"
   ]
  },
  {
   "cell_type": "markdown",
   "id": "92be961f",
   "metadata": {},
   "source": [
    "#### Comparison operators"
   ]
  },
  {
   "cell_type": "markdown",
   "id": "58bc5e2b",
   "metadata": {},
   "source": [
    "Used to compare two values.\n",
    "\n",
    "* `<`   'Is less than'\n",
    "* `<=`  'Is less than or equal to'\n",
    "* `>`   'Is greater than'  \n",
    "* `>=`  'Is greater than or equal to'  \n",
    "* `==`  'Is equal to'\n",
    "* `!=`  'Is not equal to'"
   ]
  },
  {
   "cell_type": "markdown",
   "id": "c6feafc8",
   "metadata": {},
   "source": [
    "#### Using them all together"
   ]
  },
  {
   "cell_type": "code",
   "execution_count": null,
   "id": "8e6053f5",
   "metadata": {},
   "outputs": [
    {
     "name": "stdout",
     "output_type": "stream",
     "text": [
      "Both x and y are positive.\n",
      "Either x is positive, or y is negative, or both.\n",
      "x is not negative.\n"
     ]
    }
   ],
   "source": [
    "x = 5\n",
    "y = 10\n",
    "\n",
    "# AND\n",
    "if x > 0 and y > 0:\n",
    "    print(\"Both x and y are positive.\")\n",
    "\n",
    "# OR\n",
    "if x > 0 or y < 0:\n",
    "    print(\"Either x is positive, or y is negative, or both.\")\n",
    "\n",
    "# NOT\n",
    "if not(x < 0):\n",
    "    print(\"x is not negative.\")"
   ]
  },
  {
   "cell_type": "markdown",
   "id": "b5f6bcb4",
   "metadata": {},
   "source": [
    "* Brackets  \n",
    "    * Clarify the order that we want things to happen in. \n",
    "    * If there are no brackets, Python will apply the default order of operations.\n",
    "* Order of operations:\n",
    "    * NOT\n",
    "    * AND\n",
    "    * OR"
   ]
  },
  {
   "cell_type": "code",
   "execution_count": 14,
   "id": "65867fc1",
   "metadata": {},
   "outputs": [
    {
     "name": "stdout",
     "output_type": "stream",
     "text": [
      "Either both x and y are positive, or z is negative, or both.\n",
      "Neither x nor y is negative.\n"
     ]
    }
   ],
   "source": [
    "x = 5\n",
    "y = 10\n",
    "z = -2\n",
    "\n",
    "if (x > 0 and y > 0) or z < 0:\n",
    "    print(\"Either both x and y are positive, or z is negative, or both.\")\n",
    "\n",
    "if not (x < 0 or y < 0):\n",
    "    print(\"Neither x nor y is negative.\")"
   ]
  },
  {
   "cell_type": "markdown",
   "id": "c57761f3",
   "metadata": {},
   "source": [
    "## Task 1: Getting started"
   ]
  },
  {
   "cell_type": "markdown",
   "id": "a60e860e",
   "metadata": {},
   "source": [
    "1. Set up VSCode\n",
    "    * Install VSCode and Python if you have not already\n",
    "    * Create a folder for your classwork outside of the downloads folder\n",
    "    * Open the folder in VSCode\n",
    "\n",
    "2. Download and open the 'Introduction to Python Tasks ipynb' notebook\n",
    "    * Click play on the first box and install recommended packages\n",
    "\n",
    "3. Follow all the 'Task 1' sections in the notebook\n",
    "\n",
    "4. Optional: Read up on PEP8 styling for Python."
   ]
  },
  {
   "cell_type": "markdown",
   "id": "9c6937b0",
   "metadata": {},
   "source": [
    "## Selection"
   ]
  },
  {
   "cell_type": "markdown",
   "id": "d86ad349",
   "metadata": {},
   "source": [
    "#### Algorithms"
   ]
  },
  {
   "cell_type": "markdown",
   "id": "2d771692",
   "metadata": {},
   "source": [
    "An algorithm is a sequence of precise instructions to complete a specific task \n",
    "* List of rules or constraints.\n",
    "* Execution order\n",
    "    * Rules define execution order and limitations.\n",
    "* Conditionals\n",
    "    * Divert code execution.\n",
    "    * Enable automation.\n",
    "* Standard algorithms available:\n",
    "    * Sorting a list.\n",
    "    * Searching a list.\n",
    "\n",
    "Real world algorithm examples\n",
    "* Instructions for brushing your teeth.\n",
    "* Following a recipe to bake a cake.\n",
    "* Making a hot drink, like a cup of tea.\n",
    "* Directions to a friend's house."
   ]
  },
  {
   "cell_type": "markdown",
   "id": "3b175583",
   "metadata": {},
   "source": [
    "#### Conditional Programming"
   ]
  },
  {
   "cell_type": "markdown",
   "id": "c209e897",
   "metadata": {},
   "source": [
    "* Conditional programming is a fundamental concept used in almost all programming languages.\n",
    "* Conditional programming is used to control the flow of a programme.\n",
    "* Allows the programme to make decisions based on certain conditions.\n",
    "* Actions performed dependent on the input, and the state of the programme.\n",
    "* Useful for creating programmes that can handle a variety of situations.\n",
    "\n",
    "Example 1: A tax calculation programme might use conditional statements to apply different tax rates.  \n",
    "\n",
    "Example 2: A login system checks whether the user has entered the correct password. If yes, the user logs in. If no, the user will see an error message."
   ]
  },
  {
   "cell_type": "code",
   "execution_count": null,
   "id": "dc4453fd",
   "metadata": {},
   "outputs": [
    {
     "name": "stdout",
     "output_type": "stream",
     "text": [
      "This message is printed because x is positive.\n",
      "This message is printed regardless of the result.\n",
      "x is neither negative nor positive.\n"
     ]
    }
   ],
   "source": [
    "# if, elif, else  \n",
    "\n",
    "x = 5 # assign a variable and set its value\n",
    "\n",
    "if x > 0: # this is the condition we are evaluating\n",
    "    print(\"This message is printed because x is positive.\") # we only do this if the condition evaluates to true\n",
    "print(\"This message is printed regardless of the result.\") # this is outside the 'if' statement so it is printed either way\n",
    "\n",
    "# elif and else statements let us create alternative tests or conditions in our code \n",
    "# elif gives us an extra 'if' statement if we have more than one condition to test\n",
    "# else is the final alternative or default e.g. the result if none of the other conditions evaluate to true\n",
    "\n",
    "x = 0\n",
    "\n",
    "if x > 0:\n",
    "    print(\"x is positive.\")\n",
    "elif x < 0:\n",
    "    print(\"x is negative.\")\n",
    "else:\n",
    "    print(\"x is neither negative nor positive.\")"
   ]
  },
  {
   "cell_type": "code",
   "execution_count": 20,
   "id": "a8b398a0",
   "metadata": {},
   "outputs": [
    {
     "name": "stdout",
     "output_type": "stream",
     "text": [
      "Grade: D\n"
     ]
    }
   ],
   "source": [
    "# a longer example \n",
    "x = int(input(\"Enter the score:\"))\n",
    "\n",
    "if x >= 90:\n",
    "    print(\"Grade: A\")\n",
    "elif x >= 80:\n",
    "    print(\"Grade: B\")\n",
    "elif x >= 70:\n",
    "    print(\"Grade: C\")\n",
    "elif x >= 60:\n",
    "    print(\"Grade: D\")\n",
    "else:\n",
    "    print(\"Grade: F\")"
   ]
  },
  {
   "cell_type": "markdown",
   "id": "6fb7b396",
   "metadata": {},
   "source": [
    "#### Case switching "
   ]
  },
  {
   "cell_type": "code",
   "execution_count": null,
   "id": "311dbb94",
   "metadata": {},
   "outputs": [
    {
     "name": "stdout",
     "output_type": "stream",
     "text": [
      "Bad request\n"
     ]
    }
   ],
   "source": [
    "# after Python 3.10 we can also use case switching in this scenario\n",
    "# involves less typing and produces cleaner code\n",
    "# therefore less chances of operator error\n",
    "\n",
    "error_code = 400\n",
    "\n",
    "match error_code:\n",
    "    case 400:\n",
    "        print(\"Bad request\")\n",
    "    case 401:\n",
    "        print(\"Unauthorised\")\n",
    "    case 403:\n",
    "        print(\"Forbidden\")\n",
    "    case 404:\n",
    "        print(\"Page not found\")\n",
    "    case \"timeout\":\n",
    "        print(\"Timeout error\")\n",
    "    case _: # hree the underscore '_' acts like a wildcard, or like the 'else' statement in the previous method\n",
    "        print(\"Unknown error\")\n"
   ]
  },
  {
   "cell_type": "markdown",
   "id": "80d3179b",
   "metadata": {},
   "source": [
    "* Selection:\n",
    "    * A programming concept\n",
    "    * Allows a programme to choose which instructions to execute\n",
    "    * Allows more complex behaviour\n",
    "    * Controls flow of programme execution\n",
    "\n",
    "* Control statements:\n",
    "    * if, elif, else\n",
    "\n",
    "* Evaluates condition\n",
    "    * Execute different blocks of code depending on condition result\n",
    "        * True or False"
   ]
  },
  {
   "cell_type": "code",
   "execution_count": 4,
   "id": "eb3db950",
   "metadata": {},
   "outputs": [
    {
     "name": "stdout",
     "output_type": "stream",
     "text": [
      "42\n"
     ]
    }
   ],
   "source": [
    "# conditional evaluation \n",
    "\n",
    "number = 42\n",
    "if number > 5: # we set the value to 42, so this resolves to 'True'\n",
    "    print(number)\n",
    "else:\n",
    "    print(\"Too low!\")\n",
    "\n",
    "# try changing the value of 'number' at the beginning of the script "
   ]
  },
  {
   "cell_type": "markdown",
   "id": "ee1e7596",
   "metadata": {},
   "source": [
    "* Iteration programming is a fundamental concept used in almost all programmes.\n",
    "    * Repetition of a block of code.\n",
    "    * Code reuse = less typing!\n",
    "* Loops\n",
    "    * `for`\n",
    "        * Test condition is a counter, e.g. counter < 5.\n",
    "        * Definite iteration - a set number of loops, predefined.\n",
    "    * `while`\n",
    "        * Test condition is a counter, e.g. number < 5.\n",
    "        * Indefinite iteration. This means it's easy to cause an infinite loop if the condition is never met!"
   ]
  },
  {
   "cell_type": "code",
   "execution_count": 5,
   "id": "0e863d5b",
   "metadata": {},
   "outputs": [
    {
     "name": "stdout",
     "output_type": "stream",
     "text": [
      "The number is now 0\n",
      "The number is now 1\n",
      "The number is now 2\n",
      "The number is now 3\n",
      "The number is now 4\n",
      "The number is now 5\n",
      "The number is now 6\n",
      "The number is now 7\n",
      "The number is now 8\n",
      "The number is now 9\n"
     ]
    }
   ],
   "source": [
    "# a simple for loop \n",
    "\n",
    "for i in range(10):\n",
    "    print(\"The number is now\", i)"
   ]
  },
  {
   "cell_type": "code",
   "execution_count": 8,
   "id": "e0d3058a",
   "metadata": {},
   "outputs": [
    {
     "name": "stdout",
     "output_type": "stream",
     "text": [
      "The counter is at 0\n",
      "The counter is at 1\n",
      "The counter is at 2\n",
      "The counter is at 3\n",
      "The counter is at 4\n",
      "The counter is at 5\n",
      "The counter is at 6\n",
      "The counter is at 7\n",
      "The counter is at 8\n",
      "The counter is at 9\n",
      "The counter is at 10\n"
     ]
    }
   ],
   "source": [
    "# and a simple while loop \n",
    "i = 0\n",
    "while i <= 10:\n",
    "    print(\"The counter is at\", i)\n",
    "    i = i + 1"
   ]
  },
  {
   "cell_type": "markdown",
   "id": "4d1fdddf",
   "metadata": {},
   "source": [
    "## Task 2: Selection\n",
    "1. Return to the 'Introduction to Python.ipynb' notebook\n",
    "\n",
    "2. Follow all the 'Task 2' sections in the notebook\n",
    "\n",
    "Optional: Read up on f strings and implement an example."
   ]
  },
  {
   "cell_type": "markdown",
   "id": "a22a71b8",
   "metadata": {},
   "source": [
    "## Data Structures"
   ]
  },
  {
   "cell_type": "markdown",
   "id": "aced1a20",
   "metadata": {},
   "source": [
    "* Data structures are a way of organising and storing data in a computer.\n",
    "* They allow data to be accessed and used efficiently.\n",
    "* Different types of data structures are suited to different kinds of applications.\n",
    "* Common data structures include arrays, lists, stacks, queues, trees, graphs, and hash tables.\n",
    "* Each data structure has its own advantages and disadvantages (this could be a whole course by itself!)\n",
    "* Programmers need to consider how data is stored in programmes to access and manipulate it.\n",
    "* Data structures can be thought of as containers that store collections of data."
   ]
  },
  {
   "cell_type": "markdown",
   "id": "f64e2bdd",
   "metadata": {},
   "source": [
    "#### Data Structures in Python\n",
    "* `list`: A list object is an ordered collection of one or more items of data, this does not need to be all the same type, but must be put in square brackets.\n",
    "* `tuple`: A tuple object is n ordered collection of one or more items of data, this does not need to be all the same type, but must be put in parantheses.\n",
    "* `set`: A set is a collection of items that is unordered and unindexed. Sets do not allow duplicate items.\n",
    "* `dict`: A dictionary object is an unordered collection of data in a key:value pair form. A collection of such pairs is enclosed in curly brackets."
   ]
  },
  {
   "cell_type": "markdown",
   "id": "67dd9850",
   "metadata": {},
   "source": [
    "#### Data types vs data structures  \n",
    "* Primitive data types store single values.\n",
    "* Complex data structures allow for more sophisticated organisation and manipulation of data."
   ]
  },
  {
   "cell_type": "code",
   "execution_count": 30,
   "id": "1e55e082",
   "metadata": {},
   "outputs": [],
   "source": [
    "# primitive data typoes store single values\n",
    "x = 5 # integer \n",
    "y = True # boolean\n",
    "\n",
    "# complex data structures store collections of values\n",
    "# static data structures (e.g. lists, tuples) and dynamic data structures (e.g. dictionaries)\n",
    "# provide methods  e.g. adding, removing, and traversing data\n",
    "weekdays = (\"Monday\", \"Tuesday\", \"Wednesday\", \"Thursday\", \"Friday\")\n",
    "contacts = {\n",
    "    \"John\": \"555-1234\",\n",
    "    \"Jane\": \"555-5678\"\n",
    "}"
   ]
  },
  {
   "cell_type": "markdown",
   "id": "8fec40b6",
   "metadata": {},
   "source": [
    "#### Lists\n",
    "* Lists are a built-in, ordered, and mutable data type in Python.\n",
    "* __Mutable__ means we can change its content without changing its identity.\n",
    "* Can store items of different data types, including other lists.\n",
    "* Lists are created using square brackets [] or the list() constructor.\n",
    "* Common operations include:\n",
    "    * Indexing\n",
    "    * Slicing\n",
    "    * Appending\n",
    "    * Inserting\n",
    "    * Removing\n",
    "    * Sorting"
   ]
  },
  {
   "cell_type": "code",
   "execution_count": null,
   "id": "912198af",
   "metadata": {},
   "outputs": [
    {
     "name": "stdout",
     "output_type": "stream",
     "text": [
      "[1, 2, 3, 4, 5]\n",
      "First: 1 , last: 5\n",
      "added something [1, 2, 3, 4, 5, 6]\n",
      "Inserted something [0, 1, 2, 3, 4, 5, 6]\n",
      "Removed something [0, 1, 2, 4, 5, 6]\n",
      "Deleted something [0, 2, 4, 5, 6]\n",
      "List length: 5\n",
      "Sorted: [0, 2, 4, 5, 6]\n",
      "Reversed: [6, 5, 4, 2, 0]\n",
      "Iterating:\n",
      "6\n",
      "5\n",
      "4\n",
      "2\n",
      "0\n"
     ]
    }
   ],
   "source": [
    "my_list = [1, 2, 3, 4, 5]\n",
    "print(my_list)\n",
    "\n",
    "# access elements by index \n",
    "first_element = my_list[0]\n",
    "last_element = my_list[-1]\n",
    "print(\"First:\", first_element, \", last:\", last_element) \n",
    "\n",
    "# add an element to the end of a list\n",
    "my_list.append(6)\n",
    "print(\"Added something\", my_list)\n",
    "\n",
    "# insert an element at a specific position\n",
    "my_list.insert(0,0)\n",
    "print(\"Inserted something\", my_list)\n",
    "\n",
    "# remove an element from the list\n",
    "my_list.remove(3)\n",
    "print(\"Removed something\", my_list)\n",
    "\n",
    "# remove an element by index \n",
    "del my_list[1]\n",
    "print(\"Deleted something\", my_list)\n",
    "\n",
    "# get the length of hte list\n",
    "length = len(my_list)\n",
    "print(\"List length:\", length)\n",
    "\n",
    "# sort the list in ascending order \n",
    "my_list.sort()\n",
    "print(\"Sorted:\", my_list)\n",
    "\n",
    "# reverse the order of the list \n",
    "my_list.reverse()\n",
    "print(\"Reversed:\", my_list)\n",
    "\n",
    "# iterate over the elements in the list\n",
    "print(\"Iterating:\")\n",
    "for element in my_list:\n",
    "    print(element)"
   ]
  },
  {
   "cell_type": "markdown",
   "id": "9214c5d6",
   "metadata": {},
   "source": [
    "#### Tuples\n",
    "* Tuples are a built-in, ordered, and immutable data type.\n",
    "* Can store items of different data types.\n",
    "* Tuples are created using parantheses () or the Tuple() constructor.\n",
    "* Common operations include:\n",
    "    * Indexing\n",
    "    * Slicing"
   ]
  },
  {
   "cell_type": "code",
   "execution_count": 38,
   "id": "8065c2fa",
   "metadata": {},
   "outputs": [
    {
     "name": "stdout",
     "output_type": "stream",
     "text": [
      "First: 1 , last: 5\n",
      "New tuple: (1, 2, 3, 4, 5, 6)\n",
      "Length: 6\n",
      "Iterating:\n",
      "1\n",
      "2\n",
      "3\n",
      "4\n",
      "5\n",
      "6\n"
     ]
    }
   ],
   "source": [
    "my_tuple = (1,2,3,4,5)\n",
    "\n",
    "# access elements by index \n",
    "first_element = my_tuple[0]\n",
    "last_element = my_tuple[-1]\n",
    "print(\"First:\", first_element, \", last:\", last_element)\n",
    "\n",
    "# tuples are immutable, so you cannot add or remove elements\n",
    "# however you can create a new tuple with the desired elements included\n",
    "my_tuple = my_tuple + (6,)\n",
    "print(\"New tuple:\", my_tuple)\n",
    "\n",
    "# get the length of the tuple\n",
    "length = len(my_tuple)\n",
    "print(\"Length:\", length)\n",
    "\n",
    "# iterate over the elements in the tuple\n",
    "print(\"Iterating:\")\n",
    "for element in my_tuple:\n",
    "    print(element)"
   ]
  },
  {
   "cell_type": "markdown",
   "id": "d1523d96",
   "metadata": {},
   "source": [
    "#### Sets\n",
    "* Sets are a built-in, unordered, and mutable data type.\n",
    "* Can store items of different data types.\n",
    "* Unique values only.\n",
    "* Sets are created using curly brackets {}\n",
    "* Common operations include:\n",
    "    * Adding\n",
    "    * Removing\n",
    "    * Checking for membership"
   ]
  },
  {
   "cell_type": "code",
   "execution_count": 39,
   "id": "53568832",
   "metadata": {},
   "outputs": [
    {
     "name": "stdout",
     "output_type": "stream",
     "text": [
      "{1, 2, 3, 4, 5}\n",
      "Added something: {1, 2, 3, 4, 5, 6}\n",
      "Removed something: {1, 2, 4, 5, 6}\n",
      "Is 4 a member of the set? True\n",
      "Length: 5\n",
      "Iterating:\n",
      "1\n",
      "2\n",
      "4\n",
      "5\n",
      "6\n"
     ]
    }
   ],
   "source": [
    "# create a set \n",
    "my_set = {1,2,3,4,5}\n",
    "print(my_set)\n",
    "\n",
    "# add an element to the set\n",
    "my_set.add(6)\n",
    "print(\"Added something:\", my_set)\n",
    "\n",
    "# remove an element from the set\n",
    "my_set.remove(3)\n",
    "print(\"Removed something:\", my_set)\n",
    "\n",
    "# check if an element is in the set\n",
    "is_member = 4 in my_set\n",
    "print(\"Is 4 a member of the set?\", is_member)\n",
    "\n",
    "# get the length of the set\n",
    "length = len(my_set)\n",
    "print(\"Length:\", length)\n",
    "\n",
    "# iterate over the elements in the set\n",
    "print(\"Iterating:\")\n",
    "for element in my_set:\n",
    "    print(element)"
   ]
  },
  {
   "cell_type": "markdown",
   "id": "fd836aac",
   "metadata": {},
   "source": [
    "#### Dictionaries\n",
    "* Dictionaries are a built-in, ordered, and mutable data type.\n",
    "* Store key-value pairs.\n",
    "    * Must be unique and hashable.\n",
    "    * Hash type would never change.\n",
    "* Dictionaries are created using curly brackets {} or the dict() constructor.\n",
    "* Common operations include:\n",
    "    * Adding\n",
    "    * Removing\n",
    "    * Accessing elements by key"
   ]
  },
  {
   "cell_type": "code",
   "execution_count": null,
   "id": "9678350c",
   "metadata": {},
   "outputs": [
    {
     "name": "stdout",
     "output_type": "stream",
     "text": [
      "{'one': 1, 'two': 2, 'three': 3}\n",
      "Added something: {'one': 1, 'two': 2, 'three': 3, 'four': 4}\n",
      "Removed sometihng: {'two': 2, 'three': 3, 'four': 4}\n",
      "Value is 2\n",
      "Length: 3\n",
      "Keys:\n",
      "two\n",
      "three\n",
      "four\n",
      "Values\n",
      "two\n",
      "three\n",
      "four\n",
      "{'two': 2, 'three': 3, 'four': 4, 'drink': 'coffee'}\n"
     ]
    }
   ],
   "source": [
    "# create a dictionary \n",
    "my_dict = {\"one\": 1, \"two\": 2, \"three\": 3}\n",
    "print(my_dict)\n",
    "\n",
    "# add a key-value pair to the dictionary\n",
    "my_dict[\"four\"] = 4\n",
    "print(\"Added something:\", my_dict)\n",
    "\n",
    "# remove a key-value pair from the dictionary \n",
    "del my_dict[\"one\"]\n",
    "print(\"Removed sometihng:\", my_dict)\n",
    "\n",
    "# access an element by key\n",
    "value = my_dict[\"two\"]\n",
    "print(\"Value is\", value)\n",
    "\n",
    "# get the length of the dictionary\n",
    "length = len(my_dict)\n",
    "print(\"Length:\", length)\n",
    "\n",
    "# iterate over the keys in the dictionary\n",
    "print(\"Iterating:\")\n",
    "for key in my_dict:\n",
    "    print(key)"
   ]
  },
  {
   "cell_type": "markdown",
   "id": "0087f688",
   "metadata": {},
   "source": [
    "### Task 3: Data Structures\n",
    "1. Return to the 'Introduction to Python Tasks.ipynb' notebook.\n",
    "2. Follow all the 'Task 3' sections in the notebook.\n",
    "\n",
    "Optional: Read up on slicing and implement an example."
   ]
  },
  {
   "cell_type": "markdown",
   "id": "e559d457",
   "metadata": {},
   "source": [
    "## Iteration\n"
   ]
  },
  {
   "cell_type": "markdown",
   "id": "14475ee8",
   "metadata": {},
   "source": [
    "* Iteration refers to repeating a step:\n",
    "    * Looping through a code block until a condition is matched\n",
    "    * Traversing elements of a collection one by one\n",
    "\n",
    "* There are 4 main types of loops in programming:\n",
    "    * For\n",
    "    * While\n",
    "    * Do while\n",
    "    * Repeat until\n",
    "\n",
    "* Python only includes For and While loops.\n",
    "    * For \n",
    "        * Iterate over elements\n",
    "            * A counter\n",
    "            * A group of elements\n",
    "    * While\n",
    "        * Loops until exit condition matched\n",
    "        * Easy to create infinite loop"
   ]
  },
  {
   "cell_type": "code",
   "execution_count": 45,
   "id": "050b1c30",
   "metadata": {},
   "outputs": [
    {
     "name": "stdout",
     "output_type": "stream",
     "text": [
      "0\n",
      "2\n",
      "4\n",
      "6\n",
      "8\n",
      "apple\n",
      "banana\n",
      "cherry\n"
     ]
    }
   ],
   "source": [
    "# FOR loop\n",
    "# iterate over a range of numbers from 0 to 10 with a step size of 2 \n",
    "for i in range(0,10,2):\n",
    "    print(i)\n",
    "\n",
    "# iterate over the elements in a list\n",
    "fruits = [\"apple\", \"banana\", \"cherry\"]\n",
    "for fruit in fruits:\n",
    "    print(fruit)"
   ]
  },
  {
   "cell_type": "code",
   "execution_count": null,
   "id": "5f1f9ddf",
   "metadata": {},
   "outputs": [],
   "source": [
    "# WHILE loop\n",
    "\n",
    "# a while loop will continue until an exit condition is matched\n",
    "# also known as a flag, rogue value, or sentinel \n",
    "# IMPORTANT: if you do not set an exit condition, your while loop will never end!\n",
    "again = \"yes\"\n",
    "\n",
    "while again == \"yes\":\n",
    "    print(\"Hello\")\n",
    "    again = input(\"Do you want to go again?\")"
   ]
  },
  {
   "cell_type": "markdown",
   "id": "bb6aeaa7",
   "metadata": {},
   "source": [
    "### Nested Loops\n",
    "* A nested loop is a loop that is inside another loop\n",
    "* Inner loop is executed each iteration of the outer loop\n",
    "* Inner loop can use the variables of the outer loop. This is called scope\n",
    "* Use case: iterate over multiple dimensions of data, such as a two-dimensional list\n",
    "* Order of nested loops can affect order of data processed\n",
    "* Can quickly become computationally expensive"
   ]
  },
  {
   "cell_type": "code",
   "execution_count": 46,
   "id": "d25a4d5f",
   "metadata": {},
   "outputs": [
    {
     "name": "stdout",
     "output_type": "stream",
     "text": [
      "1\n",
      "2\n",
      "3\n",
      "4\n",
      "5\n",
      "6\n",
      "7\n",
      "8\n",
      "9\n"
     ]
    }
   ],
   "source": [
    "# create a 2-dimensional list of numbers\n",
    "numbers = [[1,2,3], [4,5,6], [7,8,9]]\n",
    "\n",
    "# iterate over the rows of the list using an outer for loop\n",
    "for row in numbers:\n",
    "    # then iterate over the elements of each row using an inner for loop\n",
    "    for number in row:\n",
    "        print(number)"
   ]
  },
  {
   "cell_type": "code",
   "execution_count": null,
   "id": "1436ccad",
   "metadata": {},
   "outputs": [
    {
     "name": "stdout",
     "output_type": "stream",
     "text": [
      "1 * 1 = 1\n",
      "1 * 2 = 2\n",
      "1 * 3 = 3\n",
      "1 * 4 = 4\n",
      "1 * 5 = 5\n",
      "1 * 6 = 6\n",
      "1 * 7 = 7\n",
      "1 * 8 = 8\n",
      "1 * 9 = 9\n",
      "1 * 10 = 10\n",
      "2 * 1 = 2\n",
      "2 * 2 = 4\n",
      "2 * 3 = 6\n",
      "2 * 4 = 8\n",
      "2 * 5 = 10\n",
      "2 * 6 = 12\n",
      "2 * 7 = 14\n",
      "2 * 8 = 16\n",
      "2 * 9 = 18\n",
      "2 * 10 = 20\n",
      "3 * 1 = 3\n",
      "3 * 2 = 6\n",
      "3 * 3 = 9\n",
      "3 * 4 = 12\n",
      "3 * 5 = 15\n",
      "3 * 6 = 18\n",
      "3 * 7 = 21\n",
      "3 * 8 = 24\n",
      "3 * 9 = 27\n",
      "3 * 10 = 30\n"
     ]
    }
   ],
   "source": [
    "# a nested for loop to generate and print a multiplication (times) table\n",
    "for num in range(1,4):\n",
    "    for multiplier in range(1,11):\n",
    "        result = num * multiplier\n",
    "        print(f\"{num} * {multiplier} = {result}\")\n"
   ]
  },
  {
   "cell_type": "markdown",
   "id": "04b4409d",
   "metadata": {},
   "source": [
    "## Task 4: Loops\n",
    "1. Return to the 'Introduction to Python Tasks.ipynb' notebook\n",
    "2. Follow all the 'Task 4' sections in the notebook"
   ]
  },
  {
   "cell_type": "markdown",
   "id": "f0d2d27e",
   "metadata": {},
   "source": [
    "## Defining Functions"
   ]
  },
  {
   "cell_type": "markdown",
   "id": "b7a52929",
   "metadata": {},
   "source": [
    "### Subroutines\n",
    "* A subroutine is a sequence of programme instructions that performs a specific task.\n",
    "    * Packaged as a unit.\n",
    "    * Also known as procedure, function.\n",
    "* Breaks down a complex programme into smaller, more manageable parts.\n",
    "* Abstraction\n",
    "    * Details of how a subroutine works do not need to be known once written initially.\n",
    "* Can be called from other parts of the program.\n",
    "    * Code reuse\n",
    "* Takes input in the form of arguments.\n",
    "* Returns output in the form of a return value.\n",
    "* Makes code more readable and easier to maintain."
   ]
  },
  {
   "cell_type": "code",
   "execution_count": 49,
   "id": "19a42168",
   "metadata": {},
   "outputs": [
    {
     "data": {
      "text/plain": [
       "3"
      ]
     },
     "execution_count": 49,
     "metadata": {},
     "output_type": "execute_result"
    }
   ],
   "source": [
    "# define a function that adds two numbers\n",
    "\n",
    "def add(a, b):\n",
    "    return a + b \n",
    "\n",
    "# call the 'add' function and retunr the result\n",
    "add(1, 2)"
   ]
  },
  {
   "cell_type": "markdown",
   "id": "e3273954",
   "metadata": {},
   "source": [
    "### Procedures\n",
    "\n",
    "* A procedure is a named block of code that performs a specific task.\n",
    "* `print()` is a common example. No need to understand how it works, just know it will print to the screen.\n",
    "* Procedures do not return any value.\n",
    "* Procedures can be called by another part of a programme."
   ]
  },
  {
   "cell_type": "code",
   "execution_count": 50,
   "id": "816d1257",
   "metadata": {},
   "outputs": [
    {
     "name": "stdout",
     "output_type": "stream",
     "text": [
      "Please enter your name.\n",
      "Try again, Bob.\n",
      "Please enter your name.\n",
      "Try again, Bob.\n",
      "Please enter your name.\n",
      "Try again, Bob.\n",
      "Please enter your name.\n",
      "Hi, Bob!\n"
     ]
    }
   ],
   "source": [
    "print(\"Please enter your name.\")\n",
    "name = input()\n",
    "\n",
    "while name != \"Bob\":\n",
    "    print(\"Try again, Bob.\")\n",
    "    print(\"Please enter your name.\")\n",
    "    name = input()\n",
    "\n",
    "print(\"Hi, Bob!\")"
   ]
  },
  {
   "cell_type": "markdown",
   "id": "4c247157",
   "metadata": {},
   "source": [
    "### Functions\n",
    "* A function is defined using\n",
    "    * the `def` keyword,\n",
    "    * followed by the function name,\n",
    "    * and any arguments in parentheses.\n",
    "* There must be a colon `:` after the arguments.\n",
    "    * Start of a new block of code.\n",
    "    * Must be present.\n",
    "    * Automatic indentation benefit.\n",
    "* Use the `return` keyword to specify what to output from the function.  \n",
    "\n",
    "* The function is called by its name, followed by parentheses containing any arguments."
   ]
  },
  {
   "cell_type": "markdown",
   "id": "32f6a700",
   "metadata": {},
   "source": [
    "### Procedures vs Functions\n",
    "* Procedures and functions can be seen as interchangeable.\n",
    "* Industry does not always differentiate.\n",
    "\n",
    "* A function:\n",
    "    * Usually used for:\n",
    "        * Input,\n",
    "        * Performing a calculation,\n",
    "        * Returning one or more values.\n",
    "\n",
    "* A procedure:\n",
    "    * Used to create a function that returns no value,\n",
    "    * E.g. displaying information to the screen."
   ]
  },
  {
   "cell_type": "markdown",
   "id": "f322eea9",
   "metadata": {},
   "source": [
    "### Parameters\n",
    "\n",
    "* Data to pass to a subroutine.\n",
    "\n",
    "* Parameters are treated as local variables and can only be seen inside the function.\n",
    "\n",
    "* Parameters are the preferred way to share data and variables within a programme.\n",
    "\n",
    "* Global variables can be seen by the whole programme.\n",
    "    * Not good practice.\n",
    "    * Increases the risk of problems arising.\n",
    "    * Can be modified by other parts of the programme.\n",
    "        * Values might not be as expected."
   ]
  },
  {
   "cell_type": "markdown",
   "id": "d9347346",
   "metadata": {},
   "source": [
    "### Arguments\n",
    "* Arguments are the parameters passed to a procedure or function to accept when it is called.\n",
    "* The procedure arguments do not need to be the same name, but we will need to use the procedure's argument name inside the procedure\n",
    "* Number of arguments must match the number of parameters.\n",
    "* There are cases where arguments could be optional.\n",
    "* Some languages, inlcuding Python, allow a default value for arguments.\n",
    "\n",
    "Note: Like function and procedure are used interchangeably, argument and parameter are also used interchangeably."
   ]
  },
  {
   "cell_type": "code",
   "execution_count": 54,
   "id": "58b4290e",
   "metadata": {},
   "outputs": [
    {
     "name": "stdout",
     "output_type": "stream",
     "text": [
      "Hello, Bob!\n",
      "Hi, Fred!\n"
     ]
    }
   ],
   "source": [
    "def greet(name, greeting=\"Hello\"): # greeting has a default value of \"Hello\" but you can supply a different value if you want to.\n",
    "    return f'{greeting}, {name}!'\n",
    "\n",
    "print(greet (\"Bob\"))\n",
    "\n",
    "print(greet(\"Fred\", \"Hi\"))\n"
   ]
  },
  {
   "cell_type": "markdown",
   "id": "4ea68892",
   "metadata": {},
   "source": [
    "### Multiple parameters\n",
    "* When there are multiple parameters, the parameters are separated by a comma.\n",
    "* Order of the arguments is the order parameters are passed in.\n",
    "    * If number of parameters do not match number of arguments, we will encounter an error unless they have default values."
   ]
  },
  {
   "cell_type": "code",
   "execution_count": null,
   "id": "0c109df5",
   "metadata": {},
   "outputs": [
    {
     "data": {
      "text/plain": [
       "6"
      ]
     },
     "execution_count": 55,
     "metadata": {},
     "output_type": "execute_result"
    }
   ],
   "source": [
    "def volume(height, depth, width): # three parameters \n",
    "    return height * depth * width\n",
    "\n",
    "volume(1,2,3) # we call the function and supply three arguments "
   ]
  },
  {
   "cell_type": "markdown",
   "id": "d6d0430f",
   "metadata": {},
   "source": [
    "## Task 5: Subroutines\n",
    "\n",
    "1. Return to the 'Introduction to Python Tasks.ipnyb' notebook.\n",
    "\n",
    "2. Follow all the 'Task 5' sections in the notebook"
   ]
  },
  {
   "cell_type": "markdown",
   "id": "7370dff1",
   "metadata": {},
   "source": [
    "## Task 6: Random\n",
    "\n",
    "1. Return to the 'Introduction to Python Tasks.ipnyb' notebook.\n",
    "\n",
    "2. Follow all the 'Task 6' sections in the notebook."
   ]
  },
  {
   "cell_type": "markdown",
   "id": "f8994b4f",
   "metadata": {},
   "source": [
    "## Optional \n",
    "Not covered in the lesson, but here are some other useful functions."
   ]
  },
  {
   "cell_type": "markdown",
   "id": "a837e187-1ebb-4672-bdff-400e2bd61804",
   "metadata": {},
   "source": [
    "### Reading and writing to text files"
   ]
  },
  {
   "cell_type": "code",
   "execution_count": 42,
   "id": "ac6ad8f5-2720-4604-b0df-0301d0b7b7c1",
   "metadata": {},
   "outputs": [],
   "source": [
    "# open the file in write mode\n",
    "file = open('filename.txt', 'w')\n",
    "\n",
    "# if the file doesn;t exist it will be created\n",
    "# if the file does exist, a new file is created\n",
    "# overwriting the current one\n",
    "\n",
    "# write the string 'Hello world!' to file using the write() method\n",
    "file.write('hello world')\n",
    "\n",
    "# close the file using the close() method\n",
    "file.close()"
   ]
  },
  {
   "cell_type": "code",
   "execution_count": 43,
   "id": "cda8f5d4-628d-4cdc-ab9c-8ed179bb9e35",
   "metadata": {},
   "outputs": [
    {
     "name": "stdout",
     "output_type": "stream",
     "text": [
      "hello world\n"
     ]
    }
   ],
   "source": [
    "# open the file in read mode\n",
    "# may need to specify the relative path to the file if it's in a different directory\n",
    "# assign the file object to the variable 'file'\n",
    "try:\n",
    "    file = open('filename.txt', 'r')\n",
    "    # read the contents of the file using the read() method\n",
    "    # reads the entire contents of the file and returns it as a string\n",
    "    # assign the contents to the variable 'content'\n",
    "    content = file.read()\n",
    "    print(content)\n",
    "except:\n",
    "    print(\"can't find the file\")\n",
    "    # don't forget to close the file using the close() method\n",
    "    # if the file is left open it will be locked to other systems and users\n",
    "finally:\n",
    "    file.close()"
   ]
  },
  {
   "cell_type": "markdown",
   "id": "071655be-522a-4ad4-9976-2dc5b82d094a",
   "metadata": {},
   "source": [
    "### Working with data - CSV"
   ]
  },
  {
   "cell_type": "code",
   "execution_count": 21,
   "id": "3b38e265-ff12-4e48-b67e-56c4411b9db8",
   "metadata": {},
   "outputs": [
    {
     "name": "stdout",
     "output_type": "stream",
     "text": [
      "['John', '50000']\n",
      "['Jane', '60000']\n",
      "['Bob', '55000']\n",
      "['Alice', '65000']\n",
      "['Andy', '20000']\n",
      "['Grace', '24000']\n",
      "['Harold', '68000']\n",
      "['Xena', '120000']\n",
      "['Errol', '45000']\n",
      "['Barry', '10000']\n"
     ]
    }
   ],
   "source": [
    "# there is a library specifically for working with CSV\n",
    "import csv\n",
    "\n",
    "# the library includes methods for reading and writing to this type of file\n",
    "with open('Salaries.csv', 'r', newline='') as f:\n",
    "    reader = csv.reader(f)\n",
    "    for row in reader:\n",
    "        print(row)"
   ]
  },
  {
   "cell_type": "markdown",
   "id": "69e8e7ff-ef50-4df8-8e8e-1e215ddbf693",
   "metadata": {},
   "source": [
    "### Adding data to a file"
   ]
  },
  {
   "cell_type": "code",
   "execution_count": 20,
   "id": "db6f3095-75ed-4693-8683-bfeabb6d9306",
   "metadata": {},
   "outputs": [
    {
     "name": "stdout",
     "output_type": "stream",
     "text": [
      "Please enter the name:  Barry\n",
      "Please enter the salary:  10000\n"
     ]
    }
   ],
   "source": [
    "# Ask for the name\n",
    "employee_name = input(\"Please enter the name: \")\n",
    "\n",
    "# Ask for the salary value\n",
    "salary = input(\"Please enter the salary: \")\n",
    "\n",
    "# write the values to a new row in the file\n",
    "with open('Salaries.csv', 'a', newline='') as f:\n",
    "    writer = csv.writer(f)\n",
    "    writer.writerow([employee_name, salary])\n"
   ]
  },
  {
   "cell_type": "markdown",
   "id": "f4bdb908-4cd0-4e0e-9b85-54c61bd790df",
   "metadata": {},
   "source": [
    "### Using conditional logic"
   ]
  },
  {
   "cell_type": "code",
   "execution_count": 22,
   "id": "18ff98ce-8050-4f07-9b32-1e8f860781d2",
   "metadata": {},
   "outputs": [
    {
     "name": "stdout",
     "output_type": "stream",
     "text": [
      "John : Senior\n",
      "Jane : Senior\n",
      "Bob : Senior\n",
      "Alice : Senior\n",
      "Andy : Junior\n",
      "Grace : Junior\n",
      "Harold : Senior\n",
      "Xena : Senior\n",
      "Errol : Senior\n",
      "Barry : Junior\n"
     ]
    }
   ],
   "source": [
    "with open('Salaries.csv', 'r', newline='') as f:\n",
    "    reader = csv.reader(f)\n",
    "    for row in reader:\n",
    "        if int(row[1]) > 40000:\n",
    "            print(row[0], \": Senior\")\n",
    "        else:\n",
    "            print(row[0], \": Junior\")"
   ]
  },
  {
   "cell_type": "markdown",
   "id": "8a365c2f-c924-4660-aadd-6e113efa5aa8",
   "metadata": {},
   "source": [
    "### Creating functions"
   ]
  },
  {
   "cell_type": "code",
   "execution_count": 24,
   "id": "4dbfa057-bcc6-4b41-867f-8793cb7e1821",
   "metadata": {},
   "outputs": [],
   "source": [
    "def add_to_file():\n",
    "    name = input(\"Enter your name: \")\n",
    "    salary = input(\"Enter your salary: \")\n",
    "    with open('Salaries.csv', 'a', newline='') as f:\n",
    "        writer = csv.writer(f)\n",
    "        writer.writerow([name, salary])\n",
    "\n",
    "def view_all_records():\n",
    "    with open('Salaries.csv', 'r') as f:\n",
    "        reader = csv.reader(f)\n",
    "        for row in reader:\n",
    "            print(row)"
   ]
  },
  {
   "cell_type": "code",
   "execution_count": 25,
   "id": "9ea4e401-1e40-4de0-8cf4-2f8109c6daca",
   "metadata": {},
   "outputs": [
    {
     "name": "stdout",
     "output_type": "stream",
     "text": [
      "Enter your name:  Yvette\n",
      "Enter your salary:  40000\n"
     ]
    }
   ],
   "source": [
    "add_to_file()"
   ]
  },
  {
   "cell_type": "code",
   "execution_count": 26,
   "id": "b0c9d9c1-3716-488c-aa42-0561f8d2958a",
   "metadata": {},
   "outputs": [
    {
     "name": "stdout",
     "output_type": "stream",
     "text": [
      "['John', '50000']\n",
      "['Jane', '60000']\n",
      "['Bob', '55000']\n",
      "['Alice', '65000']\n",
      "['Andy', '20000']\n",
      "['Grace', '24000']\n",
      "['Harold', '68000']\n",
      "['Xena', '120000']\n",
      "['Errol', '45000']\n",
      "['Barry', '10000']\n",
      "['Yvette', '40000']\n"
     ]
    }
   ],
   "source": [
    "view_all_records()"
   ]
  },
  {
   "cell_type": "markdown",
   "id": "01a45c37-91ba-4a55-8382-86e19e35a4cb",
   "metadata": {},
   "source": [
    "### Using \"__ main __\""
   ]
  },
  {
   "cell_type": "code",
   "execution_count": 27,
   "id": "1fd75920-6981-4894-9ed2-73b5d7cce2bb",
   "metadata": {},
   "outputs": [
    {
     "name": "stdout",
     "output_type": "stream",
     "text": [
      "1) Add to file\n",
      "2) View all records\n",
      "3) Delete a record\n",
      "4) Quit program\n"
     ]
    },
    {
     "name": "stdout",
     "output_type": "stream",
     "text": [
      "Enter the number of your selection:  3\n",
      "Enter the name of the record to delete:  Barry\n"
     ]
    },
    {
     "name": "stdout",
     "output_type": "stream",
     "text": [
      "1) Add to file\n",
      "2) View all records\n",
      "3) Delete a record\n",
      "4) Quit program\n"
     ]
    },
    {
     "name": "stdout",
     "output_type": "stream",
     "text": [
      "Enter the number of your selection:  2\n"
     ]
    },
    {
     "name": "stdout",
     "output_type": "stream",
     "text": [
      "['John', '50000']\n",
      "['Jane', '60000']\n",
      "['Bob', '55000']\n",
      "['Alice', '65000']\n",
      "['Andy', '20000']\n",
      "['Grace', '24000']\n",
      "['Harold', '68000']\n",
      "['Xena', '120000']\n",
      "['Errol', '45000']\n",
      "['Yvette', '40000']\n",
      "1) Add to file\n",
      "2) View all records\n",
      "3) Delete a record\n",
      "4) Quit program\n"
     ]
    },
    {
     "name": "stdout",
     "output_type": "stream",
     "text": [
      "Enter the number of your selection:  4\n"
     ]
    }
   ],
   "source": [
    "import csv\n",
    "\n",
    "def add_to_file():\n",
    "    name = input(\"Enter your name: \")\n",
    "    salary = input(\"Enter your salary: \")\n",
    "    with open('Salaries.csv', 'a', newline='') as f:\n",
    "        writer = csv.writer(f)\n",
    "        writer.writerow([name, salary])\n",
    "\n",
    "def view_all_records():\n",
    "    with open('Salaries.csv', 'r') as f:\n",
    "        reader = csv.reader(f)\n",
    "        for row in reader:\n",
    "            print(row)\n",
    "\n",
    "# In Python, it is not technically possible to directly delete a record from a .csv file.\n",
    "# Instead you need to save the file to a temporary list in Python, \n",
    "# make the changes to the list, and then overwrite the original file \n",
    "# with the temporary list.\n",
    "\n",
    "def delete_a_record():\n",
    "    4 = input(\"Enter the name of the record to delete: \")\n",
    "    records = []\n",
    "    with open('Salaries.csv', 'r') as f:\n",
    "        reader = csv.reader(f)\n",
    "        for row in reader:\n",
    "            if row[0] != name_to_delete:\n",
    "                records.append(row)\n",
    "    with open('Salaries.csv', 'w', newline='') as f:\n",
    "        writer = csv.writer(f)\n",
    "        writer.writerows(records)\n",
    "\n",
    "def main(): # this will run first, creating a menu of options to access the other functions\n",
    "    while True:\n",
    "        print(\"1) Add to file\")\n",
    "        print(\"2) View all records\")\n",
    "        print(\"3) Delete a record\")\n",
    "        print(\"4) Quit program\")\n",
    "        choice = input(\"Enter the number of your selection: \")\n",
    "\n",
    "        if choice == '1':\n",
    "            add_to_file()\n",
    "        elif choice == '2':\n",
    "            view_all_records()\n",
    "        elif choice == '3':\n",
    "            delete_a_record()\n",
    "        elif choice == '4':\n",
    "            break\n",
    "        else:\n",
    "            print(\"Invalid selection. Please enter 1, 2, 3 or 4.\")\n",
    "\n",
    "if __name__ == \"__main__\":\n",
    "    main()"
   ]
  },
  {
   "cell_type": "markdown",
   "id": "c4ea3e3a-66aa-4bb9-ada9-fb43971e96d9",
   "metadata": {},
   "source": [
    "### Lambda functions"
   ]
  },
  {
   "cell_type": "code",
   "execution_count": null,
   "id": "f359377e-a2f4-4b02-8d94-e1b27f600b9f",
   "metadata": {},
   "outputs": [],
   "source": [
    "# small, anonynmous, single line functions\n",
    "# defined without a name\n",
    "# created with lambda keyword\n",
    "# often used fror short, one-time tasks\n",
    "\n",
    "#SYNTAX: lambda arguments: expression\n",
    "sum = lambda x, y: x + y"
   ]
  },
  {
   "cell_type": "code",
   "execution_count": null,
   "id": "6aa93946-cba1-451e-ad83-b2ae7c7d08bb",
   "metadata": {},
   "outputs": [],
   "source": [
    "# Call the lambda function with two numbers\n",
    "result = sum(5, 3)\n",
    "\n",
    "# Print the result\n",
    "print(result)"
   ]
  },
  {
   "cell_type": "markdown",
   "id": "18a615c7-7fd5-4bbb-9501-4bb3cd54df56",
   "metadata": {},
   "source": [
    "### Error handling"
   ]
  },
  {
   "cell_type": "code",
   "execution_count": null,
   "id": "1ce26832-5670-4482-84fd-9e6660d1ef82",
   "metadata": {},
   "outputs": [],
   "source": [
    "try: # if your code might raise an exception or error\n",
    "    num = int('abc') # put it insde a 'try' block\n",
    "except ValueError: # only executed if an expection is raised\n",
    "    print(\"That's not a valid number!\") # specifies what needs to happen if so\n",
    "finally: # is always executed\n",
    "    print(\"This message is printed no matter what.\") # the 'finally' block is usually used for clean up, closing files etc "
   ]
  },
  {
   "cell_type": "markdown",
   "id": "a645150c-a169-4016-bdf8-b8c9537ed39f",
   "metadata": {},
   "source": [
    "## Working with classes  \n",
    "Some more information on classes and how we use their characteristics in Object Oriented programming."
   ]
  },
  {
   "attachments": {
    "30cdd560-0400-4901-aa90-b72def7fbef3.png": {
     "image/png": "[encoded data removed]"
    }
   },
   "cell_type": "markdown",
   "id": "4ba6152c-442d-4588-84c1-d9734507f8eb",
   "metadata": {},
   "source": [
    "![image.png](attachment:30cdd560-0400-4901-aa90-b72def7fbef3.png)"
   ]
  },
  {
   "cell_type": "code",
   "execution_count": 28,
   "id": "bddab81a-5e9e-406f-9ac9-3f7a9f5209ff",
   "metadata": {},
   "outputs": [],
   "source": [
    "class Person: # Capital Letters for naming classes\n",
    "    def __init__(self, name, age): # a method to instantiate an object of this class\n",
    "        self.name = name # attribute - name \n",
    "        self.age = age # attribue - age\n",
    "\n",
    "    def __del__(self): # a method to delete an object of this class\n",
    "        print(f'{self.name} object has been deleted.')"
   ]
  },
  {
   "cell_type": "code",
   "execution_count": 29,
   "id": "d108719a-b54a-43cb-a90c-49534c48f835",
   "metadata": {},
   "outputs": [],
   "source": [
    "# Create an object of the Person class\n",
    "p = Person('John', 25)"
   ]
  },
  {
   "cell_type": "code",
   "execution_count": 36,
   "id": "c68782f0-2335-46d5-9fe1-6ee7bf96d199",
   "metadata": {},
   "outputs": [
    {
     "ename": "NameError",
     "evalue": "name 'p' is not defined",
     "output_type": "error",
     "traceback": [
      "\u001b[1;31m---------------------------------------------------------------------------\u001b[0m",
      "\u001b[1;31mNameError\u001b[0m                                 Traceback (most recent call last)",
      "Cell \u001b[1;32mIn[36], line 1\u001b[0m\n\u001b[1;32m----> 1\u001b[0m \u001b[43mp\u001b[49m\u001b[38;5;241m.\u001b[39mage\n",
      "\u001b[1;31mNameError\u001b[0m: name 'p' is not defined"
     ]
    }
   ],
   "source": [
    "p.age"
   ]
  },
  {
   "cell_type": "code",
   "execution_count": 32,
   "id": "c01ab59a-5b1d-45fc-a7c9-22f8ed6ce3e5",
   "metadata": {},
   "outputs": [],
   "source": [
    "s = Person('Sally', 41)"
   ]
  },
  {
   "cell_type": "code",
   "execution_count": 35,
   "id": "cc118e4f-4bb4-4223-a74e-dcca239e382e",
   "metadata": {},
   "outputs": [
    {
     "name": "stdout",
     "output_type": "stream",
     "text": [
      "John object has been deleted.\n"
     ]
    }
   ],
   "source": [
    "# Delete the object\n",
    "del p"
   ]
  },
  {
   "cell_type": "markdown",
   "id": "69a84edc-dc3a-4cd7-bb04-a7502415ac6a",
   "metadata": {},
   "source": [
    "### Inheritance"
   ]
  },
  {
   "cell_type": "code",
   "execution_count": 37,
   "id": "f701d3c5-fa1b-4812-a5cb-1b923d797b29",
   "metadata": {},
   "outputs": [],
   "source": [
    "# a class can be defined as a subclass of another class\n",
    "# e.g. an Employee is also a Person\n",
    "class Employee(Person):\n",
    "    def __init__(self, name, age, id):\n",
    "        super().__init__(name, age)\n",
    "        self.id = id"
   ]
  },
  {
   "cell_type": "code",
   "execution_count": 38,
   "id": "5d43e263-71b7-442f-869e-2983842bd436",
   "metadata": {},
   "outputs": [],
   "source": [
    "e = Employee(\"Jorge\", 33, 412)"
   ]
  }
 ],
 "metadata": {
  "kernelspec": {
   "display_name": "Python 3",
   "language": "python",
   "name": "python3"
  },
  "language_info": {
   "codemirror_mode": {
    "name": "ipython",
    "version": 3
   },
   "file_extension": ".py",
   "mimetype": "text/x-python",
   "name": "python",
   "nbconvert_exporter": "python",
   "pygments_lexer": "ipython3",
   "version": "3.11.9"
  }
 },
 "nbformat": 4,
 "nbformat_minor": 5
}
