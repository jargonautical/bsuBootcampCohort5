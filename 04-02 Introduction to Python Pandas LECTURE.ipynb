{
 "cells": [
  {
   "cell_type": "markdown",
   "metadata": {},
   "source": [
    "# Installing packages in Python  "
   ]
  },
  {
   "cell_type": "markdown",
   "metadata": {},
   "source": [
    "\n",
    "### In a Jupyter notebook  \n",
    "\n",
    "* latest version: %pip install pandas\n",
    "* specific version: %pip install pandas=2.1.1\n",
    "\n",
    "NOTE: Some versions of Jupyter use !pip instead of %pip"
   ]
  },
  {
   "cell_type": "code",
   "execution_count": 1,
   "metadata": {},
   "outputs": [
    {
     "name": "stdout",
     "output_type": "stream",
     "text": [
      "Requirement already satisfied: pandas in c:\\users\\lucyknight\\appdata\\local\\packages\\pythonsoftwarefoundation.python.3.11_qbz5n2kfra8p0\\localcache\\local-packages\\python311\\site-packages (2.1.1)\n",
      "Requirement already satisfied: numpy>=1.23.2 in c:\\users\\lucyknight\\appdata\\local\\packages\\pythonsoftwarefoundation.python.3.11_qbz5n2kfra8p0\\localcache\\local-packages\\python311\\site-packages (from pandas) (1.24.3)\n",
      "Requirement already satisfied: python-dateutil>=2.8.2 in c:\\users\\lucyknight\\appdata\\local\\packages\\pythonsoftwarefoundation.python.3.11_qbz5n2kfra8p0\\localcache\\local-packages\\python311\\site-packages (from pandas) (2.8.2)\n",
      "Requirement already satisfied: pytz>=2020.1 in c:\\users\\lucyknight\\appdata\\local\\packages\\pythonsoftwarefoundation.python.3.11_qbz5n2kfra8p0\\localcache\\local-packages\\python311\\site-packages (from pandas) (2023.3)\n",
      "Requirement already satisfied: tzdata>=2022.1 in c:\\users\\lucyknight\\appdata\\local\\packages\\pythonsoftwarefoundation.python.3.11_qbz5n2kfra8p0\\localcache\\local-packages\\python311\\site-packages (from pandas) (2023.3)\n",
      "Requirement already satisfied: six>=1.5 in c:\\users\\lucyknight\\appdata\\local\\packages\\pythonsoftwarefoundation.python.3.11_qbz5n2kfra8p0\\localcache\\local-packages\\python311\\site-packages (from python-dateutil>=2.8.2->pandas) (1.16.0)\n",
      "Note: you may need to restart the kernel to use updated packages.\n"
     ]
    },
    {
     "name": "stderr",
     "output_type": "stream",
     "text": [
      "\n",
      "[notice] A new release of pip is available: 23.1.2 -> 25.0.1\n",
      "[notice] To update, run: C:\\Users\\LucyKnight\\AppData\\Local\\Microsoft\\WindowsApps\\PythonSoftwareFoundation.Python.3.11_qbz5n2kfra8p0\\python.exe -m pip install --upgrade pip\n"
     ]
    }
   ],
   "source": [
    "%pip install pandas"
   ]
  },
  {
   "cell_type": "markdown",
   "metadata": {},
   "source": [
    "### After installing the package, import it into the environment.  \n",
    "\n",
    "import pandas as pd  \n",
    "* pd is a common ALIAS for pandas.  \n",
    "* makes it quicker to type references to the package when you need it.\n",
    "* makes your code more concise and more readable. "
   ]
  },
  {
   "cell_type": "code",
   "execution_count": 3,
   "metadata": {},
   "outputs": [],
   "source": [
    "import pandas as pd\n",
    "data = [1, 2, 3, 4, 5]\n",
    "series = pd.Series(data, name=\"MySeries\")\n",
    "\n",
    "# Vectorized operations of series\n",
    "series = series + 15"
   ]
  },
  {
   "cell_type": "code",
   "execution_count": 4,
   "metadata": {},
   "outputs": [
    {
     "data": {
      "text/plain": [
       "0    16\n",
       "1    17\n",
       "2    18\n",
       "3    19\n",
       "4    20\n",
       "Name: MySeries, dtype: int64"
      ]
     },
     "execution_count": 4,
     "metadata": {},
     "output_type": "execute_result"
    }
   ],
   "source": [
    "series"
   ]
  },
  {
   "cell_type": "markdown",
   "metadata": {},
   "source": [
    "### TASK 1: Installing and importing modules  \n",
    "* Download and open the 'Introduction to Pandas.ipynb' notebook.  \n",
    "* Complete the exercises in the __Task 1__ section.  \n",
    "* OPTIONAL: read up on how to install packages in a Python environment outside ot Jupyter notebooks."
   ]
  },
  {
   "cell_type": "markdown",
   "metadata": {},
   "source": [
    "# Data structures"
   ]
  },
  {
   "cell_type": "markdown",
   "metadata": {},
   "source": [
    "## Series  \n",
    "* Similar to a Python dictionary.  \n",
    "* A mapping of index values to data values.\n",
    "* A one-dimensional labelled array\n",
    "* Can hold various data types.\n",
    "* Similar to a column in an Excel spreadsheet or a single column in a SQL table.\n",
    "* Labelling\n",
    "    * Each element in a Series has a label or an index, allowing for  easy data access and manipulation.\n",
    "    * Default numeric values assigned, if not defined.\n",
    "* Homogeneous data - a series typically stores data of the same data type.\n",
    "* Vectorised Operations - allows efficient element-wise calculations. Operations can be performed on entire columns or Series without explicit loops.\n"
   ]
  },
  {
   "cell_type": "code",
   "execution_count": 5,
   "metadata": {},
   "outputs": [
    {
     "name": "stdout",
     "output_type": "stream",
     "text": [
      "a    42.0000\n",
      "b     6.0000\n",
      "c     2.5677\n",
      "dtype: float64\n"
     ]
    }
   ],
   "source": [
    "# Create a pandas series from a dictionary \n",
    "d = {'a':42., 'b':6., 'c':2.5677}\n",
    "s = pd.Series(d)\n",
    "print(s)"
   ]
  },
  {
   "cell_type": "markdown",
   "metadata": {},
   "source": [
    "## DataFrame  \n",
    "* 2-dimensional tabular structure with labelled axes.  \n",
    "* Primary data structure for analysis in Pandas.  \n",
    "* Similar to spreadsheets and SQL tables.  \n",
    "\n",
    "A dataframe has:  \n",
    "* __COLUMNS:__ Each column in a dataframe is a series.\n",
    "* __INDEXING:__ Dataframes have both row and column indices.  \n",
    "* __DATA ALIGNMENT:__ Dataframes can align data based on labels.  \n",
    "* __DATA INTEGRATION:__ You can merge, join, and concatenate dataframes, and combine and analyse data from various sources."
   ]
  },
  {
   "cell_type": "code",
   "execution_count": 8,
   "metadata": {},
   "outputs": [
    {
     "data": {
      "text/html": [
       "<div>\n",
       "<style scoped>\n",
       "    .dataframe tbody tr th:only-of-type {\n",
       "        vertical-align: middle;\n",
       "    }\n",
       "\n",
       "    .dataframe tbody tr th {\n",
       "        vertical-align: top;\n",
       "    }\n",
       "\n",
       "    .dataframe thead th {\n",
       "        text-align: right;\n",
       "    }\n",
       "</style>\n",
       "<table border=\"1\" class=\"dataframe\">\n",
       "  <thead>\n",
       "    <tr style=\"text-align: right;\">\n",
       "      <th></th>\n",
       "      <th>Name</th>\n",
       "      <th>Age</th>\n",
       "      <th>City</th>\n",
       "    </tr>\n",
       "  </thead>\n",
       "  <tbody>\n",
       "    <tr>\n",
       "      <th>0</th>\n",
       "      <td>Alice</td>\n",
       "      <td>25</td>\n",
       "      <td>New York</td>\n",
       "    </tr>\n",
       "    <tr>\n",
       "      <th>1</th>\n",
       "      <td>Bob</td>\n",
       "      <td>30</td>\n",
       "      <td>San Francisco</td>\n",
       "    </tr>\n",
       "    <tr>\n",
       "      <th>2</th>\n",
       "      <td>Charlie</td>\n",
       "      <td>35</td>\n",
       "      <td>Los Angeles</td>\n",
       "    </tr>\n",
       "    <tr>\n",
       "      <th>3</th>\n",
       "      <td>Derek</td>\n",
       "      <td>40</td>\n",
       "      <td>Chicago</td>\n",
       "    </tr>\n",
       "  </tbody>\n",
       "</table>\n",
       "</div>"
      ],
      "text/plain": [
       "      Name  Age           City\n",
       "0    Alice   25       New York\n",
       "1      Bob   30  San Francisco\n",
       "2  Charlie   35    Los Angeles\n",
       "3    Derek   40        Chicago"
      ]
     },
     "execution_count": 8,
     "metadata": {},
     "output_type": "execute_result"
    }
   ],
   "source": [
    "data = {\n",
    " \"Name\": [\"Alice\", \"Bob\", \"Charlie\", \"Derek\"],\n",
    " \"Age\": [25, 30, 35, 40],\n",
    " \"City\": [\"New York\", \"San Francisco\", \"Los Angeles\", \"Chicago\"]\n",
    "}\n",
    "df = pd.DataFrame(data)\n",
    "df"
   ]
  },
  {
   "cell_type": "markdown",
   "metadata": {},
   "source": [
    "# Acquiring data"
   ]
  },
  {
   "cell_type": "code",
   "execution_count": null,
   "metadata": {},
   "outputs": [],
   "source": [
    "# installs only need to be run once per environment\n",
    "# uncomment to install package\n",
    "# %pip install mysql-connector-python\n",
    "# import pandas as pd \n",
    "import mysql.connector\n",
    "\n",
    "# Load data from csv file with the name - data.csv\n",
    "df_csv = pd.read_csv('data.csv')\n",
    "# Load data from excel file with the name - data.xlsx\n",
    "df_excel = pd.read_excel('data.xlsx')\n",
    "\n",
    "# You can specify a specific sheet using the sheet_name parameter\n",
    "df_sheet1 = pd.read_excel('data.xlsx', sheet_name='Sheet1')\n",
    "\n",
    "# Create a MySQL connection\n",
    " # Establishes a connection to a MySQL database\n",
    " # Replace 'username', 'password', 'localhost', and 'mydatabase'\n",
    " # with your actual MySQL credentials and database details\n",
    "cnx = mysql.connector.connect(user='username', password='password',\n",
    "                              host='localhost',\n",
    "                              database='mydatabase') \n",
    "\n",
    "# Load data from a SQL database table\n",
    "query = 'SELECT * FROM mytable'\n",
    "df_sql = pd.read_sql_query(query, cnx)\n",
    "\n",
    "# Load data from an HTML table on a webpage\n",
    "url = 'https://example.com/data-table.html'\n",
    "df_html_table = pd.read_html(url)\n",
    "\n",
    "# Load data from a JSON file\n",
    "df_json = pd.read_json('data.json')\n",
    "\n",
    "# Load data from Parquet file\n",
    "df_parquet = pd.read_parquet('data.parquet')\n"
   ]
  },
  {
   "cell_type": "code",
   "execution_count": null,
   "metadata": {},
   "outputs": [
    {
     "data": {
      "text/html": [
       "<div>\n",
       "<style scoped>\n",
       "    .dataframe tbody tr th:only-of-type {\n",
       "        vertical-align: middle;\n",
       "    }\n",
       "\n",
       "    .dataframe tbody tr th {\n",
       "        vertical-align: top;\n",
       "    }\n",
       "\n",
       "    .dataframe thead th {\n",
       "        text-align: right;\n",
       "    }\n",
       "</style>\n",
       "<table border=\"1\" class=\"dataframe\">\n",
       "  <thead>\n",
       "    <tr style=\"text-align: right;\">\n",
       "      <th></th>\n",
       "      <th>Name</th>\n",
       "      <th>Age</th>\n",
       "      <th>City</th>\n",
       "      <th>Salary</th>\n",
       "      <th>Gender</th>\n",
       "      <th>column1</th>\n",
       "      <th>State</th>\n",
       "      <th>Start Date</th>\n",
       "      <th>DateOfBirth</th>\n",
       "    </tr>\n",
       "  </thead>\n",
       "  <tbody>\n",
       "    <tr>\n",
       "      <th>0</th>\n",
       "      <td>kyle</td>\n",
       "      <td>59.0</td>\n",
       "      <td>indianapolis</td>\n",
       "      <td>151000.0</td>\n",
       "      <td>Other</td>\n",
       "      <td>Raymond</td>\n",
       "      <td>Indiana</td>\n",
       "      <td>1990-12-09</td>\n",
       "      <td>1964-10-15 14:21:44.568274</td>\n",
       "    </tr>\n",
       "    <tr>\n",
       "      <th>1</th>\n",
       "      <td>Luis</td>\n",
       "      <td>31.0</td>\n",
       "      <td>Los Angeles</td>\n",
       "      <td>58000.0</td>\n",
       "      <td>NaN</td>\n",
       "      <td>Andrade</td>\n",
       "      <td>CA</td>\n",
       "      <td>1992-02-24</td>\n",
       "      <td>1992-10-08 14:21:44.568274</td>\n",
       "    </tr>\n",
       "  </tbody>\n",
       "</table>\n",
       "</div>"
      ],
      "text/plain": [
       "     Name   Age            City    Salary   Gender    column1      State  \\\n",
       "0   kyle   59.0   indianapolis   151000.0   Other    Raymond    Indiana    \n",
       "1   Luis   31.0    Los Angeles    58000.0      NaN   Andrade         CA    \n",
       "\n",
       "   Start Date                 DateOfBirth  \n",
       "0  1990-12-09  1964-10-15 14:21:44.568274  \n",
       "1  1992-02-24  1992-10-08 14:21:44.568274  "
      ]
     },
     "execution_count": 10,
     "metadata": {},
     "output_type": "execute_result"
    }
   ],
   "source": [
    "df = pd.read_csv(\"employees.csv\")\n"
   ]
  },
  {
   "cell_type": "code",
   "execution_count": 13,
   "metadata": {},
   "outputs": [
    {
     "data": {
      "text/plain": [
       "Index(['Name', 'Age', 'City', 'Salary', 'Gender', 'column1', 'State',\n",
       "       'Start Date', 'DateOfBirth'],\n",
       "      dtype='object')"
      ]
     },
     "execution_count": 13,
     "metadata": {},
     "output_type": "execute_result"
    }
   ],
   "source": [
    "df.columns"
   ]
  },
  {
   "cell_type": "code",
   "execution_count": 14,
   "metadata": {},
   "outputs": [
    {
     "data": {
      "text/html": [
       "<div>\n",
       "<style scoped>\n",
       "    .dataframe tbody tr th:only-of-type {\n",
       "        vertical-align: middle;\n",
       "    }\n",
       "\n",
       "    .dataframe tbody tr th {\n",
       "        vertical-align: top;\n",
       "    }\n",
       "\n",
       "    .dataframe thead th {\n",
       "        text-align: right;\n",
       "    }\n",
       "</style>\n",
       "<table border=\"1\" class=\"dataframe\">\n",
       "  <thead>\n",
       "    <tr style=\"text-align: right;\">\n",
       "      <th></th>\n",
       "      <th>Name</th>\n",
       "      <th>Age</th>\n",
       "      <th>City</th>\n",
       "      <th>Salary</th>\n",
       "      <th>Gender</th>\n",
       "      <th>Surname</th>\n",
       "      <th>State</th>\n",
       "      <th>Start Date</th>\n",
       "      <th>DateOfBirth</th>\n",
       "    </tr>\n",
       "  </thead>\n",
       "  <tbody>\n",
       "    <tr>\n",
       "      <th>15</th>\n",
       "      <td>Andre</td>\n",
       "      <td>54.0</td>\n",
       "      <td>allentown</td>\n",
       "      <td>151000.0</td>\n",
       "      <td></td>\n",
       "      <td>Martin</td>\n",
       "      <td>Pennsylvania</td>\n",
       "      <td>1991-05-05</td>\n",
       "      <td>1969-10-14 14:21:44.568274</td>\n",
       "    </tr>\n",
       "  </tbody>\n",
       "</table>\n",
       "</div>"
      ],
      "text/plain": [
       "       Name   Age         City    Salary Gender   Surname           State  \\\n",
       "15   Andre   54.0   allentown   151000.0          Martin    Pennsylvania    \n",
       "\n",
       "    Start Date                 DateOfBirth  \n",
       "15  1991-05-05  1969-10-14 14:21:44.568274  "
      ]
     },
     "execution_count": 14,
     "metadata": {},
     "output_type": "execute_result"
    }
   ],
   "source": [
    "df.rename(columns={'column1':'Surname'}, inplace=True)\n",
    "df.sample()"
   ]
  },
  {
   "cell_type": "code",
   "execution_count": 2,
   "metadata": {},
   "outputs": [],
   "source": [
    "data = {\n",
    " \"Name\": [\"Alice\", \"Bob\", \"Charlie\", \"David\"],\n",
    " \"Age\": [25, 30, 35, 40],\n",
    " \"City\": [\"New York\", \"San Francisco\", \"Los Angeles\", \"Chicago\"]\n",
    "}\n",
    "df = pd.DataFrame(data)\n",
    "\n",
    "# Renaming the 'Name' column to 'Person_Name'\n",
    "# inplace=True, will save the changes.\n",
    "df.rename(columns={'Name':'Person_Name'}, inplace=True)"
   ]
  },
  {
   "cell_type": "markdown",
   "metadata": {},
   "source": [
    "# Exploring your data "
   ]
  },
  {
   "cell_type": "markdown",
   "metadata": {},
   "source": [
    "### Opening a CSV file  \n",
    "* read_csv() loads the csv file contents into a dataframe.  \n",
    "* the read_csv() function has many parameters.  \n",
    "  * __delimiter:__ the character used to separate values in the CSV file. Default is ',’.\n",
    "  * __header:__ the row number to use as the column names. Default is 0 (the first row).\n",
    "  * __index_col:__ the column to set as the index of the DataFrame.\n",
    "  * __na_values:__ a list of values that should be considered as NaN (Not a Number)."
   ]
  },
  {
   "cell_type": "code",
   "execution_count": null,
   "metadata": {},
   "outputs": [
    {
     "data": {
      "text/html": [
       "<div>\n",
       "<style scoped>\n",
       "    .dataframe tbody tr th:only-of-type {\n",
       "        vertical-align: middle;\n",
       "    }\n",
       "\n",
       "    .dataframe tbody tr th {\n",
       "        vertical-align: top;\n",
       "    }\n",
       "\n",
       "    .dataframe thead th {\n",
       "        text-align: right;\n",
       "    }\n",
       "</style>\n",
       "<table border=\"1\" class=\"dataframe\">\n",
       "  <thead>\n",
       "    <tr style=\"text-align: right;\">\n",
       "      <th></th>\n",
       "      <th>Name</th>\n",
       "      <th>Age</th>\n",
       "      <th>City</th>\n",
       "      <th>Salary</th>\n",
       "      <th>Gender</th>\n",
       "      <th>column1</th>\n",
       "      <th>State</th>\n",
       "      <th>Start Date</th>\n",
       "      <th>DateOfBirth</th>\n",
       "    </tr>\n",
       "  </thead>\n",
       "  <tbody>\n",
       "    <tr>\n",
       "      <th>86</th>\n",
       "      <td>bruce</td>\n",
       "      <td>57.0</td>\n",
       "      <td>Evansville</td>\n",
       "      <td>77000.0</td>\n",
       "      <td>Other</td>\n",
       "      <td>Harrison</td>\n",
       "      <td>Indiana</td>\n",
       "      <td>1999-05-26</td>\n",
       "      <td>1966-10-15</td>\n",
       "    </tr>\n",
       "  </tbody>\n",
       "</table>\n",
       "</div>"
      ],
      "text/plain": [
       "       Name   Age          City   Salary   Gender     column1      State  \\\n",
       "86   bruce   57.0   Evansville   77000.0   Other    Harrison    Indiana    \n",
       "\n",
       "    Start Date DateOfBirth  \n",
       "86  1999-05-26  1966-10-15  "
      ]
     },
     "execution_count": 17,
     "metadata": {},
     "output_type": "execute_result"
    }
   ],
   "source": [
    "# Load data from csv file with the name - data.csv\n",
    "df_csv = pd.read_csv('separator.csv',delimiter=\";\") # TSV tab separated variables /  values delimiter = \"\\t\"\n",
    "df_csv.sample()"
   ]
  },
  {
   "cell_type": "markdown",
   "metadata": {},
   "source": [
    "#### Displaying dataframes  \n",
    "* __.head(n)__ First n rows of the DataFrame.  \n",
    "* __.columns__ Column names of the DataFrame.  \n",
    "* __.tail(n)__ Last n rows of the DataFrame.  \n",
    "* __.sample(n)__ Random n rows from the DataFrame.  \n",
    "\n"
   ]
  },
  {
   "cell_type": "code",
   "execution_count": 19,
   "metadata": {},
   "outputs": [
    {
     "data": {
      "text/html": [
       "<div>\n",
       "<style scoped>\n",
       "    .dataframe tbody tr th:only-of-type {\n",
       "        vertical-align: middle;\n",
       "    }\n",
       "\n",
       "    .dataframe tbody tr th {\n",
       "        vertical-align: top;\n",
       "    }\n",
       "\n",
       "    .dataframe thead th {\n",
       "        text-align: right;\n",
       "    }\n",
       "</style>\n",
       "<table border=\"1\" class=\"dataframe\">\n",
       "  <thead>\n",
       "    <tr style=\"text-align: right;\">\n",
       "      <th></th>\n",
       "      <th>Name</th>\n",
       "      <th>Age</th>\n",
       "      <th>City</th>\n",
       "      <th>Salary</th>\n",
       "      <th>Gender</th>\n",
       "      <th>Surname</th>\n",
       "      <th>State</th>\n",
       "      <th>Start Date</th>\n",
       "      <th>DateOfBirth</th>\n",
       "    </tr>\n",
       "  </thead>\n",
       "  <tbody>\n",
       "    <tr>\n",
       "      <th>0</th>\n",
       "      <td>kyle</td>\n",
       "      <td>59.0</td>\n",
       "      <td>indianapolis</td>\n",
       "      <td>151000.0</td>\n",
       "      <td>Other</td>\n",
       "      <td>Raymond</td>\n",
       "      <td>Indiana</td>\n",
       "      <td>1990-12-09</td>\n",
       "      <td>1964-10-15 14:21:44.568274</td>\n",
       "    </tr>\n",
       "    <tr>\n",
       "      <th>1</th>\n",
       "      <td>Luis</td>\n",
       "      <td>31.0</td>\n",
       "      <td>Los Angeles</td>\n",
       "      <td>58000.0</td>\n",
       "      <td>NaN</td>\n",
       "      <td>Andrade</td>\n",
       "      <td>CA</td>\n",
       "      <td>1992-02-24</td>\n",
       "      <td>1992-10-08 14:21:44.568274</td>\n",
       "    </tr>\n",
       "    <tr>\n",
       "      <th>2</th>\n",
       "      <td>katherine</td>\n",
       "      <td>46.0</td>\n",
       "      <td>Naperville</td>\n",
       "      <td>146000.0</td>\n",
       "      <td>female</td>\n",
       "      <td>Gutierrez</td>\n",
       "      <td>IL</td>\n",
       "      <td>21-12-2015</td>\n",
       "      <td>1977-10-12 14:21:44.568274</td>\n",
       "    </tr>\n",
       "    <tr>\n",
       "      <th>3</th>\n",
       "      <td>robert</td>\n",
       "      <td>25.0</td>\n",
       "      <td>pittsburgh</td>\n",
       "      <td>66000.0</td>\n",
       "      <td>Male</td>\n",
       "      <td>Yates</td>\n",
       "      <td>Pennsylvania</td>\n",
       "      <td>1993-01-25</td>\n",
       "      <td>1998-10-07 14:21:44.568274</td>\n",
       "    </tr>\n",
       "    <tr>\n",
       "      <th>4</th>\n",
       "      <td>austin</td>\n",
       "      <td>49.0</td>\n",
       "      <td>Naperville</td>\n",
       "      <td>96000.0</td>\n",
       "      <td>NaN</td>\n",
       "      <td>Turner</td>\n",
       "      <td>IL</td>\n",
       "      <td>20-09-1979</td>\n",
       "      <td>1974-10-13 14:21:44.568274</td>\n",
       "    </tr>\n",
       "    <tr>\n",
       "      <th>5</th>\n",
       "      <td>christopher</td>\n",
       "      <td>48.0</td>\n",
       "      <td>Buffalo</td>\n",
       "      <td>47000.0</td>\n",
       "      <td>other</td>\n",
       "      <td>Carroll</td>\n",
       "      <td>NY</td>\n",
       "      <td>1990-12-09</td>\n",
       "      <td>1975-10-13 14:21:44.568274</td>\n",
       "    </tr>\n",
       "    <tr>\n",
       "      <th>6</th>\n",
       "      <td>michelle</td>\n",
       "      <td>45.0</td>\n",
       "      <td>Fort Wayne</td>\n",
       "      <td>61000.0</td>\n",
       "      <td>Male</td>\n",
       "      <td>Anderson</td>\n",
       "      <td>Indiana</td>\n",
       "      <td>1991-05-05</td>\n",
       "      <td>1978-10-12 14:21:44.568274</td>\n",
       "    </tr>\n",
       "    <tr>\n",
       "      <th>7</th>\n",
       "      <td>Joshua</td>\n",
       "      <td>38.0</td>\n",
       "      <td>miami</td>\n",
       "      <td>96000.0</td>\n",
       "      <td>NaN</td>\n",
       "      <td>Roberts</td>\n",
       "      <td>Florida</td>\n",
       "      <td>2006-07-11</td>\n",
       "      <td>1985-10-10 14:21:44.568274</td>\n",
       "    </tr>\n",
       "    <tr>\n",
       "      <th>8</th>\n",
       "      <td>Nancy</td>\n",
       "      <td>32.0</td>\n",
       "      <td>new york</td>\n",
       "      <td>129000.0</td>\n",
       "      <td>Female</td>\n",
       "      <td>Ferguson</td>\n",
       "      <td>NY</td>\n",
       "      <td>1992-05-23</td>\n",
       "      <td>1991-10-09 14:21:44.568274</td>\n",
       "    </tr>\n",
       "    <tr>\n",
       "      <th>9</th>\n",
       "      <td>Dillon</td>\n",
       "      <td>56.0</td>\n",
       "      <td>chicago</td>\n",
       "      <td>67000.0</td>\n",
       "      <td>Female</td>\n",
       "      <td>Horn</td>\n",
       "      <td>IL</td>\n",
       "      <td>2006-07-11</td>\n",
       "      <td>1967-10-15 14:21:44.568274</td>\n",
       "    </tr>\n",
       "  </tbody>\n",
       "</table>\n",
       "</div>"
      ],
      "text/plain": [
       "            Name   Age            City    Salary    Gender      Surname  \\\n",
       "0          kyle   59.0   indianapolis   151000.0    Other      Raymond    \n",
       "1          Luis   31.0    Los Angeles    58000.0       NaN     Andrade    \n",
       "2     katherine   46.0     Naperville   146000.0   female    Gutierrez    \n",
       "3        robert   25.0     pittsburgh    66000.0     Male        Yates    \n",
       "4        austin   49.0     Naperville    96000.0       NaN      Turner    \n",
       "5   christopher   48.0        Buffalo    47000.0    other      Carroll    \n",
       "6      michelle   45.0     Fort Wayne    61000.0     Male     Anderson    \n",
       "7        Joshua   38.0          miami    96000.0       NaN     Roberts    \n",
       "8         Nancy   32.0       new york   129000.0   Female     Ferguson    \n",
       "9        Dillon   56.0        chicago    67000.0   Female         Horn    \n",
       "\n",
       "            State    Start Date                 DateOfBirth  \n",
       "0        Indiana     1990-12-09  1964-10-15 14:21:44.568274  \n",
       "1             CA     1992-02-24  1992-10-08 14:21:44.568274  \n",
       "2             IL    21-12-2015   1977-10-12 14:21:44.568274  \n",
       "3   Pennsylvania     1993-01-25  1998-10-07 14:21:44.568274  \n",
       "4             IL    20-09-1979   1974-10-13 14:21:44.568274  \n",
       "5             NY     1990-12-09  1975-10-13 14:21:44.568274  \n",
       "6        Indiana     1991-05-05  1978-10-12 14:21:44.568274  \n",
       "7        Florida     2006-07-11  1985-10-10 14:21:44.568274  \n",
       "8             NY     1992-05-23  1991-10-09 14:21:44.568274  \n",
       "9             IL     2006-07-11  1967-10-15 14:21:44.568274  "
      ]
     },
     "execution_count": 19,
     "metadata": {},
     "output_type": "execute_result"
    }
   ],
   "source": [
    "df.head(10)"
   ]
  },
  {
   "cell_type": "code",
   "execution_count": 20,
   "metadata": {},
   "outputs": [
    {
     "data": {
      "text/plain": [
       "Index(['Name', 'Age', 'City', 'Salary', 'Gender', 'Surname', 'State',\n",
       "       'Start Date', 'DateOfBirth'],\n",
       "      dtype='object')"
      ]
     },
     "execution_count": 20,
     "metadata": {},
     "output_type": "execute_result"
    }
   ],
   "source": [
    "df.columns"
   ]
  },
  {
   "cell_type": "code",
   "execution_count": 21,
   "metadata": {},
   "outputs": [
    {
     "name": "stdout",
     "output_type": "stream",
     "text": [
      "           Name   Age             City   Salary  Gender      Surname  \\\n",
      "155   Jennifer   38.0   san francisco   58000.0     NaN      Palmer    \n",
      "156       Sean   35.0     Los Angeles   70000.0   Male       Harris    \n",
      "157      Laura   28.0      Pittsburgh   53000.0   male      Jackson    \n",
      "158      kiara   54.0           Tampa   33000.0     NaN   Hernandez    \n",
      "159   Jennifer   38.0   san francisco   58000.0     NaN      Palmer    \n",
      "\n",
      "              State    Start Date                 DateOfBirth  \n",
      "155             CA     2017-01-31  1985-10-10 14:21:44.568274  \n",
      "156             CA     2011-07-06  1988-10-09 14:21:44.568274  \n",
      "157   Pennsylvania     1991-05-05  1995-10-08 14:21:44.568274  \n",
      "158        Florida    03-01-1985   1969-10-14 14:21:44.568274  \n",
      "159             CA     2017-01-31  1985-10-10 14:21:44.568274  \n"
     ]
    }
   ],
   "source": [
    "print(df.tail())"
   ]
  },
  {
   "cell_type": "code",
   "execution_count": 22,
   "metadata": {},
   "outputs": [
    {
     "name": "stdout",
     "output_type": "stream",
     "text": [
      "          Name   Age          City   Salary  Gender     Surname      State  \\\n",
      "6    michelle   45.0   Fort Wayne   61000.0   Male    Anderson    Indiana    \n",
      "26    shelley   50.0       aurora   60000.0     NaN    Stevens         IL    \n",
      "\n",
      "    Start Date                 DateOfBirth  \n",
      "6   1991-05-05  1978-10-12 14:21:44.568274  \n",
      "26  1990-12-09  1973-10-13 14:21:44.568274  \n"
     ]
    }
   ],
   "source": [
    "print(df.sample(2))"
   ]
  },
  {
   "cell_type": "markdown",
   "metadata": {},
   "source": [
    "### Data exploration - shape, describe(), info()"
   ]
  },
  {
   "cell_type": "markdown",
   "metadata": {},
   "source": [
    "\n",
    "* __shape__ \n",
    "    * Gives a set;\n",
    "    * First element specifies the number of samples/rows.\n",
    "    * Second element specifies the number of columns.\n",
    "* __describe()__  \n",
    "    * Generates basic statistics for each numeric column in the DataFrame.\n",
    "    * Includes count, mean, standard deviation, minimum, and maximum values.\n",
    "* __info()__  \n",
    "    * Provides a concise summary of the DataFrame.\n",
    "    * Includes data types, non-null counts, and memory usage."
   ]
  },
  {
   "cell_type": "code",
   "execution_count": 24,
   "metadata": {},
   "outputs": [
    {
     "name": "stdout",
     "output_type": "stream",
     "text": [
      "<class 'pandas.core.frame.DataFrame'>\n",
      "RangeIndex: 160 entries, 0 to 159\n",
      "Data columns (total 9 columns):\n",
      " #   Column       Non-Null Count  Dtype  \n",
      "---  ------       --------------  -----  \n",
      " 0   Name         160 non-null    object \n",
      " 1   Age          159 non-null    float64\n",
      " 2   City         156 non-null    object \n",
      " 3   Salary       159 non-null    float64\n",
      " 4   Gender       118 non-null    object \n",
      " 5   Surname      158 non-null    object \n",
      " 6   State        156 non-null    object \n",
      " 7   Start Date   158 non-null    object \n",
      " 8   DateOfBirth  160 non-null    object \n",
      "dtypes: float64(2), object(7)\n",
      "memory usage: 11.4+ KB\n"
     ]
    }
   ],
   "source": [
    "# Get a concise summary of the DataFrame\n",
    "df.info()"
   ]
  },
  {
   "cell_type": "code",
   "execution_count": 25,
   "metadata": {},
   "outputs": [
    {
     "name": "stdout",
     "output_type": "stream",
     "text": [
      "(160, 9)\n"
     ]
    }
   ],
   "source": [
    "# Get number of rows and columns\n",
    "print(df.shape)"
   ]
  },
  {
   "cell_type": "code",
   "execution_count": 26,
   "metadata": {},
   "outputs": [
    {
     "data": {
      "text/html": [
       "<div>\n",
       "<style scoped>\n",
       "    .dataframe tbody tr th:only-of-type {\n",
       "        vertical-align: middle;\n",
       "    }\n",
       "\n",
       "    .dataframe tbody tr th {\n",
       "        vertical-align: top;\n",
       "    }\n",
       "\n",
       "    .dataframe thead th {\n",
       "        text-align: right;\n",
       "    }\n",
       "</style>\n",
       "<table border=\"1\" class=\"dataframe\">\n",
       "  <thead>\n",
       "    <tr style=\"text-align: right;\">\n",
       "      <th></th>\n",
       "      <th>Age</th>\n",
       "      <th>Salary</th>\n",
       "    </tr>\n",
       "  </thead>\n",
       "  <tbody>\n",
       "    <tr>\n",
       "      <th>count</th>\n",
       "      <td>159.000000</td>\n",
       "      <td>159.000000</td>\n",
       "    </tr>\n",
       "    <tr>\n",
       "      <th>mean</th>\n",
       "      <td>40.773585</td>\n",
       "      <td>86503.144654</td>\n",
       "    </tr>\n",
       "    <tr>\n",
       "      <th>std</th>\n",
       "      <td>11.125250</td>\n",
       "      <td>40741.835280</td>\n",
       "    </tr>\n",
       "    <tr>\n",
       "      <th>min</th>\n",
       "      <td>20.000000</td>\n",
       "      <td>23000.000000</td>\n",
       "    </tr>\n",
       "    <tr>\n",
       "      <th>25%</th>\n",
       "      <td>32.000000</td>\n",
       "      <td>54000.000000</td>\n",
       "    </tr>\n",
       "    <tr>\n",
       "      <th>50%</th>\n",
       "      <td>41.000000</td>\n",
       "      <td>77000.000000</td>\n",
       "    </tr>\n",
       "    <tr>\n",
       "      <th>75%</th>\n",
       "      <td>50.000000</td>\n",
       "      <td>115000.000000</td>\n",
       "    </tr>\n",
       "    <tr>\n",
       "      <th>max</th>\n",
       "      <td>59.000000</td>\n",
       "      <td>191000.000000</td>\n",
       "    </tr>\n",
       "  </tbody>\n",
       "</table>\n",
       "</div>"
      ],
      "text/plain": [
       "              Age         Salary\n",
       "count  159.000000     159.000000\n",
       "mean    40.773585   86503.144654\n",
       "std     11.125250   40741.835280\n",
       "min     20.000000   23000.000000\n",
       "25%     32.000000   54000.000000\n",
       "50%     41.000000   77000.000000\n",
       "75%     50.000000  115000.000000\n",
       "max     59.000000  191000.000000"
      ]
     },
     "execution_count": 26,
     "metadata": {},
     "output_type": "execute_result"
    }
   ],
   "source": [
    "# Get basic statistics for numeric columns\n",
    "df.describe()"
   ]
  },
  {
   "cell_type": "markdown",
   "metadata": {},
   "source": [
    "### Data exploration - nunique, .column_name  "
   ]
  },
  {
   "cell_type": "markdown",
   "metadata": {},
   "source": [
    "Tools for categorical or discrete data.\n",
    "  \n",
    "* __nunique__\n",
    "    * Calculates the number of unique values in each column.\n",
    "    * Useful for understanding data diversity in categorical columns.\n",
    "\n",
    "* __.column_name__\n",
    "    * Access a specific column in the DataFrame\n",
    "    * [‘column_name’] is used when the column name has spaces.\n"
   ]
  },
  {
   "cell_type": "code",
   "execution_count": null,
   "metadata": {},
   "outputs": [],
   "source": [
    "# Select a column named 'column'\n",
    "df.City\n"
   ]
  },
  {
   "cell_type": "code",
   "execution_count": null,
   "metadata": {},
   "outputs": [],
   "source": [
    "# Select a column named 'column'\n",
    "# Both gives the same results\n",
    "df['City']"
   ]
  },
  {
   "cell_type": "markdown",
   "metadata": {},
   "source": [
    "### Basic statistics  "
   ]
  },
  {
   "cell_type": "markdown",
   "metadata": {},
   "source": [
    "#### For categorical data:  \n",
    "* Explore values and their frequencies.  \n",
    "* Calculate additional statistics for specific columns using mathematical functions.\n",
    "* Use __mean__, __median__ or __mode__ to calculate the average value of a column.\n",
    "* Examples:  \n",
    "    * df.Age.mean()\n",
    "    * df.Salary.median()\n",
    "    * df.Gender.mode()"
   ]
  },
  {
   "cell_type": "code",
   "execution_count": 9,
   "metadata": {},
   "outputs": [],
   "source": [
    "data = {\n",
    " \"Name\": [\"Alice\", \"Bob\", \"Charlie\", \"David\"],\n",
    " \"Age\": [25, 30, 35, 40],\n",
    " \"City\": [\"New York\", \"San Francisco\", \"Los Angeles\", \"Chicago\"],\n",
    " \"Salary\": [25000, 27000, 23000, 37500],\n",
    " \"Gender\": [\"Female\", \"Male\", \"Male\", \"Male\"]\n",
    "}\n",
    "df = pd.DataFrame(data)"
   ]
  },
  {
   "cell_type": "code",
   "execution_count": 10,
   "metadata": {},
   "outputs": [
    {
     "data": {
      "text/plain": [
       "32.5"
      ]
     },
     "execution_count": 10,
     "metadata": {},
     "output_type": "execute_result"
    }
   ],
   "source": [
    "# Calculate the average value of a column\n",
    "df.Age.mean()"
   ]
  },
  {
   "cell_type": "code",
   "execution_count": 11,
   "metadata": {},
   "outputs": [
    {
     "data": {
      "text/plain": [
       "26000.0"
      ]
     },
     "execution_count": 11,
     "metadata": {},
     "output_type": "execute_result"
    }
   ],
   "source": [
    "# Find the middle value of a column\n",
    "df.Salary.median()"
   ]
  },
  {
   "cell_type": "code",
   "execution_count": 12,
   "metadata": {},
   "outputs": [
    {
     "data": {
      "text/plain": [
       "0    Male\n",
       "Name: Gender, dtype: object"
      ]
     },
     "execution_count": 12,
     "metadata": {},
     "output_type": "execute_result"
    }
   ],
   "source": [
    "#Determine the most frequent value in a column\n",
    "df.Gender.mode()"
   ]
  },
  {
   "cell_type": "markdown",
   "metadata": {},
   "source": [
    "### TASK 2: Data loading in Pandas  \n",
    "* Complete the exercises in the __Task 2__ section.  \n",
    "* OPTIONAL: Open the 'separator.csv' file in a notepad application and compare with the \n",
    "'employees.csv' file for the separators."
   ]
  },
  {
   "cell_type": "markdown",
   "metadata": {},
   "source": [
    "# Data selection"
   ]
  },
  {
   "cell_type": "markdown",
   "metadata": {},
   "source": [
    "__Data selection__ and __indexing__ are fundamental operations in Pandas.  \n",
    "They allow extraction of specific subsets of data from a DataFrame.  \n",
    "\n",
    "* Indexing\n",
    "    * Selecting particular rows and columns of data from a DataFrame. Can be known as Subset Selection.\n",
    "    * Selecting Specific Columns and Rows:\n",
    "        * Use square brackets [], .loc[], and .iloc[] indexing methods.\n",
    "        * [ ] - Select one or more columns by their names.\n",
    "        * .loc[ ] - Select rows or columns by label.\n",
    "        * .iloc[ ] - Select rows and columns by integer location.\n"
   ]
  },
  {
   "cell_type": "markdown",
   "metadata": {},
   "source": [
    "#### By name"
   ]
  },
  {
   "cell_type": "code",
   "execution_count": 16,
   "metadata": {},
   "outputs": [
    {
     "name": "stdout",
     "output_type": "stream",
     "text": [
      "   Age     Name\n",
      "0   25    Alice\n",
      "1   30      Bob\n",
      "2   35  Charlie\n",
      "3   40    David\n"
     ]
    }
   ],
   "source": [
    "# Select 'Age' and 'Name' columns\n",
    "selected_columns = df[['Age', 'Name']]\n",
    "print(selected_columns)"
   ]
  },
  {
   "cell_type": "markdown",
   "metadata": {},
   "source": [
    "#### By label"
   ]
  },
  {
   "cell_type": "markdown",
   "metadata": {},
   "source": [
    "__.loc[]__   \n",
    "* Label-based selection.\n",
    "* Select rows and columns by label.\n",
    "* Specify both row and column labels.\n",
    "    * *selected_data = df.loc[3:6, ['Column1', 'Column2']]*\n",
    "    * Note: Both inner and outer indices are inclusive.\n"
   ]
  },
  {
   "cell_type": "code",
   "execution_count": 18,
   "metadata": {},
   "outputs": [
    {
     "name": "stdout",
     "output_type": "stream",
     "text": [
      "   Age         City\n",
      "2   35  Los Angeles\n",
      "3   40      Chicago\n"
     ]
    }
   ],
   "source": [
    "# Select 'Age' and 'City' columns for rows 3 to 6\n",
    "# Note: In .loc[], both start and end indices are inclusive\n",
    "selected_data = df.loc[2:6, ['Age', 'City']]\n",
    "print(selected_data)"
   ]
  },
  {
   "cell_type": "markdown",
   "metadata": {},
   "source": [
    "#### By position"
   ]
  },
  {
   "cell_type": "markdown",
   "metadata": {},
   "source": [
    "__.iloc[]__  \n",
    "* Integer-based selection.\n",
    "* Select rows and columns by integer location.\n",
    "* Useful for numeric indexing.\n",
    "    * *selected_data = df.iloc[1:4, 0:2]*  \n",
    "    * Note: Only the inner index is inclusive in index slicing, the outer index is exclusive.\n"
   ]
  },
  {
   "cell_type": "code",
   "execution_count": 19,
   "metadata": {},
   "outputs": [
    {
     "name": "stdout",
     "output_type": "stream",
     "text": [
      "      Name  Age\n",
      "1      Bob   30\n",
      "2  Charlie   35\n",
      "3    David   40\n"
     ]
    }
   ],
   "source": [
    "# Select first two columns (assuming they are 'Salary' and 'Gender')\n",
    "# for rows 1 to 3\n",
    "# Note: In .iloc[], start index is inclusive but end index is exclusive\n",
    "selected_data = df.iloc[1:4, 0:2]\n",
    "print(selected_data)"
   ]
  },
  {
   "cell_type": "markdown",
   "metadata": {},
   "source": [
    "#### By filtering and conditionals  "
   ]
  },
  {
   "cell_type": "code",
   "execution_count": null,
   "metadata": {},
   "outputs": [],
   "source": [
    "# Filter rows where 'Age' is greater than 30\n",
    "filtered_df = df[df['Age'] > 30]\n",
    "print(filtered_df)"
   ]
  },
  {
   "cell_type": "markdown",
   "metadata": {},
   "source": [
    "Boolean indexing  \n",
    "* Create a boolean mask by applying a condition to a column.  \n",
    "* Use this mask to filter rows for the True condition.\n"
   ]
  },
  {
   "cell_type": "code",
   "execution_count": 20,
   "metadata": {},
   "outputs": [
    {
     "name": "stdout",
     "output_type": "stream",
     "text": [
      "      Name  Age         City\n",
      "2  Charlie   35  Los Angeles\n",
      "3    David   40      Chicago\n"
     ]
    }
   ],
   "source": [
    "# Create a boolean mask by applying a condition to a column\n",
    "# Use this mask to filter rows for the True condition\n",
    "boolean_mask = df['Age'] > 30\n",
    "filtered_data = df[boolean_mask]\n",
    "print(filtered_data)"
   ]
  },
  {
   "cell_type": "code",
   "execution_count": 21,
   "metadata": {},
   "outputs": [
    {
     "ename": "KeyError",
     "evalue": "'Salary'",
     "output_type": "error",
     "traceback": [
      "\u001b[1;31m---------------------------------------------------------------------------\u001b[0m",
      "\u001b[1;31mKeyError\u001b[0m                                  Traceback (most recent call last)",
      "File \u001b[1;32m~\\AppData\\Local\\Packages\\PythonSoftwareFoundation.Python.3.11_qbz5n2kfra8p0\\LocalCache\\local-packages\\Python311\\site-packages\\pandas\\core\\indexes\\base.py:3790\u001b[0m, in \u001b[0;36mIndex.get_loc\u001b[1;34m(self, key)\u001b[0m\n\u001b[0;32m   3789\u001b[0m \u001b[38;5;28;01mtry\u001b[39;00m:\n\u001b[1;32m-> 3790\u001b[0m     \u001b[38;5;28;01mreturn\u001b[39;00m \u001b[38;5;28;43mself\u001b[39;49m\u001b[38;5;241;43m.\u001b[39;49m\u001b[43m_engine\u001b[49m\u001b[38;5;241;43m.\u001b[39;49m\u001b[43mget_loc\u001b[49m\u001b[43m(\u001b[49m\u001b[43mcasted_key\u001b[49m\u001b[43m)\u001b[49m\n\u001b[0;32m   3791\u001b[0m \u001b[38;5;28;01mexcept\u001b[39;00m \u001b[38;5;167;01mKeyError\u001b[39;00m \u001b[38;5;28;01mas\u001b[39;00m err:\n",
      "File \u001b[1;32mindex.pyx:152\u001b[0m, in \u001b[0;36mpandas._libs.index.IndexEngine.get_loc\u001b[1;34m()\u001b[0m\n",
      "File \u001b[1;32mindex.pyx:181\u001b[0m, in \u001b[0;36mpandas._libs.index.IndexEngine.get_loc\u001b[1;34m()\u001b[0m\n",
      "File \u001b[1;32mpandas\\_libs\\hashtable_class_helper.pxi:7080\u001b[0m, in \u001b[0;36mpandas._libs.hashtable.PyObjectHashTable.get_item\u001b[1;34m()\u001b[0m\n",
      "File \u001b[1;32mpandas\\_libs\\hashtable_class_helper.pxi:7088\u001b[0m, in \u001b[0;36mpandas._libs.hashtable.PyObjectHashTable.get_item\u001b[1;34m()\u001b[0m\n",
      "\u001b[1;31mKeyError\u001b[0m: 'Salary'",
      "\nThe above exception was the direct cause of the following exception:\n",
      "\u001b[1;31mKeyError\u001b[0m                                  Traceback (most recent call last)",
      "Cell \u001b[1;32mIn[21], line 1\u001b[0m\n\u001b[1;32m----> 1\u001b[0m boolean_mask \u001b[38;5;241m=\u001b[39m (df[\u001b[38;5;124m'\u001b[39m\u001b[38;5;124mAge\u001b[39m\u001b[38;5;124m'\u001b[39m] \u001b[38;5;241m>\u001b[39m \u001b[38;5;241m25\u001b[39m) \u001b[38;5;241m&\u001b[39m (\u001b[43mdf\u001b[49m\u001b[43m[\u001b[49m\u001b[38;5;124;43m'\u001b[39;49m\u001b[38;5;124;43mSalary\u001b[39;49m\u001b[38;5;124;43m'\u001b[39;49m\u001b[43m]\u001b[49m \u001b[38;5;241m>\u001b[39m \u001b[38;5;241m29000\u001b[39m)\n\u001b[0;32m      2\u001b[0m filtered_data \u001b[38;5;241m=\u001b[39m df[boolean_mask]\n\u001b[0;32m      3\u001b[0m \u001b[38;5;28mprint\u001b[39m(filtered_data)\n",
      "File \u001b[1;32m~\\AppData\\Local\\Packages\\PythonSoftwareFoundation.Python.3.11_qbz5n2kfra8p0\\LocalCache\\local-packages\\Python311\\site-packages\\pandas\\core\\frame.py:3896\u001b[0m, in \u001b[0;36mDataFrame.__getitem__\u001b[1;34m(self, key)\u001b[0m\n\u001b[0;32m   3894\u001b[0m \u001b[38;5;28;01mif\u001b[39;00m \u001b[38;5;28mself\u001b[39m\u001b[38;5;241m.\u001b[39mcolumns\u001b[38;5;241m.\u001b[39mnlevels \u001b[38;5;241m>\u001b[39m \u001b[38;5;241m1\u001b[39m:\n\u001b[0;32m   3895\u001b[0m     \u001b[38;5;28;01mreturn\u001b[39;00m \u001b[38;5;28mself\u001b[39m\u001b[38;5;241m.\u001b[39m_getitem_multilevel(key)\n\u001b[1;32m-> 3896\u001b[0m indexer \u001b[38;5;241m=\u001b[39m \u001b[38;5;28;43mself\u001b[39;49m\u001b[38;5;241;43m.\u001b[39;49m\u001b[43mcolumns\u001b[49m\u001b[38;5;241;43m.\u001b[39;49m\u001b[43mget_loc\u001b[49m\u001b[43m(\u001b[49m\u001b[43mkey\u001b[49m\u001b[43m)\u001b[49m\n\u001b[0;32m   3897\u001b[0m \u001b[38;5;28;01mif\u001b[39;00m is_integer(indexer):\n\u001b[0;32m   3898\u001b[0m     indexer \u001b[38;5;241m=\u001b[39m [indexer]\n",
      "File \u001b[1;32m~\\AppData\\Local\\Packages\\PythonSoftwareFoundation.Python.3.11_qbz5n2kfra8p0\\LocalCache\\local-packages\\Python311\\site-packages\\pandas\\core\\indexes\\base.py:3797\u001b[0m, in \u001b[0;36mIndex.get_loc\u001b[1;34m(self, key)\u001b[0m\n\u001b[0;32m   3792\u001b[0m     \u001b[38;5;28;01mif\u001b[39;00m \u001b[38;5;28misinstance\u001b[39m(casted_key, \u001b[38;5;28mslice\u001b[39m) \u001b[38;5;129;01mor\u001b[39;00m (\n\u001b[0;32m   3793\u001b[0m         \u001b[38;5;28misinstance\u001b[39m(casted_key, abc\u001b[38;5;241m.\u001b[39mIterable)\n\u001b[0;32m   3794\u001b[0m         \u001b[38;5;129;01mand\u001b[39;00m \u001b[38;5;28many\u001b[39m(\u001b[38;5;28misinstance\u001b[39m(x, \u001b[38;5;28mslice\u001b[39m) \u001b[38;5;28;01mfor\u001b[39;00m x \u001b[38;5;129;01min\u001b[39;00m casted_key)\n\u001b[0;32m   3795\u001b[0m     ):\n\u001b[0;32m   3796\u001b[0m         \u001b[38;5;28;01mraise\u001b[39;00m InvalidIndexError(key)\n\u001b[1;32m-> 3797\u001b[0m     \u001b[38;5;28;01mraise\u001b[39;00m \u001b[38;5;167;01mKeyError\u001b[39;00m(key) \u001b[38;5;28;01mfrom\u001b[39;00m \u001b[38;5;21;01merr\u001b[39;00m\n\u001b[0;32m   3798\u001b[0m \u001b[38;5;28;01mexcept\u001b[39;00m \u001b[38;5;167;01mTypeError\u001b[39;00m:\n\u001b[0;32m   3799\u001b[0m     \u001b[38;5;66;03m# If we have a listlike key, _check_indexing_error will raise\u001b[39;00m\n\u001b[0;32m   3800\u001b[0m     \u001b[38;5;66;03m#  InvalidIndexError. Otherwise we fall through and re-raise\u001b[39;00m\n\u001b[0;32m   3801\u001b[0m     \u001b[38;5;66;03m#  the TypeError.\u001b[39;00m\n\u001b[0;32m   3802\u001b[0m     \u001b[38;5;28mself\u001b[39m\u001b[38;5;241m.\u001b[39m_check_indexing_error(key)\n",
      "\u001b[1;31mKeyError\u001b[0m: 'Salary'"
     ]
    }
   ],
   "source": [
    "boolean_mask = (df['Age'] > 25) & (df['Salary'] > 29000)\n",
    "filtered_data = df[boolean_mask]\n",
    "print(filtered_data)"
   ]
  },
  {
   "cell_type": "code",
   "execution_count": 22,
   "metadata": {},
   "outputs": [
    {
     "name": "stdout",
     "output_type": "stream",
     "text": [
      "    Name  Age      City\n",
      "0  Alice   25  New York\n",
      "3  David   40   Chicago\n"
     ]
    }
   ],
   "source": [
    "# Use .isin() method\n",
    "# filter rows where 'City' is either 'New York' or 'Chicago'\n",
    "mask = df['City'].isin(['New York', 'Chicago'])\n",
    "filtered_data = df[mask]\n",
    "\n",
    "print(filtered_data)"
   ]
  },
  {
   "cell_type": "markdown",
   "metadata": {},
   "source": [
    "#### Data indexing  \n",
    "Pandas provides various methods to customise a dataframe index:  \n",
    "* __set_index()__  \n",
    "    * Set one or more columns as the DataFrames index.\n",
    "    * Useful for performing operations on a specific column.\n",
    "    * To save changes, modify the existing DataFrame with the updated one, or use __inplace=True__.\n",
    "* __reset_index()__\n",
    "    * Resets the index to the default integer index.\n",
    "    * Optionally removes the existing index.\n"
   ]
  },
  {
   "cell_type": "code",
   "execution_count": null,
   "metadata": {},
   "outputs": [],
   "source": [
    "# Set 'Name' column as index and save changes\n",
    "df = df.set_index('Name') \n",
    "print(df)"
   ]
  },
  {
   "cell_type": "code",
   "execution_count": null,
   "metadata": {},
   "outputs": [],
   "source": [
    "# You can use inplace=True to directly save changes\n",
    "df.set_index('Name', inplace=True)\n",
    "print(df)"
   ]
  },
  {
   "cell_type": "code",
   "execution_count": null,
   "metadata": {},
   "outputs": [],
   "source": [
    "# Reset index and remove existing index\n",
    "#df = df.reset_index(drop=True)\n",
    "# NOTE drop=True will remove the exisitin index altogether - data may be lost!\n",
    "print(df)\n"
   ]
  },
  {
   "attachments": {},
   "cell_type": "markdown",
   "metadata": {},
   "source": [
    "# Data cleaning"
   ]
  },
  {
   "cell_type": "markdown",
   "metadata": {},
   "source": [
    "### Removing columns or rows  "
   ]
  },
  {
   "cell_type": "markdown",
   "metadata": {},
   "source": [
    "__drop()__  \n",
    "* Remove rows or columns from a dataframe.  \n",
    "* You can remove a row or column based on its index or label.  \n",
    "    * Row = index.  \n",
    "    * Column = label.  \n",
    "\n",
    "You might want to remove cells or rows/columns from a Pandas DataFrame in cases where data is incorrect, missing or irrelevant for your analysis.  \n",
    "Removing cells/rows/columns can help you clean and pre-process the data for further analysis."
   ]
  },
  {
   "cell_type": "code",
   "execution_count": 27,
   "metadata": {},
   "outputs": [
    {
     "name": "stdout",
     "output_type": "stream",
     "text": [
      "   A  B   C\n",
      "0  1  5  10\n",
      "1  2  4  20\n",
      "2  3  3  30\n",
      "3  4  2  40\n",
      "4  5  1  50\n"
     ]
    }
   ],
   "source": [
    "# Creating a sample dataframe \n",
    "df = pd.DataFrame({'A': [1,2,3,4,5],\n",
    "                   'B': [5,4,3,2,1],\n",
    "                   'C': [10,20,30,40,50]})\n",
    "print(df)"
   ]
  },
  {
   "cell_type": "code",
   "execution_count": 28,
   "metadata": {},
   "outputs": [
    {
     "name": "stdout",
     "output_type": "stream",
     "text": [
      "   A  B   C\n",
      "0  1  5  10\n",
      "2  3  3  30\n",
      "3  4  2  40\n",
      "4  5  1  50\n"
     ]
    }
   ],
   "source": [
    "# removing the 2nd row (index = 1)\n",
    "df = df.drop(index=1)\n",
    "print(df)"
   ]
  },
  {
   "cell_type": "code",
   "execution_count": 29,
   "metadata": {},
   "outputs": [
    {
     "name": "stdout",
     "output_type": "stream",
     "text": [
      "   A   C\n",
      "0  1  10\n",
      "2  3  30\n",
      "3  4  40\n",
      "4  5  50\n"
     ]
    }
   ],
   "source": [
    "# Removing column 'B'\n",
    "df = df.drop(columns='B')\n",
    "print(df)"
   ]
  },
  {
   "cell_type": "code",
   "execution_count": 37,
   "metadata": {},
   "outputs": [
    {
     "name": "stdout",
     "output_type": "stream",
     "text": [
      "      Name   Age           City   Salary  Gender\n",
      "0    Alice  25.0       New York  25000.0  Female\n",
      "1      Bob  30.0  San Francisco  27000.0    Male\n",
      "2  Charlie  35.0           None      NaN    None\n",
      "3    David   NaN    Los Angeles  23000.0    Male\n",
      "4     None  40.0        Chicago  37500.0    Male\n",
      "5    Alice  25.0       New York  25000.0  Female\n"
     ]
    }
   ],
   "source": [
    "# Remake the DataFrame after editing the indexes\n",
    "data = {\n",
    " \"Name\": [\"Alice\", \"Bob\", \"Charlie\", \"David\", None, \"Alice\"],\n",
    " \"Age\": [25, 30, 35, None, 40, 25],\n",
    " \"City\": [\"New York\", \"San Francisco\", None, \"Los Angeles\", \"Chicago\", \"New York\"],\n",
    " \"Salary\": [25000, 27000, None, 23000, 37500, 25000],\n",
    " \"Gender\": [\"Female\", \"Male\", None, \"Male\", \"Male\", \"Female\"]\n",
    "}\n",
    "df = pd.DataFrame(data)\n",
    "\n",
    "print(df)"
   ]
  },
  {
   "cell_type": "markdown",
   "metadata": {},
   "source": [
    "### Correcting date formats\n"
   ]
  },
  {
   "cell_type": "markdown",
   "metadata": {},
   "source": [
    "\n",
    "* Incorrect date formats can cause problems during processing and analysing the data.\n",
    "* A dataframe with a column named ‘Date’ contains date values in the format ‘dd/mm/yyyy’\n",
    "* We need to perform operations on the dates, so we convert the format to ‘yyyy-mm-dd’ (another standard format for dates).\n",
    "* Conversion is done using the pandas to_datetime() method."
   ]
  },
  {
   "cell_type": "code",
   "execution_count": 34,
   "metadata": {},
   "outputs": [
    {
     "name": "stdout",
     "output_type": "stream",
     "text": [
      "         Date\n",
      "0  01/01/2001\n",
      "1  02/01/2001\n",
      "2  03/01/2001\n"
     ]
    }
   ],
   "source": [
    "# Create a sample dataframe \n",
    "data = {'Date': ['01/01/2001','02/01/2001','03/01/2001']}\n",
    "dates_df = pd.DataFrame(data)\n",
    "print(dates_df)"
   ]
  },
  {
   "cell_type": "code",
   "execution_count": 35,
   "metadata": {},
   "outputs": [
    {
     "name": "stdout",
     "output_type": "stream",
     "text": [
      "         Date\n",
      "0  2001-01-01\n",
      "1  2001-01-02\n",
      "2  2001-01-03\n"
     ]
    }
   ],
   "source": [
    "# Converting the date format  \n",
    "dates_df['Date'] = pd.to_datetime(dates_df['Date'], format = '%d/%m/%Y')\n",
    "\n",
    "# Chnging the format of hte date column \n",
    "dates_df['Date'] = dates_df['Date'].dt.strftime('%Y-%m-%d')\n",
    "\n",
    "# Check the results \n",
    "print(df)"
   ]
  },
  {
   "cell_type": "markdown",
   "metadata": {},
   "source": [
    "### Dealing with missing values  "
   ]
  },
  {
   "cell_type": "markdown",
   "metadata": {},
   "source": [
    "Missing values occur when no data is stored for certain observations in a variable. \n",
    "They can arise due to data entry errors, data collection problems, or automatic conversions or truncation during data processing.  \n",
    "\n",
    "Why we can’t just leave the errors:  \n",
    "* Data Integrity  \n",
    "    * Missing values can lead to incorrect or biased analysis results.   \n",
    "    * For example, calculating the mean of a column with missing values will give an inaccurate result.  \n",
    "* Machine Learning Models won't handle them.   \n",
    "    * Most machine learning algorithms do not support data with missing values.  \n",
    "    * It is crucial to handle them before feeding the data into an algorithm.  \n",
    "\n",
    "How we handle them:  \n",
    "* Data Imputation  \n",
    "    * Filling missing values, also known as imputation.  \n",
    "    * This can make the dataset complete and improve the quality of the data.  \n",
    "    * Methods include using a constant value, mean, median, mode, or using predictive modelling.  \n",
    "* Removing Data  \n",
    "    * In some cases, it might be better to remove the observations with missing values, especially if they are a small subset of the data.  \n",
    "    * However, if they are a larger proportion of the dataset, this could lead to loss of information.  \n",
    "\n",
    "In Pandas, we can use:\n",
    "* __isnull()__ or __isna()__ to detect missing values, and  \n",
    "* __dropna()__ or __fillna()__ to remove or fill missing values.  \n",
    "\n",
    "By default, __dropna()__ removes the entire row where ANY column value is missing.  \n",
    "We can control this by specifying __how='all'__ if we want to only remove rows where ALL of the column values are missing.\n"
   ]
  },
  {
   "cell_type": "code",
   "execution_count": 44,
   "metadata": {},
   "outputs": [
    {
     "name": "stdout",
     "output_type": "stream",
     "text": [
      "    Name    Age   City  Salary  Gender\n",
      "0  False  False  False   False   False\n",
      "1  False  False  False   False   False\n",
      "2  False  False   True    True    True\n",
      "3  False  False  False   False   False\n",
      "4   True  False  False   False   False\n",
      "5  False  False  False   False   False\n"
     ]
    }
   ],
   "source": [
    "# Detect missing values in the DataFrame\n",
    "print(df.isnull())"
   ]
  },
  {
   "cell_type": "code",
   "execution_count": 39,
   "metadata": {},
   "outputs": [
    {
     "name": "stdout",
     "output_type": "stream",
     "text": [
      "Name      1\n",
      "Age       1\n",
      "City      1\n",
      "Salary    1\n",
      "Gender    1\n",
      "dtype: int64\n"
     ]
    }
   ],
   "source": [
    "# Count missing values in each column\n",
    "print(df.isnull().sum())"
   ]
  },
  {
   "cell_type": "code",
   "execution_count": 40,
   "metadata": {},
   "outputs": [
    {
     "name": "stdout",
     "output_type": "stream",
     "text": [
      "    Name    Age   City  Salary  Gender\n",
      "0   True   True   True    True    True\n",
      "1   True   True   True    True    True\n",
      "2   True   True  False   False   False\n",
      "3   True  False   True    True    True\n",
      "4  False   True   True    True    True\n",
      "5   True   True   True    True    True\n"
     ]
    }
   ],
   "source": [
    "# Detect existing (non-missing) values in the DataFrame\n",
    "print(df.notnull())"
   ]
  },
  {
   "cell_type": "code",
   "execution_count": 41,
   "metadata": {},
   "outputs": [
    {
     "name": "stdout",
     "output_type": "stream",
     "text": [
      "    Name   Age           City   Salary  Gender\n",
      "0  Alice  25.0       New York  25000.0  Female\n",
      "1    Bob  30.0  San Francisco  27000.0    Male\n",
      "5  Alice  25.0       New York  25000.0  Female\n"
     ]
    }
   ],
   "source": [
    "# Remove missing values from the DataFrame\n",
    "df_no_na = df.dropna()\n",
    "print(df_no_na)"
   ]
  },
  {
   "cell_type": "code",
   "execution_count": 42,
   "metadata": {},
   "outputs": [
    {
     "name": "stdout",
     "output_type": "stream",
     "text": [
      "      Name   Age           City   Salary  Gender\n",
      "0    Alice  25.0       New York  25000.0  Female\n",
      "1      Bob  30.0  San Francisco  27000.0    Male\n",
      "2  Charlie  35.0           None      NaN    None\n",
      "3    David   0.0    Los Angeles  23000.0    Male\n",
      "4     None  40.0        Chicago  37500.0    Male\n",
      "5    Alice  25.0       New York  25000.0  Female\n"
     ]
    }
   ],
   "source": [
    "# Fill missing values in 'column' with a specified value\n",
    "df['Age'] = df['Age'].fillna(0)\n",
    "print(df)"
   ]
  },
  {
   "cell_type": "code",
   "execution_count": 43,
   "metadata": {},
   "outputs": [
    {
     "name": "stdout",
     "output_type": "stream",
     "text": [
      "      Name   Age           City   Salary  Gender\n",
      "0    Alice  25.0       New York  25000.0  Female\n",
      "1      Bob  30.0  San Francisco  27000.0    Male\n",
      "2  Charlie  35.0              0      0.0       0\n",
      "3    David   0.0    Los Angeles  23000.0    Male\n",
      "4        0  40.0        Chicago  37500.0    Male\n",
      "5    Alice  25.0       New York  25000.0  Female\n"
     ]
    }
   ],
   "source": [
    "# Fill missing values with a specified value (0)\n",
    "df_filled = df.fillna(0)\n",
    "print(df_filled)"
   ]
  },
  {
   "cell_type": "code",
   "execution_count": null,
   "metadata": {},
   "outputs": [],
   "source": [
    "# Get rows where 'Age' column values are null\n",
    "missing_data = df[df['Age'].isna()]\n",
    "print(missing_data)"
   ]
  },
  {
   "cell_type": "code",
   "execution_count": null,
   "metadata": {},
   "outputs": [],
   "source": [
    "# Replace null values in 'Age' column with zero\n",
    "df['Age'].fillna(value=0, inplace=True)\n",
    "# Replace null values in 'Salary' column with mean of the column\n",
    "df['Salary'].fillna(value=df['Salary'].mean(), inplace=True)\n",
    "print(df)\n"
   ]
  },
  {
   "cell_type": "code",
   "execution_count": 45,
   "metadata": {},
   "outputs": [
    {
     "name": "stdout",
     "output_type": "stream",
     "text": [
      "      Name   Age           City   Salary  Gender\n",
      "0    Alice  25.0       New York  25000.0  Female\n",
      "1      Bob  30.0  San Francisco  27000.0    Male\n",
      "2  Charlie  35.0           None      NaN    None\n",
      "3    David   0.0    Los Angeles  23000.0    Male\n",
      "5    Alice  25.0       New York  25000.0  Female\n"
     ]
    }
   ],
   "source": [
    "# Drop rows where any of 'Age' or 'Name' column value is missing\n",
    "df.dropna(subset=['Age', 'Name'], how='any', inplace=True)\n",
    "print(df)"
   ]
  },
  {
   "attachments": {},
   "cell_type": "markdown",
   "metadata": {},
   "source": [
    "### Removing Duplicates"
   ]
  },
  {
   "cell_type": "markdown",
   "metadata": {},
   "source": [
    "Duplicate data can cause problems in data analysis.  \n",
    "* Inflating the sample size.\n",
    "* Biasing the results of the analysis.\n",
    "* __.duplicated()__ identifies duplicate rows in a DataFrame.\n",
    "    * __keep='first’__ keeps the first observed row, marks later ones as duplicates (this is the default).\n",
    "    * __keep='last’__ keeps the last observed duplicate row.\n",
    "    * __keep=False__ marks all duplicates.\n",
    "* __.drop_duplicates()__ removes duplicate rows from the DataFrame.\n"
   ]
  },
  {
   "cell_type": "code",
   "execution_count": 46,
   "metadata": {},
   "outputs": [
    {
     "name": "stdout",
     "output_type": "stream",
     "text": [
      "    Name   Age      City   Salary  Gender\n",
      "5  Alice  25.0  New York  25000.0  Female\n"
     ]
    }
   ],
   "source": [
    "# Get duplicated rows based on all columns\n",
    "duplicates = df[df.duplicated()]\n",
    "# Get duplicated rows based on 'Name' and 'Age' columns\n",
    "duplicates = df[df.duplicated(subset=['Name', 'Age'])]\n",
    "print(duplicates)"
   ]
  },
  {
   "cell_type": "code",
   "execution_count": 47,
   "metadata": {},
   "outputs": [
    {
     "name": "stdout",
     "output_type": "stream",
     "text": [
      "1\n",
      "(4, 5)\n",
      "      Name   Age           City   Salary  Gender\n",
      "0    Alice  25.0       New York  25000.0  Female\n",
      "1      Bob  30.0  San Francisco  27000.0    Male\n",
      "2  Charlie  35.0           None      NaN    None\n",
      "3    David   0.0    Los Angeles  23000.0    Male\n"
     ]
    }
   ],
   "source": [
    "# Check count of duplicated rows based on 'Name' and 'Age' columns\n",
    "print(df.duplicated(subset=['Name', 'Age']).sum())\n",
    "# Drop duplicated rows and check the resulting shape\n",
    "print(df.drop_duplicates().shape)\n",
    "# If satisfied with the resulting shape, save changes\n",
    "df.drop_duplicates(inplace=True)\n",
    "print(df)"
   ]
  },
  {
   "attachments": {},
   "cell_type": "markdown",
   "metadata": {},
   "source": [
    "### Converting Data Types"
   ]
  },
  {
   "cell_type": "markdown",
   "metadata": {},
   "source": [
    "Correct data types are crucial for data analysis. Pandas provides methods to convert data types as needed.  \n",
    "\n",
    "__.astype()__\n",
    "* Change the data type of a specific column.  \n",
    "* Useful for:\n",
    "    * Converting booleans to int (True to 1, False to 0).  \n",
    "    * Or for encoding text categories  \n",
    "        * ‘Female’ and ‘Male’ to ‘0’ and ‘1’.  \n",
    "        * City name ‘New York’ to '1''.  "
   ]
  },
  {
   "cell_type": "code",
   "execution_count": 48,
   "metadata": {},
   "outputs": [
    {
     "name": "stdout",
     "output_type": "stream",
     "text": [
      "Name       object\n",
      "Age       float64\n",
      "City       object\n",
      "Salary    float64\n",
      "Gender     object\n",
      "dtype: object\n",
      "      Name   Age           City   Salary  Gender\n",
      "0    Alice  25.0       New York  25000.0       0\n",
      "1      Bob  30.0  San Francisco  27000.0       1\n",
      "2  Charlie  35.0           None      NaN       0\n",
      "3    David   0.0    Los Angeles  23000.0       1\n"
     ]
    }
   ],
   "source": [
    "# Check data types of all columns\n",
    "print(df.dtypes)\n",
    "# Change 'Age' column data type to float\n",
    "df['Age'] = df['Age'].astype('float')\n",
    "# Convert 'Gender' column values 'Male' to 1 and others to 0\n",
    "df['Gender'] = pd.Series(df['Gender'] == 'Male').astype('int')\n",
    "print(df)"
   ]
  },
  {
   "cell_type": "code",
   "execution_count": 49,
   "metadata": {},
   "outputs": [
    {
     "name": "stdout",
     "output_type": "stream",
     "text": [
      "Name       object\n",
      "Age       float64\n",
      "City       object\n",
      "Salary    float64\n",
      "Gender      int32\n",
      "dtype: object\n",
      "      Name   Age  City   Salary  Gender\n",
      "0    Alice  25.0     1  25000.0       0\n",
      "1      Bob  30.0     0  27000.0       1\n",
      "2  Charlie  35.0     0      NaN       0\n",
      "3    David   0.0     0  23000.0       1\n"
     ]
    }
   ],
   "source": [
    "# Check data types of all columns\n",
    "print(df.dtypes)\n",
    "\n",
    "# Change 'Salary' column data type to float\n",
    "df['Salary'] = df['Salary'].astype('float')\n",
    "\n",
    "# Convert 'City' column values 'New York' to 1 and others to 0\n",
    "df['City'] = pd.Series(df['City'] == 'New York').astype('int')\n",
    "\n",
    "print(df)\n"
   ]
  },
  {
   "attachments": {},
   "cell_type": "markdown",
   "metadata": {},
   "source": [
    "### String Operations"
   ]
  },
  {
   "cell_type": "markdown",
   "metadata": {},
   "source": [
    "Pandas offers string operations;  \n",
    "* __.str__ accessor for object data type columns.  \n",
    "* __.str.lower()__ and __.str.upper()__ to convert strings to lowercase or uppercase.\n",
    "* __.str.replace()__ replaces substrings within strings.  "
   ]
  },
  {
   "cell_type": "code",
   "execution_count": 57,
   "metadata": {},
   "outputs": [
    {
     "name": "stdout",
     "output_type": "stream",
     "text": [
      "    Name  Age           City  Salary  Gender\n",
      "0  Alice   25       New York  $25000  Female\n",
      "1    Bob   30  San Francisco  $27000    Male\n"
     ]
    }
   ],
   "source": [
    "# Remake the DataFrame after editing the indexes\n",
    "s_data = {\n",
    " \"Name\": [\"Alice\", \"Bob\"],\n",
    " \"Age\": [25, 30],\n",
    " \"City\": [\"New York\", \"San Francisco\"],\n",
    " \"Salary\": ['$25000', '$27000'],\n",
    " \"Gender\": [\"Female\", \"Male\"]\n",
    "}\n",
    "s_df = pd.DataFrame(s_data)\n",
    "print(s_df)\n",
    "\n"
   ]
  },
  {
   "cell_type": "code",
   "execution_count": 58,
   "metadata": {},
   "outputs": [
    {
     "name": "stdout",
     "output_type": "stream",
     "text": [
      "    Name  Age           City   Salary  Gender\n",
      "0  Alice   25       New York  25000.0  Female\n",
      "1    Bob   30  San Francisco  27000.0    Male\n"
     ]
    }
   ],
   "source": [
    "# Convert 'Salary' column values from object (string) to float\n",
    "s_df['Salary'] = s_df['Salary'].str.replace('$','').astype('float')\n",
    "print(s_df)"
   ]
  },
  {
   "cell_type": "markdown",
   "metadata": {},
   "source": [
    "More string operations:  \n",
    "* __.str.contains()__  \n",
    "    * Check if a specific substring or pattern exists within a string.  \n",
    "    * Returns a boolean Series.  \n",
    "    * Indicates whether each element contains the specified pattern.  \n",
    "* __.str.slice()__  \n",
    "    * Extract a substring from each string in a Series.  \n",
    "    * Specify the start and end positions to define the slice.  \n",
    "    * Python slicing is inclusive of start and exclusive of stop.  "
   ]
  },
  {
   "cell_type": "code",
   "execution_count": 59,
   "metadata": {},
   "outputs": [
    {
     "name": "stdout",
     "output_type": "stream",
     "text": [
      "    Name   Age  City   Salary  Gender Substring\n",
      "0  Alice  25.0     1  25000.0       0       ice\n"
     ]
    }
   ],
   "source": [
    "# Get rows where 'Name' column contains 'Alice'\n",
    "contains_pattern = df['Name'].str.contains('Alice')\n",
    "filtered_data = df[contains_pattern]\n",
    "print(filtered_data)"
   ]
  },
  {
   "cell_type": "code",
   "execution_count": 60,
   "metadata": {},
   "outputs": [
    {
     "name": "stdout",
     "output_type": "stream",
     "text": [
      "      Name   Age  City   Salary  Gender Substring\n",
      "0    Alice  25.0     1  25000.0       0       ice\n",
      "1      Bob  30.0     0  27000.0       1         b\n",
      "2  Charlie  35.0     0      NaN       0       arl\n",
      "3    David   0.0     0  23000.0       1       vid\n"
     ]
    }
   ],
   "source": [
    "# Extracts characters at indices 2, 3, and 4 from each string in 'Name' column\n",
    "df['Substring'] = df['Name'].str.slice(start=2, stop=5)\n",
    "print(df)"
   ]
  },
  {
   "cell_type": "markdown",
   "metadata": {},
   "source": [
    "### TASK 3: Data cleaning in Pandas  \n",
    "* Complete the exercises in the __Task 3__ section.  \n",
    "* OPTIONAL: Find your own data and apply some of the data cleaning techniques to a new dataset.\n",
    "If you don't have any data to hand, try these resources:  \n",
    "    * https://www.kaggle.com/datasets?fileType=csv  \n",
    "    * https://datasetsearch.research.google.com/ \n",
    "    \n",
    "    "
   ]
  },
  {
   "attachments": {},
   "cell_type": "markdown",
   "metadata": {},
   "source": [
    "# Data Manipulation"
   ]
  },
  {
   "cell_type": "markdown",
   "metadata": {},
   "source": [
    "A core task in data analysis, it involves transforming and modifying data to derive insights or prepare it for further analysis.\n",
    "\n",
    "Pandas:\n",
    "* provides a rich set of methods for data manipulation.  \n",
    "* empowers you to shape your data to meet your specific needs.  \n",
    "    * Filtering  \n",
    "    * Transformation  \n",
    "    * Aggregation  \n",
    "    * Sorting  \n"
   ]
  },
  {
   "cell_type": "code",
   "execution_count": 61,
   "metadata": {},
   "outputs": [
    {
     "name": "stdout",
     "output_type": "stream",
     "text": [
      "      Name   Age  City  Salary  Gender\n",
      "0    Alice  25.0     1   25000       0\n",
      "1      Bob  30.0     0   27000       1\n",
      "2  Charlie  35.0     0   27500       0\n",
      "3    David   NaN     0   23000       1\n"
     ]
    }
   ],
   "source": [
    "# Create DataFrame\n",
    "data = {\n",
    " \"Name\": [\"Alice\", \"Bob\", \"Charlie\", \"David\"],\n",
    " \"Age\": [25, 30, 35, None],\n",
    " \"City\": [1, 0, 0, 0],\n",
    " \"Salary\": [25000, 27000, 27500, 23000],\n",
    " \"Gender\": [0, 1, 0, 1]\n",
    "}\n",
    "df = pd.DataFrame(data)\n",
    "print(df)"
   ]
  },
  {
   "cell_type": "code",
   "execution_count": 62,
   "metadata": {},
   "outputs": [
    {
     "name": "stdout",
     "output_type": "stream",
     "text": [
      "      Name   Age  City  Salary  Gender\n",
      "1      Bob  30.0     0   27000       1\n",
      "2  Charlie  35.0     0   27500       0\n"
     ]
    }
   ],
   "source": [
    "# Filtering\n",
    "# This line filters rows where 'Age' is greater than 25\n",
    "filtered_df = df[df['Age'] > 25]\n",
    "print(filtered_df)"
   ]
  },
  {
   "cell_type": "code",
   "execution_count": 63,
   "metadata": {},
   "outputs": [
    {
     "name": "stdout",
     "output_type": "stream",
     "text": [
      "      Name   Age  City   Salary  Gender\n",
      "0    Alice  25.0     1  27500.0       0\n",
      "1      Bob  30.0     0  29700.0       1\n",
      "2  Charlie  35.0     0  30250.0       0\n",
      "3    David   NaN     0  25300.0       1\n"
     ]
    }
   ],
   "source": [
    "# Transformation\n",
    "# This line applies a function to 'Salary' column that increases each salary by 10%\n",
    "df['Salary'] = df['Salary'].apply(lambda x: x*1.1)\n",
    "print(df)"
   ]
  },
  {
   "cell_type": "code",
   "execution_count": 64,
   "metadata": {},
   "outputs": [
    {
     "name": "stdout",
     "output_type": "stream",
     "text": [
      "28187.500000000004\n"
     ]
    }
   ],
   "source": [
    "# Aggregation\n",
    "# This line computes the mean of 'Salary' column\n",
    "mean_salary = df['Salary'].mean()\n",
    "print(mean_salary)"
   ]
  },
  {
   "cell_type": "code",
   "execution_count": 66,
   "metadata": {},
   "outputs": [
    {
     "name": "stdout",
     "output_type": "stream",
     "text": [
      "      Name   Age  City   Salary  Gender\n",
      "2  Charlie  35.0     0  30250.0       0\n",
      "1      Bob  30.0     0  29700.0       1\n",
      "0    Alice  25.0     1  27500.0       0\n",
      "3    David   NaN     0  25300.0       1\n"
     ]
    }
   ],
   "source": [
    "# Sorting\n",
    "# This line sorts DataFrame by 'Age' column in descending order\n",
    "sorted_df = df.sort_values(by='Age', ascending=False)\n",
    "print(sorted_df)"
   ]
  },
  {
   "cell_type": "markdown",
   "metadata": {},
   "source": [
    "## Applying functions to dataframes    "
   ]
  },
  {
   "cell_type": "markdown",
   "metadata": {},
   "source": [
    "__Avoid using .iterrows() for element-wise operations due to inefficiency.__  \n",
    "Use vectorised operations whenever possible.\n",
    "Pandas is optimised to use vector-wise operations.  \n",
    "\n",
    "* __apply__  \n",
    "    * Apply a custom function to a Series, or to the entire DataFrame.\n",
    "    * Series: each element of the original column is passed to the function.\n",
    "    * DataFrame: based on the axis (1 - row, 0 – column), an entire row or column is passed to the function.\n",
    "\n",
    "* __map__  \n",
    "    * Applies a function to each element of a Series or DataFrame.\n",
    "        * *applymap() used to be the DataFrame function.*\n",
    "        * *map() now works on Series and DataFrame.*\n",
    "        * *applymap() might still need to be used in older Pandas versions.*\n",
    "    * Useful for transforming one column based on values from another.  "
   ]
  },
  {
   "cell_type": "code",
   "execution_count": 67,
   "metadata": {},
   "outputs": [
    {
     "name": "stdout",
     "output_type": "stream",
     "text": [
      "      Name   Age           City   Salary  Gender\n",
      "0    Alice  25.0       New York  25000.0  Female\n",
      "1      Bob  30.0  San Francisco  27000.0    Male\n",
      "2  Charlie  35.0           None      NaN    None\n",
      "3    David   NaN    Los Angeles  23000.0    Male\n",
      "4     None  40.0        Chicago  37500.0    Male\n"
     ]
    }
   ],
   "source": [
    "data = {\n",
    " \"Name\": [\"Alice\", \"Bob\", \"Charlie\", \"David\", None],\n",
    " \"Age\": [25, 30, 35, None, 40],\n",
    " \"City\": [\"New York\", \"San Francisco\", None, \"Los Angeles\", \"Chicago\"],\n",
    " \"Salary\": [25000, 27000, None, 23000, 37500],\n",
    " \"Gender\": [\"Female\", \"Male\", None, \"Male\", \"Male\"]\n",
    "}\n",
    "df = pd.DataFrame(data)\n",
    "\n",
    "print(df)"
   ]
  },
  {
   "cell_type": "code",
   "execution_count": null,
   "metadata": {},
   "outputs": [],
   "source": [
    "# Define a function to calculate age in months\n",
    "def age_in_months(x):\n",
    "    if isinstance(x, (int, float)):\n",
    "        return x * 12\n",
    "    return x\n",
    "\n",
    "# Apply the function to the 'Age' column\n",
    "df['Age_in_Months'] = df['Age'].apply(age_in_months)\n",
    "\n",
    "print(df)"
   ]
  },
  {
   "cell_type": "code",
   "execution_count": null,
   "metadata": {},
   "outputs": [],
   "source": [
    "# Define a function to map genders to numerical values\n",
    "mapping_dict = {'Female': 0, 'Male': 1}\n",
    "\n",
    "# Apply the mapping to the 'Gender' column\n",
    "df['Gender_Numerical'] = df['Gender'].map(mapping_dict)\n",
    "print(df)"
   ]
  },
  {
   "cell_type": "code",
   "execution_count": null,
   "metadata": {},
   "outputs": [],
   "source": [
    "# Define a function to replace None values with 'Unknown'\n",
    "def replace_none(x):\n",
    "    if x is None:\n",
    "        return 'Unknown'\n",
    "    return x\n",
    "\n",
    "# Apply the function to the entire DataFrame\n",
    "df = df.map(replace_none)\n",
    "\n",
    "print(df)\n"
   ]
  },
  {
   "cell_type": "markdown",
   "metadata": {},
   "source": [
    "# Data joins "
   ]
  },
  {
   "attachments": {},
   "cell_type": "markdown",
   "metadata": {},
   "source": [
    "### Concatenate"
   ]
  },
  {
   "cell_type": "markdown",
   "metadata": {},
   "source": [
    "Concatenate DataFrames vertically or horizontally.  \n",
    "* __pd.concat()__  \n",
    "    * __axis=0__ \n",
    "        * Concatenates in the rows.\n",
    "        * Adds the rows of the second DataFrame to the end of the first DataFrame.\n",
    "    * __axis=1__\n",
    "        * Concatenates in the columns.\n",
    "        * Adds the columns of the second DataFrame to the end of the first DataFrame.\n",
    "        * Checks for common columns between both DataFrames. or common indices.\n",
    "        * For the matched columns, it concatenates in the rows.\n",
    "        * If there are columns or indices that do not match, they will be filled with NaN values.\n"
   ]
  },
  {
   "cell_type": "code",
   "execution_count": 68,
   "metadata": {},
   "outputs": [
    {
     "name": "stdout",
     "output_type": "stream",
     "text": [
      "   A  B  C\n",
      "0  1  4  1\n",
      "1  2  5  2\n",
      "2  3  6  3\n"
     ]
    }
   ],
   "source": [
    "# Sample DataFrame 1 \n",
    "data1 = {'A': [1, 2, 3], 'B': [4, 5, 6], 'C':[1,2,3]}\n",
    "df1 = pd.DataFrame(data1)\n",
    "print(df1)"
   ]
  },
  {
   "cell_type": "code",
   "execution_count": 69,
   "metadata": {},
   "outputs": [
    {
     "name": "stdout",
     "output_type": "stream",
     "text": [
      "   A   B  D\n",
      "0  7  10  1\n",
      "1  8  11  2\n",
      "2  9  12  3\n"
     ]
    }
   ],
   "source": [
    "# Sample DataFrame 2 with the same column names as DataFrame 1\n",
    "data2 = {'A': [7, 8, 9], 'B': [10, 11, 12], 'D':[1,2,3]}\n",
    "df2 = pd.DataFrame(data2)\n",
    "print(df2)"
   ]
  },
  {
   "cell_type": "code",
   "execution_count": 74,
   "metadata": {},
   "outputs": [
    {
     "data": {
      "text/html": [
       "<div>\n",
       "<style scoped>\n",
       "    .dataframe tbody tr th:only-of-type {\n",
       "        vertical-align: middle;\n",
       "    }\n",
       "\n",
       "    .dataframe tbody tr th {\n",
       "        vertical-align: top;\n",
       "    }\n",
       "\n",
       "    .dataframe thead th {\n",
       "        text-align: right;\n",
       "    }\n",
       "</style>\n",
       "<table border=\"1\" class=\"dataframe\">\n",
       "  <thead>\n",
       "    <tr style=\"text-align: right;\">\n",
       "      <th></th>\n",
       "      <th>A</th>\n",
       "      <th>B</th>\n",
       "      <th>C</th>\n",
       "    </tr>\n",
       "  </thead>\n",
       "  <tbody>\n",
       "    <tr>\n",
       "      <th>0</th>\n",
       "      <td>1.0</td>\n",
       "      <td>4</td>\n",
       "      <td>NaN</td>\n",
       "    </tr>\n",
       "    <tr>\n",
       "      <th>1</th>\n",
       "      <td>2.0</td>\n",
       "      <td>5</td>\n",
       "      <td>NaN</td>\n",
       "    </tr>\n",
       "    <tr>\n",
       "      <th>2</th>\n",
       "      <td>3.0</td>\n",
       "      <td>6</td>\n",
       "      <td>NaN</td>\n",
       "    </tr>\n",
       "    <tr>\n",
       "      <th>0</th>\n",
       "      <td>NaN</td>\n",
       "      <td>7</td>\n",
       "      <td>10.0</td>\n",
       "    </tr>\n",
       "    <tr>\n",
       "      <th>1</th>\n",
       "      <td>NaN</td>\n",
       "      <td>8</td>\n",
       "      <td>11.0</td>\n",
       "    </tr>\n",
       "    <tr>\n",
       "      <th>2</th>\n",
       "      <td>NaN</td>\n",
       "      <td>9</td>\n",
       "      <td>12.0</td>\n",
       "    </tr>\n",
       "  </tbody>\n",
       "</table>\n",
       "</div>"
      ],
      "text/plain": [
       "     A  B     C\n",
       "0  1.0  4   NaN\n",
       "1  2.0  5   NaN\n",
       "2  3.0  6   NaN\n",
       "0  NaN  7  10.0\n",
       "1  NaN  8  11.0\n",
       "2  NaN  9  12.0"
      ]
     },
     "execution_count": 74,
     "metadata": {},
     "output_type": "execute_result"
    }
   ],
   "source": [
    "# Concatenate df1 and df2 horizontally (along columns) with same column names\n",
    "result = pd.concat([df1, df2], axis=0)\n",
    "result"
   ]
  },
  {
   "cell_type": "code",
   "execution_count": 76,
   "metadata": {},
   "outputs": [
    {
     "data": {
      "text/html": [
       "<div>\n",
       "<style scoped>\n",
       "    .dataframe tbody tr th:only-of-type {\n",
       "        vertical-align: middle;\n",
       "    }\n",
       "\n",
       "    .dataframe tbody tr th {\n",
       "        vertical-align: top;\n",
       "    }\n",
       "\n",
       "    .dataframe thead th {\n",
       "        text-align: right;\n",
       "    }\n",
       "</style>\n",
       "<table border=\"1\" class=\"dataframe\">\n",
       "  <thead>\n",
       "    <tr style=\"text-align: right;\">\n",
       "      <th></th>\n",
       "      <th>A</th>\n",
       "      <th>B</th>\n",
       "      <th>C</th>\n",
       "      <th>D</th>\n",
       "    </tr>\n",
       "  </thead>\n",
       "  <tbody>\n",
       "    <tr>\n",
       "      <th>0</th>\n",
       "      <td>1</td>\n",
       "      <td>4</td>\n",
       "      <td>7</td>\n",
       "      <td>10</td>\n",
       "    </tr>\n",
       "    <tr>\n",
       "      <th>1</th>\n",
       "      <td>2</td>\n",
       "      <td>5</td>\n",
       "      <td>8</td>\n",
       "      <td>11</td>\n",
       "    </tr>\n",
       "    <tr>\n",
       "      <th>2</th>\n",
       "      <td>3</td>\n",
       "      <td>6</td>\n",
       "      <td>9</td>\n",
       "      <td>12</td>\n",
       "    </tr>\n",
       "  </tbody>\n",
       "</table>\n",
       "</div>"
      ],
      "text/plain": [
       "   A  B  C   D\n",
       "0  1  4  7  10\n",
       "1  2  5  8  11\n",
       "2  3  6  9  12"
      ]
     },
     "execution_count": 76,
     "metadata": {},
     "output_type": "execute_result"
    }
   ],
   "source": [
    "# Sample DataFrames\n",
    "df1 = pd.DataFrame({'A': [1, 2, 3], 'B': [4, 5, 6]})\n",
    "df2 = pd.DataFrame({'C': [7, 8, 9], 'D': [10, 11, 12]})\n",
    "\n",
    "# Concatenate df1 and df2 along rows\n",
    "result = pd.concat([df1, df2], axis=1)\n",
    "\n",
    "result"
   ]
  },
  {
   "attachments": {},
   "cell_type": "markdown",
   "metadata": {},
   "source": [
    "### Merge"
   ]
  },
  {
   "cell_type": "markdown",
   "metadata": {},
   "source": [
    "Merging is the process of combining two or more DataFrames based on a common column or index, similar to SQL joins.\n",
    "\n",
    "* __.merge()__  \n",
    "    * SQL-like joins on DataFrames.\n",
    "    * __how__ - specify the type of join using the how parameter (inner, outer, left, right).\n",
    "    * __on__ - is used to specify the common column(s).\n",
    "    * If the common columns have different names in the DataFrames, we use __left_on__ and __right_on__ parameters.  \n",
    "    * We can join on index instead of columns using __left_index=True__ or __right_index=True__.  \n",
    "    * Results in a new DataFrame with all records that satisfy the join condition. Non-matching records are filled with NaN.\n"
   ]
  },
  {
   "cell_type": "markdown",
   "metadata": {},
   "source": [
    "#### Inner join"
   ]
  },
  {
   "cell_type": "markdown",
   "metadata": {},
   "source": [
    "* Returns only rows where there is a match in both DataFrames.\n",
    "* Only keep where the cells of common columns have matched.\n",
    "* Non-matching rows are not included in the output.\n",
    "* Use Case:  \n",
    "    * When you only want rows with data in both dataframes.\n",
    "    * Useful for eliminating rows with missing or mismatched data."
   ]
  },
  {
   "cell_type": "code",
   "execution_count": 82,
   "metadata": {},
   "outputs": [
    {
     "data": {
      "text/html": [
       "<div>\n",
       "<style scoped>\n",
       "    .dataframe tbody tr th:only-of-type {\n",
       "        vertical-align: middle;\n",
       "    }\n",
       "\n",
       "    .dataframe tbody tr th {\n",
       "        vertical-align: top;\n",
       "    }\n",
       "\n",
       "    .dataframe thead th {\n",
       "        text-align: right;\n",
       "    }\n",
       "</style>\n",
       "<table border=\"1\" class=\"dataframe\">\n",
       "  <thead>\n",
       "    <tr style=\"text-align: right;\">\n",
       "      <th></th>\n",
       "      <th>Name</th>\n",
       "      <th>Age</th>\n",
       "    </tr>\n",
       "  </thead>\n",
       "  <tbody>\n",
       "    <tr>\n",
       "      <th>0</th>\n",
       "      <td>Alice</td>\n",
       "      <td>25.0</td>\n",
       "    </tr>\n",
       "    <tr>\n",
       "      <th>1</th>\n",
       "      <td>Bob</td>\n",
       "      <td>30.0</td>\n",
       "    </tr>\n",
       "    <tr>\n",
       "      <th>2</th>\n",
       "      <td>Charlie</td>\n",
       "      <td>35.0</td>\n",
       "    </tr>\n",
       "    <tr>\n",
       "      <th>3</th>\n",
       "      <td>David</td>\n",
       "      <td>NaN</td>\n",
       "    </tr>\n",
       "    <tr>\n",
       "      <th>4</th>\n",
       "      <td>None</td>\n",
       "      <td>40.0</td>\n",
       "    </tr>\n",
       "  </tbody>\n",
       "</table>\n",
       "</div>"
      ],
      "text/plain": [
       "      Name   Age\n",
       "0    Alice  25.0\n",
       "1      Bob  30.0\n",
       "2  Charlie  35.0\n",
       "3    David   NaN\n",
       "4     None  40.0"
      ]
     },
     "execution_count": 82,
     "metadata": {},
     "output_type": "execute_result"
    }
   ],
   "source": [
    "data1 = {\n",
    " \"Name\": [\"Alice\", \"Bob\", \"Charlie\", \"David\", None],\n",
    " \"Age\": [25, 30, 35, None, 40]\n",
    "}\n",
    "df1 = pd.DataFrame(data1)\n",
    "df1 "
   ]
  },
  {
   "cell_type": "code",
   "execution_count": 83,
   "metadata": {},
   "outputs": [
    {
     "data": {
      "text/html": [
       "<div>\n",
       "<style scoped>\n",
       "    .dataframe tbody tr th:only-of-type {\n",
       "        vertical-align: middle;\n",
       "    }\n",
       "\n",
       "    .dataframe tbody tr th {\n",
       "        vertical-align: top;\n",
       "    }\n",
       "\n",
       "    .dataframe thead th {\n",
       "        text-align: right;\n",
       "    }\n",
       "</style>\n",
       "<table border=\"1\" class=\"dataframe\">\n",
       "  <thead>\n",
       "    <tr style=\"text-align: right;\">\n",
       "      <th></th>\n",
       "      <th>Name</th>\n",
       "      <th>City</th>\n",
       "    </tr>\n",
       "  </thead>\n",
       "  <tbody>\n",
       "    <tr>\n",
       "      <th>0</th>\n",
       "      <td>Alice</td>\n",
       "      <td>New York</td>\n",
       "    </tr>\n",
       "    <tr>\n",
       "      <th>1</th>\n",
       "      <td>Bob</td>\n",
       "      <td>San Francisco</td>\n",
       "    </tr>\n",
       "    <tr>\n",
       "      <th>2</th>\n",
       "      <td>Eve</td>\n",
       "      <td>London</td>\n",
       "    </tr>\n",
       "    <tr>\n",
       "      <th>3</th>\n",
       "      <td>None</td>\n",
       "      <td>Los Angeles</td>\n",
       "    </tr>\n",
       "  </tbody>\n",
       "</table>\n",
       "</div>"
      ],
      "text/plain": [
       "    Name           City\n",
       "0  Alice       New York\n",
       "1    Bob  San Francisco\n",
       "2    Eve         London\n",
       "3   None    Los Angeles"
      ]
     },
     "execution_count": 83,
     "metadata": {},
     "output_type": "execute_result"
    }
   ],
   "source": [
    "data2 = {\n",
    " \"Name\": [\"Alice\", \"Bob\", \"Eve\", None],\n",
    " \"City\": [\"New York\", \"San Francisco\", \"London\", \"Los Angeles\"]\n",
    "}\n",
    "df2 = pd.DataFrame(data2)\n",
    "df2"
   ]
  },
  {
   "cell_type": "code",
   "execution_count": 84,
   "metadata": {},
   "outputs": [
    {
     "name": "stdout",
     "output_type": "stream",
     "text": [
      "    Name   Age           City\n",
      "0  Alice  25.0       New York\n",
      "1    Bob  30.0  San Francisco\n",
      "2   None  40.0    Los Angeles\n"
     ]
    }
   ],
   "source": [
    "# Inner join on 'Name'\n",
    "result = pd.merge(df1, df2, on='Name', how='inner')\n",
    "print(result)"
   ]
  },
  {
   "cell_type": "markdown",
   "metadata": {},
   "source": [
    "#### Left outer join"
   ]
  },
  {
   "cell_type": "markdown",
   "metadata": {},
   "source": [
    "* Returns all rows from both DataFrames, matching records from both sides where available.  \n",
    "* If there is no match, the result is NaN.  \n",
    "* Use Case:  \n",
    "    * When you want to keep all rows from both DataFrames.\n",
    "    * Useful to combine DataFrames without losing any information, even when some records do not have a match in the other DataFrame."
   ]
  },
  {
   "cell_type": "code",
   "execution_count": 85,
   "metadata": {},
   "outputs": [
    {
     "data": {
      "text/html": [
       "<div>\n",
       "<style scoped>\n",
       "    .dataframe tbody tr th:only-of-type {\n",
       "        vertical-align: middle;\n",
       "    }\n",
       "\n",
       "    .dataframe tbody tr th {\n",
       "        vertical-align: top;\n",
       "    }\n",
       "\n",
       "    .dataframe thead th {\n",
       "        text-align: right;\n",
       "    }\n",
       "</style>\n",
       "<table border=\"1\" class=\"dataframe\">\n",
       "  <thead>\n",
       "    <tr style=\"text-align: right;\">\n",
       "      <th></th>\n",
       "      <th>Name</th>\n",
       "      <th>Age</th>\n",
       "    </tr>\n",
       "  </thead>\n",
       "  <tbody>\n",
       "    <tr>\n",
       "      <th>0</th>\n",
       "      <td>Alice</td>\n",
       "      <td>25.0</td>\n",
       "    </tr>\n",
       "    <tr>\n",
       "      <th>1</th>\n",
       "      <td>Bob</td>\n",
       "      <td>30.0</td>\n",
       "    </tr>\n",
       "    <tr>\n",
       "      <th>2</th>\n",
       "      <td>Charlie</td>\n",
       "      <td>35.0</td>\n",
       "    </tr>\n",
       "    <tr>\n",
       "      <th>3</th>\n",
       "      <td>David</td>\n",
       "      <td>NaN</td>\n",
       "    </tr>\n",
       "    <tr>\n",
       "      <th>4</th>\n",
       "      <td>None</td>\n",
       "      <td>40.0</td>\n",
       "    </tr>\n",
       "  </tbody>\n",
       "</table>\n",
       "</div>"
      ],
      "text/plain": [
       "      Name   Age\n",
       "0    Alice  25.0\n",
       "1      Bob  30.0\n",
       "2  Charlie  35.0\n",
       "3    David   NaN\n",
       "4     None  40.0"
      ]
     },
     "execution_count": 85,
     "metadata": {},
     "output_type": "execute_result"
    }
   ],
   "source": [
    "data1 = {\n",
    " \"Name\": [\"Alice\", \"Bob\", \"Charlie\", \"David\", None],\n",
    " \"Age\": [25, 30, 35, None, 40]\n",
    "}\n",
    "df1 = pd.DataFrame(data1)\n",
    "df1 "
   ]
  },
  {
   "cell_type": "code",
   "execution_count": 86,
   "metadata": {},
   "outputs": [
    {
     "data": {
      "text/html": [
       "<div>\n",
       "<style scoped>\n",
       "    .dataframe tbody tr th:only-of-type {\n",
       "        vertical-align: middle;\n",
       "    }\n",
       "\n",
       "    .dataframe tbody tr th {\n",
       "        vertical-align: top;\n",
       "    }\n",
       "\n",
       "    .dataframe thead th {\n",
       "        text-align: right;\n",
       "    }\n",
       "</style>\n",
       "<table border=\"1\" class=\"dataframe\">\n",
       "  <thead>\n",
       "    <tr style=\"text-align: right;\">\n",
       "      <th></th>\n",
       "      <th>Name</th>\n",
       "      <th>City</th>\n",
       "    </tr>\n",
       "  </thead>\n",
       "  <tbody>\n",
       "    <tr>\n",
       "      <th>0</th>\n",
       "      <td>Alice</td>\n",
       "      <td>New York</td>\n",
       "    </tr>\n",
       "    <tr>\n",
       "      <th>1</th>\n",
       "      <td>Bob</td>\n",
       "      <td>San Francisco</td>\n",
       "    </tr>\n",
       "    <tr>\n",
       "      <th>2</th>\n",
       "      <td>Eve</td>\n",
       "      <td>London</td>\n",
       "    </tr>\n",
       "    <tr>\n",
       "      <th>3</th>\n",
       "      <td>None</td>\n",
       "      <td>Los Angeles</td>\n",
       "    </tr>\n",
       "  </tbody>\n",
       "</table>\n",
       "</div>"
      ],
      "text/plain": [
       "    Name           City\n",
       "0  Alice       New York\n",
       "1    Bob  San Francisco\n",
       "2    Eve         London\n",
       "3   None    Los Angeles"
      ]
     },
     "execution_count": 86,
     "metadata": {},
     "output_type": "execute_result"
    }
   ],
   "source": [
    "data2 = {\n",
    " \"Name\": [\"Alice\", \"Bob\", \"Eve\", None],\n",
    " \"City\": [\"New York\", \"San Francisco\", \"London\", \"Los Angeles\"]\n",
    "}\n",
    "df2 = pd.DataFrame(data2)\n",
    "df2 "
   ]
  },
  {
   "cell_type": "code",
   "execution_count": 87,
   "metadata": {},
   "outputs": [
    {
     "name": "stdout",
     "output_type": "stream",
     "text": [
      "      Name   Age           City\n",
      "0    Alice  25.0       New York\n",
      "1      Bob  30.0  San Francisco\n",
      "2  Charlie  35.0            NaN\n",
      "3    David   NaN            NaN\n",
      "4     None  40.0    Los Angeles\n",
      "5      Eve   NaN         London\n"
     ]
    }
   ],
   "source": [
    "# Left join on 'Name'\n",
    "result = pd.merge(df1, df2, on='Name', how='outer')\n",
    "print(result)"
   ]
  },
  {
   "cell_type": "markdown",
   "metadata": {},
   "source": [
    "#### Joining on different column names "
   ]
  },
  {
   "cell_type": "markdown",
   "metadata": {},
   "source": [
    "* When the common columns have different names in the DataFrames,  we specify them manually:\n",
    "    * __left_on=column_name__  \n",
    "    * __right_on=column_name__ \n",
    "* Use Case\n",
    "    * When you have two DataFrames with a common concept represented in different column names.\n",
    "        * DataFrame 1: ‘Employee’ column  \n",
    "        * DataFrame 2: ‘Name’ column  \n",
    "    * If these columns represent the same concept, i.e., Employee name, use __left_on__ and __right_on__ to join these DataFrames based on this common concept."
   ]
  },
  {
   "cell_type": "code",
   "execution_count": 88,
   "metadata": {},
   "outputs": [
    {
     "data": {
      "text/html": [
       "<div>\n",
       "<style scoped>\n",
       "    .dataframe tbody tr th:only-of-type {\n",
       "        vertical-align: middle;\n",
       "    }\n",
       "\n",
       "    .dataframe tbody tr th {\n",
       "        vertical-align: top;\n",
       "    }\n",
       "\n",
       "    .dataframe thead th {\n",
       "        text-align: right;\n",
       "    }\n",
       "</style>\n",
       "<table border=\"1\" class=\"dataframe\">\n",
       "  <thead>\n",
       "    <tr style=\"text-align: right;\">\n",
       "      <th></th>\n",
       "      <th>Name</th>\n",
       "      <th>Age</th>\n",
       "    </tr>\n",
       "  </thead>\n",
       "  <tbody>\n",
       "    <tr>\n",
       "      <th>0</th>\n",
       "      <td>Alice</td>\n",
       "      <td>25.0</td>\n",
       "    </tr>\n",
       "    <tr>\n",
       "      <th>1</th>\n",
       "      <td>Bob</td>\n",
       "      <td>30.0</td>\n",
       "    </tr>\n",
       "    <tr>\n",
       "      <th>2</th>\n",
       "      <td>Charlie</td>\n",
       "      <td>35.0</td>\n",
       "    </tr>\n",
       "    <tr>\n",
       "      <th>3</th>\n",
       "      <td>David</td>\n",
       "      <td>NaN</td>\n",
       "    </tr>\n",
       "    <tr>\n",
       "      <th>4</th>\n",
       "      <td>None</td>\n",
       "      <td>40.0</td>\n",
       "    </tr>\n",
       "  </tbody>\n",
       "</table>\n",
       "</div>"
      ],
      "text/plain": [
       "      Name   Age\n",
       "0    Alice  25.0\n",
       "1      Bob  30.0\n",
       "2  Charlie  35.0\n",
       "3    David   NaN\n",
       "4     None  40.0"
      ]
     },
     "execution_count": 88,
     "metadata": {},
     "output_type": "execute_result"
    }
   ],
   "source": [
    "data1 = {\n",
    " \"Name\": [\"Alice\", \"Bob\", \"Charlie\", \"David\", None],\n",
    " \"Age\": [25, 30, 35, None, 40]\n",
    "}\n",
    "df1 = pd.DataFrame(data1)\n",
    "df1 "
   ]
  },
  {
   "cell_type": "code",
   "execution_count": 89,
   "metadata": {},
   "outputs": [
    {
     "data": {
      "text/html": [
       "<div>\n",
       "<style scoped>\n",
       "    .dataframe tbody tr th:only-of-type {\n",
       "        vertical-align: middle;\n",
       "    }\n",
       "\n",
       "    .dataframe tbody tr th {\n",
       "        vertical-align: top;\n",
       "    }\n",
       "\n",
       "    .dataframe thead th {\n",
       "        text-align: right;\n",
       "    }\n",
       "</style>\n",
       "<table border=\"1\" class=\"dataframe\">\n",
       "  <thead>\n",
       "    <tr style=\"text-align: right;\">\n",
       "      <th></th>\n",
       "      <th>Employee</th>\n",
       "      <th>City</th>\n",
       "    </tr>\n",
       "  </thead>\n",
       "  <tbody>\n",
       "    <tr>\n",
       "      <th>0</th>\n",
       "      <td>Alice</td>\n",
       "      <td>New York</td>\n",
       "    </tr>\n",
       "    <tr>\n",
       "      <th>1</th>\n",
       "      <td>Bob</td>\n",
       "      <td>San Francisco</td>\n",
       "    </tr>\n",
       "    <tr>\n",
       "      <th>2</th>\n",
       "      <td>Eve</td>\n",
       "      <td>London</td>\n",
       "    </tr>\n",
       "    <tr>\n",
       "      <th>3</th>\n",
       "      <td>None</td>\n",
       "      <td>Los Angeles</td>\n",
       "    </tr>\n",
       "  </tbody>\n",
       "</table>\n",
       "</div>"
      ],
      "text/plain": [
       "  Employee           City\n",
       "0    Alice       New York\n",
       "1      Bob  San Francisco\n",
       "2      Eve         London\n",
       "3     None    Los Angeles"
      ]
     },
     "execution_count": 89,
     "metadata": {},
     "output_type": "execute_result"
    }
   ],
   "source": [
    "data2 = {\n",
    " \"Employee\": [\"Alice\", \"Bob\", \"Eve\", None],\n",
    " \"City\": [\"New York\", \"San Francisco\", \"London\", \"Los Angeles\"]\n",
    "}\n",
    "df2 = pd.DataFrame(data2)\n",
    "df2 "
   ]
  },
  {
   "cell_type": "code",
   "execution_count": 90,
   "metadata": {},
   "outputs": [
    {
     "name": "stdout",
     "output_type": "stream",
     "text": [
      "    Name   Age Employee           City\n",
      "0  Alice  25.0    Alice       New York\n",
      "1    Bob  30.0      Bob  San Francisco\n",
      "2   None  40.0     None    Los Angeles\n"
     ]
    }
   ],
   "source": [
    "# Join on different column names\n",
    "result = pd.merge(df1, df2, left_on=\"Name\", right_on=\"Employee\")\n",
    "print(result)"
   ]
  },
  {
   "cell_type": "markdown",
   "metadata": {},
   "source": [
    "#### Joining on index"
   ]
  },
  {
   "cell_type": "markdown",
   "metadata": {},
   "source": [
    "* Match a table column with the index of another table.  \n",
    "    * __left_index=True__  \n",
    "    * __right_index=True__ \n",
    "* Use Case\n",
    "    * When one DataFrames index corresponds to a column in another DataFrame, i.e. DataFrame 1 index: is Employee IDs and DataFrame 2: has an ‘ID’ column with employee IDs, join these DataFrames based on the common concept.\n",
    "    * Useful when you want to align the data based on the index values instead of aligning them based on matching column values."
   ]
  },
  {
   "cell_type": "code",
   "execution_count": 91,
   "metadata": {},
   "outputs": [
    {
     "data": {
      "text/html": [
       "<div>\n",
       "<style scoped>\n",
       "    .dataframe tbody tr th:only-of-type {\n",
       "        vertical-align: middle;\n",
       "    }\n",
       "\n",
       "    .dataframe tbody tr th {\n",
       "        vertical-align: top;\n",
       "    }\n",
       "\n",
       "    .dataframe thead th {\n",
       "        text-align: right;\n",
       "    }\n",
       "</style>\n",
       "<table border=\"1\" class=\"dataframe\">\n",
       "  <thead>\n",
       "    <tr style=\"text-align: right;\">\n",
       "      <th></th>\n",
       "      <th>ID</th>\n",
       "      <th>Name</th>\n",
       "    </tr>\n",
       "  </thead>\n",
       "  <tbody>\n",
       "    <tr>\n",
       "      <th>0</th>\n",
       "      <td>1</td>\n",
       "      <td>Alice</td>\n",
       "    </tr>\n",
       "    <tr>\n",
       "      <th>1</th>\n",
       "      <td>2</td>\n",
       "      <td>Bob</td>\n",
       "    </tr>\n",
       "    <tr>\n",
       "      <th>2</th>\n",
       "      <td>3</td>\n",
       "      <td>Charlie</td>\n",
       "    </tr>\n",
       "  </tbody>\n",
       "</table>\n",
       "</div>"
      ],
      "text/plain": [
       "   ID     Name\n",
       "0   1    Alice\n",
       "1   2      Bob\n",
       "2   3  Charlie"
      ]
     },
     "execution_count": 91,
     "metadata": {},
     "output_type": "execute_result"
    }
   ],
   "source": [
    "data1 = {\n",
    " \"ID\": [1, 2, 3],\n",
    " \"Name\": [\"Alice\", \"Bob\", \"Charlie\"]\n",
    "}\n",
    "df1 = pd.DataFrame(data1)\n",
    "df1 "
   ]
  },
  {
   "cell_type": "code",
   "execution_count": 92,
   "metadata": {},
   "outputs": [
    {
     "data": {
      "text/html": [
       "<div>\n",
       "<style scoped>\n",
       "    .dataframe tbody tr th:only-of-type {\n",
       "        vertical-align: middle;\n",
       "    }\n",
       "\n",
       "    .dataframe tbody tr th {\n",
       "        vertical-align: top;\n",
       "    }\n",
       "\n",
       "    .dataframe thead th {\n",
       "        text-align: right;\n",
       "    }\n",
       "</style>\n",
       "<table border=\"1\" class=\"dataframe\">\n",
       "  <thead>\n",
       "    <tr style=\"text-align: right;\">\n",
       "      <th></th>\n",
       "      <th>City</th>\n",
       "      <th>Salary</th>\n",
       "    </tr>\n",
       "  </thead>\n",
       "  <tbody>\n",
       "    <tr>\n",
       "      <th>2</th>\n",
       "      <td>New York</td>\n",
       "      <td>25000</td>\n",
       "    </tr>\n",
       "    <tr>\n",
       "      <th>3</th>\n",
       "      <td>San Francisco</td>\n",
       "      <td>27000</td>\n",
       "    </tr>\n",
       "    <tr>\n",
       "      <th>4</th>\n",
       "      <td>Los Angeles</td>\n",
       "      <td>23000</td>\n",
       "    </tr>\n",
       "  </tbody>\n",
       "</table>\n",
       "</div>"
      ],
      "text/plain": [
       "            City  Salary\n",
       "2       New York   25000\n",
       "3  San Francisco   27000\n",
       "4    Los Angeles   23000"
      ]
     },
     "execution_count": 92,
     "metadata": {},
     "output_type": "execute_result"
    }
   ],
   "source": [
    "data2 = {\n",
    " \"City\": [\"New York\", \"San Francisco\", \"Los Angeles\"],\n",
    " \"Salary\": [25000, 27000, 23000]\n",
    "}\n",
    "df2 = pd.DataFrame(data2, index=[2, 3, 4])\n",
    "df2 "
   ]
  },
  {
   "cell_type": "code",
   "execution_count": 93,
   "metadata": {},
   "outputs": [
    {
     "name": "stdout",
     "output_type": "stream",
     "text": [
      "   ID     Name           City  Salary\n",
      "1   2      Bob       New York   25000\n",
      "2   3  Charlie  San Francisco   27000\n"
     ]
    }
   ],
   "source": [
    "# Joining on Index\n",
    "# Match the left dataframe 'ID' column with right dataframe index\n",
    "result = pd.merge(df1, df2, left_on=\"ID\", right_index=True)\n",
    "print(result)"
   ]
  },
  {
   "cell_type": "markdown",
   "metadata": {},
   "source": [
    "### TASKS 4 and 5: Data manipulation and joins  \n",
    "* Complete the exercises in the __Task 4__ and __Task 5__ sections.  "
   ]
  }
 ],
 "metadata": {
  "kernelspec": {
   "display_name": "Python 3",
   "language": "python",
   "name": "python3"
  },
  "language_info": {
   "codemirror_mode": {
    "name": "ipython",
    "version": 3
   },
   "file_extension": ".py",
   "mimetype": "text/x-python",
   "name": "python",
   "nbconvert_exporter": "python",
   "pygments_lexer": "ipython3",
   "version": "3.11.9"
  }
 },
 "nbformat": 4,
 "nbformat_minor": 4
}
