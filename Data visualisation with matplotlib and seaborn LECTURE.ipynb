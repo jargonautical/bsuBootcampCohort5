{
 "cells": [
  {
   "cell_type": "markdown",
   "metadata": {},
   "source": [
    "# Visualising data with pandas, matplotlib, and seaborn"
   ]
  },
  {
   "cell_type": "markdown",
   "metadata": {},
   "source": [
    "## Data visualisation    \n",
    "* The process of creating graphical representations of data to better understand and communicate the insights.\n",
    "* Explore and understand the relationships between variables.\n",
    "* Identify patterns and trends.\n",
    "* Communicate the insights and findings of the analysis.\n",
    "* Wide range of options: bar charts, line charts, histograms, scatter plots, and more.\n",
    "* Choices depend on the specific needs of the analysis and the type of data being analysed.\n",
    "* Different visual representations highlight different types of data issues:\n",
    "    * Outliers often stand out in a plot.\n",
    "    * Missing data will cause a gap or zero value."
   ]
  },
  {
   "cell_type": "markdown",
   "metadata": {
    "jp-MarkdownHeadingCollapsed": true
   },
   "source": [
    "## matplotlib"
   ]
  },
  {
   "cell_type": "markdown",
   "metadata": {},
   "source": [
    "### Matplotlib  \n",
    "* A fundamental data visualisation library of Python.\n",
    "* Allows us to create different types of charts with data.\n",
    "* Like a 'painter’s brush' for data scientists and analysts.  \n",
    "\n",
    "Section objectives:\n",
    "* How to install and import Matplotlib\n",
    "* How to create basic plots\n",
    "* Line, bar, scatter, and pie charts\n",
    "* How to customize plots\n",
    "* Colours, labels, legends, and titles\n",
    "* How to save and share plots"
   ]
  },
  {
   "cell_type": "markdown",
   "metadata": {},
   "source": [
    "#### Basic line plot  \n",
    "Shows the relationship between two variables, frequently used to show the rate of somethign changing over time."
   ]
  },
  {
   "cell_type": "code",
   "execution_count": null,
   "metadata": {},
   "outputs": [],
   "source": [
    "# uncomment to install on first run\n",
    "#%pip install matplotlib\n",
    "\n",
    "import matplotlib.pyplot as plt\n",
    "\n",
    "# Data representing monthly website traffic (in thousands)\n",
    "months = ['Jan', 'Feb', 'Mar', 'Apr', 'May', 'Jun']\n",
    "traffic = [150, 200, 180, 220, 250, 210]\n",
    "plt.plot() # creating a plot\n",
    "# Create a line plot\n",
    "plt.plot(months, traffic)\n",
    "plt.show() # displaying a plot"
   ]
  },
  {
   "cell_type": "markdown",
   "metadata": {},
   "source": [
    "#### Adding titles and labels  \n",
    "Provide clarity to information by customising plots.\n",
    "More information at: https://matplotlib.org/stable/tutorials/index.html "
   ]
  },
  {
   "cell_type": "code",
   "execution_count": null,
   "metadata": {},
   "outputs": [],
   "source": [
    "import matplotlib.pyplot as plt\n",
    "\n",
    "# Sample data representing monthly website traffic (in thousands)\n",
    "months = ['Jan', 'Feb', 'Mar', 'Apr', 'May', 'Jun']\n",
    "traffic = [150, 200, 180, 220, 250, 210]\n",
    "\n",
    "# Create a line plot\n",
    "plt.plot(months, traffic)\n",
    "\n",
    "# Add labels and a title\n",
    "plt.xlabel('Month')\n",
    "plt.ylabel('Monthly Traffic (in Thousands)')\n",
    "plt.title('Monthly Website Traffic')\n",
    "\n",
    "plt.show()"
   ]
  },
  {
   "cell_type": "markdown",
   "metadata": {},
   "source": [
    "#### Customising colours and line styles  \n",
    "We can change colours, line styles, and marker shapes."
   ]
  },
  {
   "cell_type": "code",
   "execution_count": null,
   "metadata": {},
   "outputs": [],
   "source": [
    "# Create a line plot with custom appearance\n",
    "plt.plot(months, traffic, marker='o', linestyle='--', color='darkslategray') # try some different options here.\n",
    "\n",
    "# Add labels and a title\n",
    "plt.xlabel('Month')\n",
    "plt.ylabel('Monthly Traffic (in Thousands)')\n",
    "plt.title('Monthly Website Traffic')\n",
    "\n",
    "# Add grid to the plot\n",
    "plt.grid(True)\n",
    "# Display the plot\n",
    "plt.show()"
   ]
  },
  {
   "cell_type": "markdown",
   "metadata": {},
   "source": [
    "#### Colour options  \n",
    "* Handy reference: https://www.rapidtables.com/web/css/css-color.html\n",
    "* CSS colour names:\n",
    "    * coral\n",
    "    * firebrick\n",
    "    * cadetblue\n",
    "* HEX colour codes:\n",
    "    * #FF0000\n",
    "    * #00a5a5\n",
    "    * #123456  \n",
    "* RGB colour tuples:\n",
    "    * rgb(56,165,0)\n",
    "    * rgb(255,165,0)\n",
    "    * rgb(0,30,255)"
   ]
  },
  {
   "cell_type": "markdown",
   "metadata": {},
   "source": [
    "#### Multiple series on one plot"
   ]
  },
  {
   "cell_type": "code",
   "execution_count": null,
   "metadata": {},
   "outputs": [],
   "source": [
    "# Sample data for two products' monthly revenue (in thousands of dollars)\n",
    "months = ['Jan', 'Feb', 'Mar', 'Apr', 'May', 'Jun']\n",
    "product_a_revenue = [45, 55, 60, 70, 80, 75]\n",
    "product_b_revenue = [35, 40, 50, 55, 70, 68]\n",
    "\n",
    "# Create a line plot for Product A with a blue line and circular markers\n",
    "plt.plot(months, product_a_revenue, marker='o', linestyle='-', color='blue', label='Product A')\n",
    "\n",
    "# Create a line plot for Product B with a red dashed line and square markers\n",
    "plt.plot(months, product_b_revenue, marker='s', linestyle='--', color='red', label='Product B')\n",
    "\n",
    "# Add labels and a title\n",
    "plt.xlabel('Month')\n",
    "plt.ylabel('Monthly Revenue (in $1000)')\n",
    "plt.title('Monthly Revenue Comparison')\n",
    "\n",
    "# Display a legend to differentiate between Product A and Product B\n",
    "plt.legend() # remember to plot the legend BEFORE displaying the plot\n",
    "\n",
    "# Display the plot\n",
    "plt.show()"
   ]
  },
  {
   "cell_type": "markdown",
   "metadata": {},
   "source": [
    "#### Bar and column charts"
   ]
  },
  {
   "cell_type": "code",
   "execution_count": null,
   "metadata": {},
   "outputs": [],
   "source": [
    "import matplotlib.pyplot as plt\n",
    "\n",
    "# Sample data representing monthly website traffic (in thousands)\n",
    "months = ['Jan', 'Feb', 'Mar', 'Apr', 'May', 'Jun']\n",
    "traffic = [150, 200, 180, 220, 250, 210]\n",
    "\n",
    "# Create a bar plot\n",
    "plt.bar(months, traffic)\n",
    "\n",
    "# Add labels and a title\n",
    "plt.xlabel('Month')\n",
    "plt.ylabel('Monthly Traffic (in Thousands)')\n",
    "plt.title('Monthly Website Traffic as a Bar Chart')\n",
    "\n",
    "plt.show()"
   ]
  },
  {
   "cell_type": "markdown",
   "metadata": {},
   "source": [
    "#### Clustered bar charts example  \n",
    "Matplotlib will not do this nicely for us by default - we have to set up a few options to make it work!"
   ]
  },
  {
   "cell_type": "code",
   "execution_count": null,
   "metadata": {},
   "outputs": [],
   "source": [
    "import matplotlib.pyplot as plt\n",
    "\n",
    "# Expense categories\n",
    "categories = ['Housing', 'Transportation', 'Food', 'Entertainment', 'Utilities']\n",
    "\n",
    "# Monthly expenses for Alice, Bob, and Carol\n",
    "alice_expenses = [1200, 300, 400, 200, 150]\n",
    "bob_expenses = [1100, 320, 380, 180, 140]\n",
    "carol_expenses = [1300, 280, 420, 220, 160]\n",
    "\n",
    "# Create an array for the x-axis positions\n",
    "x = list(range(len(categories)))\n",
    "\n",
    "# Width of the bars, we need it as we intend to plot multiple bars.\n",
    "bar_width = 0.2\n",
    "\n",
    "# Create bars for Alice's expenses, Subract bar width from x array,\n",
    "# such that it will be placed to the left.\n",
    "plt.bar([i - bar_width for i in x], alice_expenses, width=bar_width, label='Alice', color='skyblue')\n",
    "\n",
    "# Create bars for Bob's expenses\n",
    "plt.bar(x, bob_expenses, width=bar_width, label='Bob', color='lightcoral')\n",
    "\n",
    "# Create bars for Carol's expenses, Add bar width to x array,\n",
    "# such that it will be placed to the right.\n",
    "plt.bar([i + bar_width for i in x], carol_expenses, width=bar_width, label='Carol', color='lightgreen')\n",
    "\n",
    "# Add labels, a title, and a legend\n",
    "plt.xlabel('Expense Categories')\n",
    "plt.ylabel('Monthly Expenses (USD)')\n",
    "plt.title('Monthly Expenses Comparison')\n",
    "\n",
    "# To show the category names at x-axis positions.\n",
    "plt.xticks(x, categories)\n",
    "plt.legend()\n",
    "\n",
    "# Display the plot\n",
    "plt.show()"
   ]
  },
  {
   "cell_type": "markdown",
   "metadata": {},
   "source": [
    "#### Scatter plots and bubble charts  "
   ]
  },
  {
   "cell_type": "markdown",
   "metadata": {},
   "source": [
    "A bubble chart is a special case of a scatter plot, with one extra dimension displayed using the point size.\n",
    "\n",
    "Scatterplots explore the relationship between two numeric variables.\n",
    "* Each axis represents one variable.\n",
    "* Dots represent data points.\n",
    "\n",
    "Parameters:\n",
    "* `s` - change the size of the points.\n",
    "* `c` – set the colour.\n",
    "* `alpha` – set the intensity of the colour.\n",
    "\n",
    "Use cases:\n",
    "* Investigating the relationship between study hours and exam scores\n",
    "* Analysing the correlation between temperature and ice cream sales\n"
   ]
  },
  {
   "cell_type": "code",
   "execution_count": null,
   "metadata": {},
   "outputs": [],
   "source": [
    "# A sample data for stores\n",
    "# Store Size Represents the size of each store in 100sq.ft\n",
    "stores = ['Store A', 'Store B', 'Store C', 'Store D', 'Store E']\n",
    "customers = [120, 90, 150, 80, 200]\n",
    "revenue = [20000, 18000, 25000, 17000, 30000]\n",
    "store_size = [10, 5, 15, 8, 20]  \n",
    "\n",
    "# Here we are scaling the store sizes for point sizes in the scatter plot\n",
    "point_sizes = [size * 100 for size in store_size]\n",
    "\n",
    "# To Create a scatter plot with different point sizes\n",
    "# Here alpha controls the intensity of the color\n",
    "plt.scatter(customers, revenue, s=point_sizes, c='skyblue', alpha=0.7, edgecolors='b')\n",
    "\n",
    "# Add labels, a title, and a legend\n",
    "plt.xlabel('Number of Customers')\n",
    "plt.ylabel('Revenue (USD)')\n",
    "plt.title('Relationship between Customers, Revenue, and Store Size')\n",
    "\n",
    "# To Display the plot\n",
    "plt.show()"
   ]
  },
  {
   "cell_type": "markdown",
   "metadata": {},
   "source": [
    "#### Histograms"
   ]
  },
  {
   "cell_type": "code",
   "execution_count": null,
   "metadata": {},
   "outputs": [],
   "source": [
    "import matplotlib.pyplot as plt\n",
    "\n",
    "# Sample exam scores data\n",
    "exam_scores = [68, 72, 75, 80, 82, 84, 86, 90, 92, 95, 98, 100]\n",
    "\n",
    "# Custom bin ranges\n",
    "bin_ranges = [60, 70, 80, 90, 100]\n",
    "\n",
    "# Create a histogram with custom bin ranges by assigning it to bins\n",
    "plt.hist(exam_scores, bins=bin_ranges, color='lightblue', edgecolor='black', alpha=0.7)\n",
    "\n",
    "# Add labels and a title\n",
    "plt.xlabel('Exam Scores')\n",
    "plt.ylabel('Frequency')\n",
    "plt.title('Exam Scores Histogram with Custom Bins')\n",
    "\n",
    "# Calculate and add a median line\n",
    "sorted_scores = sorted(exam_scores)\n",
    "n = len(sorted_scores)\n",
    "if n % 2 == 0:\n",
    "    median_score = (sorted_scores[n//2-1] + sorted_scores[n//2]) / 2\n",
    "else:\n",
    "    median_score = sorted_scores[n//2]\n",
    "plt.axvline(median_score, color='red', linestyle='dashed', linewidth=2, label=f'Median Score: {median_score}')\n",
    "\n",
    "# Add a legend\n",
    "plt.legend()\n",
    "\n",
    "# Display the plot\n",
    "plt.show()"
   ]
  },
  {
   "cell_type": "markdown",
   "metadata": {},
   "source": [
    "#### Pie charts"
   ]
  },
  {
   "cell_type": "code",
   "execution_count": null,
   "metadata": {},
   "outputs": [],
   "source": [
    "# Product categories\n",
    "categories = ['Electronics', 'Clothing', 'Home Decor', 'Books', 'Toys']\n",
    "\n",
    "# Sales data for each category\n",
    "sales = [3500, 2800, 2000, 1500, 1200]\n",
    "\n",
    "# Explode a specific segment (e.g., 'Clothing')\n",
    "# second value (0.1) is the amount by which the segment 'Clothing'\n",
    "explode = (0, 0.1, 0, 0, 0)  \n",
    "\n",
    "# Create a pie chart with explode and shadow\n",
    "plt.pie(sales, labels=categories, explode=explode, shadow=True, autopct='%1.1f%%')\n",
    "plt.title('Sales by Product Category')\n",
    "\n",
    "# Display the plot\n",
    "plt.show()"
   ]
  },
  {
   "cell_type": "markdown",
   "metadata": {},
   "source": [
    "#### Box and whisker charts  \n",
    "Also known simply as box plots  "
   ]
  },
  {
   "cell_type": "code",
   "execution_count": null,
   "metadata": {},
   "outputs": [],
   "source": [
    "import random\n",
    "\n",
    "# Generate random data with outliers\n",
    "random.seed(42)\n",
    "data = [random.normalvariate(0, 1) for _ in range(100)] + [random.normalvariate(6, 1) for _ in range(10)]\n",
    "\n",
    "# Create a box plot with outliers\n",
    "plt.figure(figsize=(8, 6))  # Set the figure size\n",
    "plt.boxplot(data, vert=False, patch_artist=True, \n",
    "            boxprops={'facecolor': 'lightblue'}, \n",
    "            flierprops={'marker': 'o', 'markerfacecolor': 'red', \n",
    "                        'markeredgecolor': 'red'})\n",
    "\n",
    "# Add labels and a title\n",
    "plt.xlabel('Values')\n",
    "plt.title('Box Plot with Outliers')\n",
    "\n",
    "# Display the plot\n",
    "plt.grid(True)  # Add a grid for better readability\n",
    "plt.show()"
   ]
  },
  {
   "cell_type": "markdown",
   "metadata": {},
   "source": [
    "#### Heat map"
   ]
  },
  {
   "cell_type": "code",
   "execution_count": null,
   "metadata": {},
   "outputs": [],
   "source": [
    "# Create a sample correlation matrix\n",
    "correlation_matrix = [[1.0, 0.8, 0.3, -0.2],\n",
    "                      [0.8, 1.0, 0.5, 0.1],\n",
    "                      [0.3, 0.5, 1.0, -0.4],\n",
    "                      [-0.2, 0.1, -0.4, 1.0]]\n",
    "\n",
    "# Create a heatmap for the correlation matrix\n",
    "plt.imshow(correlation_matrix, cmap='coolwarm', vmin=-1, vmax=1, aspect='auto', origin='upper')\n",
    "\n",
    "# Add a colorbar with the following commands\n",
    "cbar = plt.colorbar()\n",
    "cbar.set_label('Correlation', rotation=270, labelpad=20)\n",
    "\n",
    "# Add labels and a title\n",
    "plt.title('Correlation Matrix Heatmap')\n",
    "plt.xticks(range(len(correlation_matrix)), ['Var1', 'Var2', 'Var3', 'Var4'])\n",
    "plt.yticks(range(len(correlation_matrix)), ['Var1', 'Var2', 'Var3', 'Var4'])\n",
    "\n",
    "plt.show()"
   ]
  },
  {
   "cell_type": "markdown",
   "metadata": {},
   "source": [
    "#### Stack plot"
   ]
  },
  {
   "cell_type": "code",
   "execution_count": null,
   "metadata": {},
   "outputs": [],
   "source": [
    "# Sample data for stack plot\n",
    "quarters = ['Q1', 'Q2', 'Q3', 'Q4']\n",
    "electronics = [10000, 12000, 11000, 10500]\n",
    "clothing = [5000, 6000, 7500, 8000]\n",
    "home_appliances = [7000, 7500, 8200, 9000]\n",
    "\n",
    "# Create a stack plot\n",
    "plt.figure(figsize=(10, 6))  # Set the figure size\n",
    "plt.stackplot(quarters, electronics, clothing, home_appliances, labels=['Electronics', 'Clothing', 'Home Appliances'],\n",
    "              colors=['blue', 'green', 'red'], alpha=0.7)\n",
    "\n",
    "# Add labels, legend, and title\n",
    "plt.xlabel('Quarters')\n",
    "plt.ylabel('Sales ($)')\n",
    "plt.title('Product Category Sales Over Quarters')\n",
    "plt.legend(loc='upper left')\n",
    "\n",
    "# Display the plot\n",
    "plt.grid(True)\n",
    "plt.show()"
   ]
  },
  {
   "cell_type": "markdown",
   "metadata": {},
   "source": [
    "## Task 1"
   ]
  },
  {
   "cell_type": "markdown",
   "metadata": {},
   "source": [
    "##### 1. Line Plot of Time Series Data\n",
    "Create a pandas DataFrame with a DateTime index and several columns of random values.\n",
    "\n",
    "\n",
    "Use matplotlib to create a line plot of this data."
   ]
  },
  {
   "cell_type": "code",
   "execution_count": null,
   "metadata": {},
   "outputs": [],
   "source": []
  },
  {
   "cell_type": "markdown",
   "metadata": {},
   "source": [
    "##### 2. Bar Chart of Categorical Data\n",
    "Create a pandas DataFrame with one column as categorical data and another column as corresponding numerical values.\n",
    "\n",
    "\n",
    "Use matplotlib to create a bar chart to show the frequency of each category."
   ]
  },
  {
   "cell_type": "code",
   "execution_count": null,
   "metadata": {},
   "outputs": [],
   "source": []
  },
  {
   "cell_type": "markdown",
   "metadata": {},
   "source": [
    "##### 3. Histogram of Numerical Data\n",
    "\n",
    "Create a pandas DataFrame with a single column filled with random numbers.\n",
    "\n",
    "\n",
    "Use matplotlib to create a histogram to show the distribution of these numbers."
   ]
  },
  {
   "cell_type": "code",
   "execution_count": null,
   "metadata": {},
   "outputs": [],
   "source": [
    "df_numerical = pd.DataFrame({\n",
    "    'Age': [random.randint(20, 60) for _ in range(50)],\n",
    "    'Income': [random.randint(30000, 80000) for _ in range(50)],\n",
    "    'Savings': [random.randint(5000, 20000) for _ in range(50)],\n",
    "    'Expenditure': [random.randint(1000, 5000) for _ in range(50)]\n",
    "})"
   ]
  },
  {
   "cell_type": "code",
   "execution_count": null,
   "metadata": {},
   "outputs": [],
   "source": []
  },
  {
   "cell_type": "markdown",
   "metadata": {},
   "source": [
    "##### 4. Scatter Plot for Relationship Between Variables\n",
    "\n",
    "Create a pandas DataFrame with two columns filled with random numbers.\n",
    "\n",
    "\n",
    "Use matplotlib to create a scatter plot to show the relationship between the two variables."
   ]
  },
  {
   "cell_type": "code",
   "execution_count": null,
   "metadata": {},
   "outputs": [],
   "source": [
    "df_scatter = pd.DataFrame({\n",
    "    'Height (cm)': [random.uniform(150, 200) for _ in range(50)],\n",
    "    'Weight (kg)': [random.uniform(50, 100) for _ in range(50)],\n",
    "    'Age': [random.randint(20, 60) for _ in range(50)],\n",
    "    'BMI': [random.uniform(18, 30) for _ in range(50)]\n",
    "})"
   ]
  },
  {
   "cell_type": "code",
   "execution_count": null,
   "metadata": {},
   "outputs": [],
   "source": []
  },
  {
   "cell_type": "markdown",
   "metadata": {},
   "source": [
    "##### 5. Pie Chart for Proportional Data:\n",
    "\n",
    "Create a pandas DataFrame with one column as different categories and another column as corresponding proportions.\n",
    "\n",
    "\n",
    "Use matplotlib to create a pie chart to show these proportions."
   ]
  },
  {
   "cell_type": "code",
   "execution_count": null,
   "metadata": {},
   "outputs": [],
   "source": [
    "df_pie = pd.DataFrame({\n",
    "    'Company': ['Apple', 'Samsung', 'Huawei', 'Xiaomi', 'OPPO'],\n",
    "    'Market Share (%)': [random.uniform(10, 30) for _ in range(5)],\n",
    "    'Revenue (Billion $)': [random.uniform(20, 50) for _ in range(5)],\n",
    "    'Profit (Billion $)': [random.uniform(5, 15) for _ in range(5)]\n",
    "})"
   ]
  },
  {
   "cell_type": "code",
   "execution_count": null,
   "metadata": {},
   "outputs": [],
   "source": []
  },
  {
   "cell_type": "markdown",
   "metadata": {
    "jp-MarkdownHeadingCollapsed": true
   },
   "source": [
    "## seaborn"
   ]
  },
  {
   "cell_type": "markdown",
   "metadata": {},
   "source": [
    "### seaborn \n",
    "* An extension of Matplotlib visualisation library.\n",
    "* Pandas data structure integration.\n",
    "* Built in datasets.\n",
    "\n",
    "Section objectives:\n",
    "* Importing seaborn datasets.\n",
    "* How to create basic plots.\n",
    "    * Categorical.\n",
    "    * Univariate.\n",
    "    * Bivariate.\n",
    "    * Multivariate."
   ]
  },
  {
   "cell_type": "code",
   "execution_count": null,
   "metadata": {},
   "outputs": [],
   "source": [
    "# uncomment to install on first run\n",
    "#%pip install seaborn\n",
    "\n",
    "import seaborn as sns\n",
    "import matplotlib.pyplot as plt"
   ]
  },
  {
   "cell_type": "markdown",
   "metadata": {},
   "source": [
    "### Importing datasets"
   ]
  },
  {
   "cell_type": "code",
   "execution_count": null,
   "metadata": {},
   "outputs": [],
   "source": [
    "# check available datasets in seaborn\n",
    "sns.get_dataset_names()"
   ]
  },
  {
   "cell_type": "code",
   "execution_count": null,
   "metadata": {},
   "outputs": [],
   "source": [
    "# Restaurant tips data \n",
    "# Downloaded from seaborn\n",
    "tips = sns.load_dataset('tips')\n",
    "\n",
    "tips.head()"
   ]
  },
  {
   "cell_type": "markdown",
   "metadata": {},
   "source": [
    "### Plot types - overview  "
   ]
  },
  {
   "cell_type": "markdown",
   "metadata": {},
   "source": [
    "Categorical Plots  \n",
    "* Plots to visualise categorical data\n",
    "* Bar Plot, Count Plot, Swarm Plot, Point Plot, Cat Plot, Categorical Box Plot, Categorical Violin Plot, Categorical Swarm Plot, etc  \n",
    "\n",
    "Univariate Plots\n",
    "* Plots that visualise a single variable\n",
    "* Histogram, KDE Plot, Rug Plot, Box Plot, Distribution Plot, Violin Plot, Strip Plot, etc  \n",
    "\n",
    "Bivariate Plots\n",
    "* Plots that visualise the relationship between 2 variables\n",
    "* Scatter Plot, Line Plot, Regression Plot, Join Plot, Hexbin Plot, etc  \n",
    "\n",
    "Multivariate Plots\n",
    "* Plots that involve more than two variables\n",
    "* Pair Plot, Facet Grid, Relational Plot  \n",
    "\n",
    "Matrix Plots\n",
    "* Plots visualise relationships within matrices of data.\n",
    "* Heatmap, Cluster Map\n"
   ]
  },
  {
   "cell_type": "markdown",
   "metadata": {
    "jp-MarkdownHeadingCollapsed": true
   },
   "source": [
    "### categorical plots"
   ]
  },
  {
   "cell_type": "markdown",
   "metadata": {},
   "source": [
    "#### countplot  \n",
    "\n",
    "* Type of bar plot.\n",
    "* Shows the frequency of values or counts of observations in each category.\n",
    "* Useful for visualising distribution and comparison of categories.\n",
    "* seaborn and matplotlib utilised together.  \n",
    "\n",
    "Use Cases\n",
    "* Count the number of:\n",
    "    * Passengers who survived or died in the Titanic dataset.\n",
    "    * Customers turnover in a telecom company dataset.\n",
    "    * Social media posts that mention different topics."
   ]
  },
  {
   "cell_type": "code",
   "execution_count": null,
   "metadata": {},
   "outputs": [],
   "source": [
    "# Count Plot\n",
    "plt.figure(figsize=(8, 5))\n",
    "sns.countplot(x=\"day\", hue=\"day\", data=tips, palette=\"Set3\", legend=False)\n",
    "plt.title(\"Count of Tips by Day of the Week\")\n",
    "plt.show()"
   ]
  },
  {
   "cell_type": "markdown",
   "metadata": {},
   "source": [
    "#### swarmplot"
   ]
  },
  {
   "cell_type": "code",
   "execution_count": null,
   "metadata": {},
   "outputs": [],
   "source": [
    "# Swarm Plot\n",
    "plt.figure(figsize=(8, 5))\n",
    "sns.swarmplot(x=\"day\", hue=\"day\",y=\"total_bill\", data=tips, palette=\"viridis\", legend=False)\n",
    "plt.title(\"Total Bill Distribution by Day of the Week\")\n",
    "plt.xlabel(\"Day of the Week\")\n",
    "plt.ylabel(\"Total Bill ($)\")\n",
    "plt.show()"
   ]
  },
  {
   "cell_type": "markdown",
   "metadata": {},
   "source": [
    "#### pointplot"
   ]
  },
  {
   "cell_type": "code",
   "execution_count": null,
   "metadata": {},
   "outputs": [],
   "source": [
    "# Point Plot\n",
    "plt.figure(figsize=(8, 5))\n",
    "sns.pointplot(x=\"day\", hue=\"day\", y=\"total_bill\", data=tips, errorbar=\"sd\", palette=\"pastel\", legend=False)\n",
    "plt.title(\"Average Total Bill by Day of the Week\")\n",
    "plt.xlabel(\"Day of the Week\")\n",
    "plt.ylabel(\"Average Total Bill ($)\")\n",
    "plt.show()"
   ]
  },
  {
   "cell_type": "markdown",
   "metadata": {},
   "source": [
    "#### boxplot"
   ]
  },
  {
   "cell_type": "code",
   "execution_count": null,
   "metadata": {},
   "outputs": [],
   "source": [
    "# Categorical Box Plot\n",
    "plt.figure(figsize=(8, 5))\n",
    "sns.boxplot(x=\"time\", hue=\"time\", y=\"total_bill\", data=tips, palette=\"coolwarm\", legend=False)\n",
    "plt.title(\"Total Bill Distribution by Meal Time\")\n",
    "plt.xlabel(\"Meal Time\")\n",
    "plt.ylabel(\"Total Bill ($)\")\n",
    "plt.show()"
   ]
  },
  {
   "cell_type": "markdown",
   "metadata": {},
   "source": [
    "#### violin plot"
   ]
  },
  {
   "cell_type": "code",
   "execution_count": null,
   "metadata": {},
   "outputs": [],
   "source": [
    "# Categorical Violin Plot\n",
    "plt.figure(figsize=(10, 8))\n",
    "sns.violinplot(x=\"day\", hue=\"day\", y=\"total_bill\", data=tips, palette=\"Set2\", legend=False)\n",
    "plt.title(\"Total Bill Distribution by Day of the Week\")\n",
    "plt.xlabel(\"Day of the Week\")\n",
    "plt.ylabel(\"Total Bill ($)\")\n",
    "plt.show()"
   ]
  },
  {
   "cell_type": "markdown",
   "metadata": {},
   "source": [
    "#### box plot using seaborn catplot"
   ]
  },
  {
   "cell_type": "code",
   "execution_count": null,
   "metadata": {},
   "outputs": [],
   "source": [
    "# Box Plot using cat plot\n",
    "plt.figure(figsize=(8, 5))\n",
    "sns.catplot(x=\"day\", hue=\"day\", y=\"total_bill\", data=tips, kind=\"box\", palette=\"coolwarm\", legend=False)\n",
    "plt.title(\"Total Bill Distribution by Day of the Week\")\n",
    "plt.xlabel(\"Day of the Week\")\n",
    "plt.ylabel(\"Total Bill ($)\")\n",
    "plt.show()"
   ]
  },
  {
   "cell_type": "markdown",
   "metadata": {},
   "source": [
    "violin plot using seaborn catplot"
   ]
  },
  {
   "cell_type": "code",
   "execution_count": null,
   "metadata": {},
   "outputs": [],
   "source": [
    "# Violin Plot using cat plot\n",
    "plt.figure(figsize=(8, 5))\n",
    "sns.catplot(x=\"time\", hue=\"time\", y=\"total_bill\", data=tips, kind=\"violin\", palette=\"Set2\", legend=False)\n",
    "plt.title(\"Total Bill Distribution by Time of Day\")\n",
    "plt.xlabel(\"Time of Day\")\n",
    "plt.ylabel(\"Total Bill ($)\")\n",
    "plt.show()"
   ]
  },
  {
   "cell_type": "markdown",
   "metadata": {
    "jp-MarkdownHeadingCollapsed": true
   },
   "source": [
    "### univariate plots  \n",
    "\n",
    "* Visualise and analyse a single variable.\n",
    "* Understand the distribution of the variable.\n",
    "* Determine the central tendency (mean, median, mode).\n",
    "* Identify outliers in the data.\n",
    "* Check for patterns or trends within the variable.\n",
    "\n",
    "Use Cases\n",
    "* Visualising the distribution of restaurant tips.\n",
    "* Analysing the frequency of customer visits by day of the week.  \n"
   ]
  },
  {
   "cell_type": "markdown",
   "metadata": {},
   "source": [
    "#### rugplot"
   ]
  },
  {
   "cell_type": "code",
   "execution_count": null,
   "metadata": {},
   "outputs": [],
   "source": [
    "# Rug Plot\n",
    "plt.figure(figsize=(8, 5))\n",
    "sns.rugplot(x=tips['total_bill'], height=0.5)\n",
    "plt.title(\"Rug Plot of Total Bill\")\n",
    "plt.xlabel(\"Total Bill ($)\")\n",
    "plt.ylabel(\"Density\")\n",
    "plt.show()"
   ]
  },
  {
   "cell_type": "markdown",
   "metadata": {},
   "source": [
    "#### histogram "
   ]
  },
  {
   "cell_type": "code",
   "execution_count": null,
   "metadata": {},
   "outputs": [],
   "source": [
    "# histogram for Univariate Visualization\n",
    "plt.figure(figsize=(8, 5))\n",
    "sns.histplot(data=tips['total_bill'], kde=False, edgecolor=\"none\")\n",
    "plt.title(\"Total Bill Distribution\")\n",
    "plt.xlabel(\"Total Bill ($)\")\n",
    "plt.show()"
   ]
  },
  {
   "cell_type": "markdown",
   "metadata": {},
   "source": [
    "#### kernel density estimate (kde) plot  \n",
    "\n",
    "* Displays probability density of a continuous variable.\n",
    "* Reveals data shape, peaks, modes, spread.\n",
    "* Useful for statistical analysis and hypothesis testing.\n",
    "\n",
    "TIP: In the histogram above, try changing `kde` to 'True' and re-run the cell."
   ]
  },
  {
   "cell_type": "code",
   "execution_count": null,
   "metadata": {},
   "outputs": [],
   "source": [
    "sns.kdeplot(data=tips['total_bill'])"
   ]
  },
  {
   "cell_type": "markdown",
   "metadata": {},
   "source": [
    "#### box plot"
   ]
  },
  {
   "cell_type": "code",
   "execution_count": null,
   "metadata": {},
   "outputs": [],
   "source": [
    "# Box Plot for Univariate Visualization\n",
    "plt.figure(figsize=(8, 5))\n",
    "sns.boxplot(x=tips['total_bill'], color=\"#8ebad9\")\n",
    "plt.title(\"Total Bill Distribution\")\n",
    "plt.xlabel(\"Total Bill ($)\")\n",
    "plt.show()"
   ]
  },
  {
   "cell_type": "markdown",
   "metadata": {},
   "source": [
    "#### strip plot"
   ]
  },
  {
   "cell_type": "code",
   "execution_count": null,
   "metadata": {},
   "outputs": [],
   "source": [
    "# Strip Plot for Univariate Visualization\n",
    "plt.figure(figsize=(8, 5))\n",
    "sns.stripplot(x=tips['total_bill'], color=\"#8ebad9\", jitter=True)\n",
    "plt.title(\"Total Bill Distribution\")\n",
    "plt.xlabel(\"Total Bill ($)\")\n",
    "plt.show()"
   ]
  },
  {
   "cell_type": "markdown",
   "metadata": {
    "jp-MarkdownHeadingCollapsed": true
   },
   "source": [
    "### bivariate  \n",
    "\n",
    "* Show the relationship between two variables.\n",
    "* Identify correlations or associations between variables\n",
    "\n",
    "Examples of bivariate plots:\n",
    "* Scatter plots: `sns.scatterplot(x,y,data)`\n",
    "* Line plots: `sns.lineplot(x,y,data)`\n",
    "* More complex plots: `sns.jointplot()`, `sns.pairplot()`, `sns.heatmap()`\n",
    "\n",
    "Use Cases\n",
    "* Restaurant Tips\n",
    "    * Scatter plot - Relationship between total bill and tip amount.\n",
    "    * Identify trends and outliers in tipping behaviour.\n",
    "* E-commerce Sales\n",
    "    * Line plot - track product sales over time.\n",
    "    * Understand seasonal trends or the impact of marketing campaigns.\n"
   ]
  },
  {
   "cell_type": "markdown",
   "metadata": {},
   "source": [
    "#### regression plot"
   ]
  },
  {
   "cell_type": "code",
   "execution_count": null,
   "metadata": {},
   "outputs": [],
   "source": [
    "# Regression Plot\n",
    "plt.figure(figsize=(8, 5))\n",
    "sns.regplot(x=\"total_bill\", y=\"tip\", data=tips, scatter_kws={\"color\": \"blue\"}, line_kws={\"color\": \"red\"})\n",
    "plt.title(\"Regression Plot of Total Bill vs. Tip\")\n",
    "plt.xlabel(\"Total Bill ($)\")\n",
    "plt.ylabel(\"Tip ($)\")\n",
    "plt.show()"
   ]
  },
  {
   "cell_type": "markdown",
   "metadata": {},
   "source": [
    "#### joint plot"
   ]
  },
  {
   "cell_type": "code",
   "execution_count": null,
   "metadata": {},
   "outputs": [],
   "source": [
    "# Joint Plot\n",
    "sns.jointplot(x=\"total_bill\", y=\"tip\", data=tips, kind=\"scatter\")\n",
    "plt.show()"
   ]
  },
  {
   "cell_type": "markdown",
   "metadata": {},
   "source": [
    "#### hexbin plot"
   ]
  },
  {
   "cell_type": "code",
   "execution_count": null,
   "metadata": {},
   "outputs": [],
   "source": [
    "# Hexbin Plot\n",
    "plt.figure(figsize=(8, 5))\n",
    "sns.jointplot(x=\"total_bill\", y=\"tip\",kind='hex', data=tips, gridsize=15, cmap=\"Blues\")\n",
    "plt.title(\"Hexbin Plot of Total Bill vs. Tip\")\n",
    "plt.xlabel(\"Total Bill ($)\")\n",
    "plt.ylabel(\"Tip ($)\")\n",
    "plt.show()"
   ]
  },
  {
   "cell_type": "markdown",
   "metadata": {
    "jp-MarkdownHeadingCollapsed": true
   },
   "source": [
    "### multivariate plots  \n",
    "\n",
    "* Used to visualise multiple variables together.\n",
    "* Identify correlations or relationships between variables.\n",
    "\n",
    "Examples:\n",
    "* Pair Plots – a grid with a scatter plot for each pair of variables. \n",
    "* Heatmaps – used to visualise correlation matrix.\n",
    "* Cluster Map – a heatmap with hierarchical clustering\n",
    "* Violin plot – like a box plot with added dimensions. `sns.violinplot()`\n"
   ]
  },
  {
   "cell_type": "markdown",
   "metadata": {},
   "source": [
    "#### violin plot"
   ]
  },
  {
   "cell_type": "code",
   "execution_count": null,
   "metadata": {},
   "outputs": [],
   "source": [
    "# Violin Plot with Hue\n",
    "plt.figure(figsize=(10, 6))\n",
    "sns.violinplot(\n",
    "    x=\"day\",         # x-axis: Days of the week (categorical)\n",
    "    y=\"total_bill\",  # y-axis: Total bill amount (numerical)\n",
    "    data=tips, \n",
    "    hue=\"sex\",       # Color by gender (categorical)\n",
    "    palette=\"Set1\",  # Color palette\n",
    "    split=True       # Split violins by hue categories\n",
    ")\n",
    "\n",
    "plt.title(\"Violin Plot with Hue for Total Bill by Day and Gender\")\n",
    "plt.xlabel(\"Day of the Week\")\n",
    "plt.ylabel(\"Total Bill ($)\")\n",
    "plt.legend(title=\"Gender\")\n",
    "plt.show()"
   ]
  },
  {
   "cell_type": "markdown",
   "metadata": {},
   "source": [
    "#### scatterplot"
   ]
  },
  {
   "cell_type": "code",
   "execution_count": null,
   "metadata": {},
   "outputs": [],
   "source": [
    "# Create a scatterplot using a Relational Plot (relplot)\n",
    "sns.relplot(x=\"total_bill\", y=\"tip\", data=tips, hue=\"time\", \n",
    "            style=\"sex\", size=\"size\", palette=\"Set1\", height=6)\n",
    "plt.title(\"Relational Scatter Plot for Tips Dataset\")\n",
    "plt.xlabel(\"Total Bill ($)\")\n",
    "plt.ylabel(\"Tip ($)\")\n",
    "plt.savefig('relplot_with_mv.png')\n",
    "plt.show()"
   ]
  },
  {
   "cell_type": "markdown",
   "metadata": {},
   "source": [
    "#### scatter plot with hue and size options"
   ]
  },
  {
   "cell_type": "code",
   "execution_count": null,
   "metadata": {},
   "outputs": [],
   "source": [
    "# Scatter Plot with Hue and Size\n",
    "plt.figure(figsize=(10, 8))\n",
    "sns.scatterplot(\n",
    "    x=\"total_bill\", \n",
    "    y=\"tip\", \n",
    "    data=tips, \n",
    "    hue=\"day\",      # Color by day (categorical)\n",
    "    size=\"size\",    # Vary marker size by size column (numerical)\n",
    "    sizes=(20, 200),  # Define the size range for markers\n",
    "    palette=\"Set1\"  # Color palette\n",
    ")\n",
    "plt.title(\"Scatter Plot with Hue and Size for Tips Dataset\")\n",
    "plt.xlabel(\"Total Bill ($)\")\n",
    "plt.ylabel(\"Tip ($)\")\n",
    "plt.legend(title=\"Day\")\n",
    "plt.show()"
   ]
  },
  {
   "cell_type": "markdown",
   "metadata": {},
   "source": [
    "#### relplot  \n",
    "This arrangement is also known as a facet grid, or small multiples."
   ]
  },
  {
   "cell_type": "code",
   "execution_count": null,
   "metadata": {},
   "outputs": [],
   "source": [
    "# Create a facet grid using a Relational Plot (relplot)\n",
    "g = sns.relplot(x=\"total_bill\", y=\"tip\",\n",
    "                data=tips, hue=\"time\",\n",
    "                col=\"day\",  # Separate plots by day (columns)\n",
    "                row=\"sex\",  # Separate plots by gender (rows)\n",
    "                palette=\"Set1\",\n",
    "                height=3,  # Height of each subplot\n",
    "                aspect=1.2  # Aspect ratio of each subplot\n",
    ")\n",
    "\n",
    "# Set titles and labels for the facets\n",
    "g.set_titles(col_template=\"{col_name} Day\", row_template=\"{row_name} Gender\")\n",
    "g.set_axis_labels(\"Total Bill ($)\", \"Tip ($)\")\n",
    "plt.suptitle(\"Relational Scatter Plots by Day and Gender\")\n",
    "plt.subplots_adjust(top=0.9)  # Adjust the title position\n",
    "plt.show()"
   ]
  },
  {
   "cell_type": "markdown",
   "metadata": {},
   "source": [
    "#### pairplot "
   ]
  },
  {
   "cell_type": "code",
   "execution_count": null,
   "metadata": {},
   "outputs": [],
   "source": [
    "# Load the \"iris\" dataset\n",
    "iris = sns.load_dataset(\"iris\")\n",
    "\n",
    "# Pair Plot\n",
    "sns.set_style(style=\"ticks\")\n",
    "sns.pairplot(iris, hue=\"species\", markers=[\"o\", \"s\", \"D\"])\n",
    "plt.show()"
   ]
  },
  {
   "cell_type": "markdown",
   "metadata": {},
   "source": [
    "#### pairgrid "
   ]
  },
  {
   "cell_type": "code",
   "execution_count": null,
   "metadata": {},
   "outputs": [],
   "source": [
    "# Load the \"iris\" dataset\n",
    "iris = sns.load_dataset(\"iris\")\n",
    "\n",
    "# Create a Facet Grid of pairwise scatterplots\n",
    "g = sns.PairGrid(iris, hue=\"species\")\n",
    "g.map_upper(sns.scatterplot)\n",
    "g.map_diag(sns.histplot, kde_kws={\"color\": \"k\"})\n",
    "g.map_lower(sns.kdeplot)\n",
    "g.add_legend()\n",
    "plt.show()"
   ]
  },
  {
   "cell_type": "markdown",
   "metadata": {
    "jp-MarkdownHeadingCollapsed": true
   },
   "source": [
    "### matrix plots"
   ]
  },
  {
   "cell_type": "code",
   "execution_count": null,
   "metadata": {},
   "outputs": [],
   "source": [
    "# Import Seaborn\n",
    "import seaborn as sns\n",
    "\n",
    "# To see the datasets offered by seaborn\n",
    "print(sns.get_dataset_names())\n",
    "# Let's use a dataset offered by seaborn\n",
    "titanic = sns.load_dataset('titanic')\n",
    "# To see the top5 rows\n",
    "titanic.head()"
   ]
  },
  {
   "cell_type": "markdown",
   "metadata": {},
   "source": [
    "#### correlation matrix"
   ]
  },
  {
   "cell_type": "code",
   "execution_count": null,
   "metadata": {},
   "outputs": [],
   "source": [
    "# Load the Titanic dataset\n",
    "titanic = sns.load_dataset(\"titanic\")\n",
    "\n",
    "# Select only numeric columns\n",
    "# Note: will work assuming that your DataFrame only \n",
    "# contains float64 and int64 data types for numeric columns\n",
    "# If there are other numeric data types in your DataFrame,\n",
    "# add them to the include list\n",
    "numeric_cols = titanic.select_dtypes(include=['float64', 'int64'])\n",
    "\n",
    "# Compute the correlation matrix\n",
    "correlation_matrix = numeric_cols.corr()\n",
    "\n",
    "plt.figure(figsize=(10,8))\n",
    "# Create a heatmap of the correlation matrix\n",
    "sns.heatmap(correlation_matrix, annot=True, cmap=\"coolwarm\")\n",
    "plt.title(\"Correlation Heatmap of Titanic Dataset\")\n",
    "plt.show()\n"
   ]
  },
  {
   "cell_type": "code",
   "execution_count": null,
   "metadata": {},
   "outputs": [],
   "source": [
    "# you can also display just the values of the correlation matrix \n",
    "# without the heatmap  \n",
    "correlation_matrix"
   ]
  },
  {
   "cell_type": "markdown",
   "metadata": {},
   "source": [
    "## Further reading and resources:  \n",
    "\n",
    "Matplotlib and Seaborn cheat sheets: https://github.com/jramshur/Coding-Cheat-Sheets  \n",
    "\n",
    "### matplotlib  \n",
    "\n",
    "\n",
    "### seaborn  \n",
    "Documentation: https://seaborn.pydata.org/\n",
    "Book: Fundamentals of Data Visualization: A Primer on Making Informative and Compelling Figures. Book by Claus O. Wilke. O’Reilly Media."
   ]
  },
  {
   "cell_type": "code",
   "execution_count": null,
   "metadata": {},
   "outputs": [],
   "source": [
    "# refrence for pre-set colour palettes \n",
    "# https://www.codecademy.com/article/seaborn-design-ii\n",
    "# and how to preview them in your notebook\n",
    "palette = sns.color_palette(\"viridis\")\n",
    "sns.palplot(palette)"
   ]
  },
  {
   "cell_type": "markdown",
   "metadata": {},
   "source": [
    "### Task 2"
   ]
  },
  {
   "cell_type": "markdown",
   "metadata": {},
   "source": [
    "##### 1. Box Plot of a Variable:\n",
    "\n",
    "Load the ‘tips’ dataset from seaborn.\n",
    "\n",
    "\n",
    "Use seaborn to create a box plot of the ‘total_bill’ column."
   ]
  },
  {
   "cell_type": "code",
   "execution_count": null,
   "metadata": {},
   "outputs": [],
   "source": []
  },
  {
   "cell_type": "markdown",
   "metadata": {},
   "source": [
    "##### 1b. Use seaborn to create a box plot of the ‘total_bill’ column, split by ‘day’ of the week."
   ]
  },
  {
   "cell_type": "code",
   "execution_count": null,
   "metadata": {},
   "outputs": [],
   "source": []
  },
  {
   "cell_type": "markdown",
   "metadata": {},
   "source": [
    "##### 2. Violin Plot of Categorical vs Numerical Data:\n",
    "\n",
    "Load the ‘titanic’ dataset from seaborn.\n",
    "\n",
    "\n",
    "Use seaborn to create a violin plot showing the distribution of ‘age’ across different ‘classes’."
   ]
  },
  {
   "cell_type": "code",
   "execution_count": null,
   "metadata": {},
   "outputs": [],
   "source": []
  },
  {
   "cell_type": "markdown",
   "metadata": {},
   "source": [
    "##### 2b. Use seaborn to create a violin plot showing the distribution of ‘age’ across different ‘classes’, split by ‘sex’."
   ]
  },
  {
   "cell_type": "code",
   "execution_count": null,
   "metadata": {},
   "outputs": [],
   "source": []
  },
  {
   "cell_type": "markdown",
   "metadata": {},
   "source": [
    "##### 3. Pair Plot for Multivariate Analysis:\n",
    "\n",
    "Load the ‘penguins’ dataset from seaborn.\n",
    "\n",
    "\n",
    "Use seaborn to create a pair plot of this data."
   ]
  },
  {
   "cell_type": "code",
   "execution_count": null,
   "metadata": {},
   "outputs": [],
   "source": []
  },
  {
   "cell_type": "markdown",
   "metadata": {},
   "source": [
    "##### 3b. Use seaborn to create a pair plot of this data, colored by species."
   ]
  },
  {
   "cell_type": "code",
   "execution_count": null,
   "metadata": {},
   "outputs": [],
   "source": []
  },
  {
   "cell_type": "markdown",
   "metadata": {},
   "source": [
    "##### 4. Bar Plot for Categorical Data:\n",
    "\n",
    "Load the ‘diamonds’ dataset from seaborn.\n",
    "\n",
    "\n",
    "Use seaborn to create a bar plot showing the average price of diamonds across different cuts."
   ]
  },
  {
   "cell_type": "code",
   "execution_count": null,
   "metadata": {},
   "outputs": [],
   "source": []
  },
  {
   "cell_type": "markdown",
   "metadata": {},
   "source": [
    "##### 4b. Use seaborn to create a bar plot showing the average price of diamonds across different cuts, colored by clarity."
   ]
  },
  {
   "cell_type": "code",
   "execution_count": null,
   "metadata": {},
   "outputs": [],
   "source": []
  },
  {
   "cell_type": "markdown",
   "metadata": {},
   "source": [
    "##### 5. Heatmap of Correlation Matrix\n",
    "\n",
    "Load the ‘iris’ dataset from seaborn.\n",
    "\n",
    "\n",
    "Calculate the correlation matrix of the dataset.\n",
    "\n",
    "\n",
    "Use seaborn to create a heatmap of this correlation matrix."
   ]
  },
  {
   "cell_type": "code",
   "execution_count": null,
   "metadata": {},
   "outputs": [],
   "source": []
  }
 ],
 "metadata": {
  "kernelspec": {
   "display_name": "Python 3",
   "language": "python",
   "name": "python3"
  },
  "language_info": {
   "codemirror_mode": {
    "name": "ipython",
    "version": 3
   },
   "file_extension": ".py",
   "mimetype": "text/x-python",
   "name": "python",
   "nbconvert_exporter": "python",
   "pygments_lexer": "ipython3",
   "version": "3.11.9"
  }
 },
 "nbformat": 4,
 "nbformat_minor": 4
}
