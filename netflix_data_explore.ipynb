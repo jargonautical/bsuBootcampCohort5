{
 "cells": [
  {
   "cell_type": "markdown",
   "metadata": {},
   "source": [
    "# Exploring the data"
   ]
  },
  {
   "cell_type": "markdown",
   "metadata": {},
   "source": [
    "### Fetching and checking the data"
   ]
  },
  {
   "cell_type": "code",
   "execution_count": null,
   "metadata": {},
   "outputs": [],
   "source": [
    "import pandas as pd # import the pandas library\n",
    "df = pd.read_csv(\"netflix-rotten-tomatoes-metacritic-imdb.csv\") # fetch the data\n",
    "df.sample() # look at a sample row to see what types of values it contains"
   ]
  },
  {
   "cell_type": "code",
   "execution_count": null,
   "metadata": {},
   "outputs": [],
   "source": [
    "df.columns # list the column names (useful if the previous view doesn't show us everything we need)"
   ]
  },
  {
   "cell_type": "code",
   "execution_count": null,
   "metadata": {},
   "outputs": [],
   "source": [
    "df.shape # see how many rows and columns we have"
   ]
  },
  {
   "cell_type": "markdown",
   "metadata": {},
   "source": [
    "### Answering the questions"
   ]
  },
  {
   "cell_type": "markdown",
   "metadata": {},
   "source": [
    "#### What genre of movie has been the most popular in the last three years?  \n",
    "Preparing and filtering the data so we can investigate one of the questions we've been asked to anaylse.  \n",
    "  \n",
    "  FIRST: decide what 'last 3 years' means. There are several options, below I've used the start of the financial year in 2020 as a cut-off. Anything older than that will be excluded."
   ]
  },
  {
   "cell_type": "code",
   "execution_count": null,
   "metadata": {},
   "outputs": [],
   "source": [
    "# convert date columns to datetime dtype\n",
    "df['Release Date'] = pd.to_datetime(df['Release Date']) # making sure 'Release Date' is actually a datetime dtype\n",
    "\n",
    "# filter rows that meet the 2 conditions\n",
    "# syntax is: <new dataframe df3> is <old dataframe df> where [ (condition 1 is true) AND (condition2 is true)]\n",
    "df = df.loc[df['Series or Movie'] == 'Movie'] # choosing just movies \n",
    "\n",
    "# check how many rows we have remaining to work with\n",
    "df.shape"
   ]
  },
  {
   "cell_type": "markdown",
   "metadata": {},
   "source": [
    "SECOND: Look at values in the 'Genre' column to see what we will be working with.  \n",
    "column_name.unique() tells us what all the values are.  \n",
    "column_name.nunique() tells us how many unique values there are."
   ]
  },
  {
   "cell_type": "code",
   "execution_count": null,
   "metadata": {},
   "outputs": [],
   "source": [
    "# check possible values for Genre\n",
    "df['Genre'].unique()"
   ]
  },
  {
   "cell_type": "code",
   "execution_count": null,
   "metadata": {},
   "outputs": [],
   "source": [
    "df['Genre'].nunique()"
   ]
  },
  {
   "cell_type": "markdown",
   "metadata": {},
   "source": [
    "If the Genre information seems too messy to use as a category, we can choose different methods to extract something useful from it.  \n",
    "Choosing only the first value from the list of genres may not be the best approach, but it is the easiest to do right now! We will try that first just so we have something to work with."
   ]
  },
  {
   "cell_type": "code",
   "execution_count": null,
   "metadata": {},
   "outputs": [],
   "source": [
    "df[\"first_genre\"] = df[\"Genre\"].str.split(',').str[0] # gets the first item in the 'Genre' column\n",
    "df['first_genre'].unique() # checking the values we now have as categories"
   ]
  },
  {
   "cell_type": "markdown",
   "metadata": {},
   "source": [
    "Removing unnecessary columns"
   ]
  },
  {
   "cell_type": "code",
   "execution_count": null,
   "metadata": {},
   "outputs": [],
   "source": [
    "# checking what columns we have - we want a list of the names \n",
    "# so we can check spelling, capitalisation etc \n",
    "# when we add them to the list of columns we want to remove \n",
    "df.columns "
   ]
  },
  {
   "cell_type": "code",
   "execution_count": null,
   "metadata": {},
   "outputs": [],
   "source": [
    "# dropping some of the columns we are sure we don;t need right now\n",
    "# we can drop a single column, or a list of several\n",
    "awards_df = df.drop(columns=['Languages', 'Hidden Gem Score', 'Actors', 'Writer', 'Director', 'Runtime', 'Image', 'Trailer Site', 'TMDb Trailer', 'Poster', 'Country Availability', 'Runtime', 'View Rating', 'IMDb Score', 'Rotten Tomatoes Score', 'Boxoffice', 'Netflix Release Date', 'Production House', 'Netflix Link', 'IMDb Link', 'IMDb Votes'])"
   ]
  },
  {
   "cell_type": "code",
   "execution_count": null,
   "metadata": {},
   "outputs": [],
   "source": [
    "awards_df.columns"
   ]
  },
  {
   "cell_type": "markdown",
   "metadata": {},
   "source": [
    "Our first basic plot appears to show that Comedy is the most prevalent / popular genre.  \n",
    "This based on some assumptions:  \n",
    "* the first item in the 'Genre' column is most significant, and  \n",
    "* the date range we have defined is what the client means."
   ]
  },
  {
   "cell_type": "code",
   "execution_count": null,
   "metadata": {},
   "outputs": [],
   "source": [
    "# Count Plot\n",
    "import matplotlib.pyplot as plt\n",
    "import seaborn as sns\n",
    "plt.figure(figsize=(8, 5))\n",
    "sns.countplot(data=awards_df['first_genre'], legend=False)\n",
    "plt.title(\"Count of Titles by First Genre\")\n",
    "plt.show()"
   ]
  },
  {
   "cell_type": "markdown",
   "metadata": {},
   "source": [
    "### How complicated are the relationships between the variables?"
   ]
  },
  {
   "cell_type": "markdown",
   "metadata": {},
   "source": [
    "We can use some multivariate plots to see whether there are any visible patterns that look interesting and/or worth investigating.  \n",
    "  \n",
    "Try changing which categorical variable is set as 'hue' for the plots below.  \n",
    "    \n",
    "You can also change which numeric variables are being plotted on the x and y axes.  \n",
    "      \n",
    "Play with this scatterplot to see if you find any different insights you'd like to investigate later."
   ]
  },
  {
   "cell_type": "code",
   "execution_count": null,
   "metadata": {},
   "outputs": [],
   "source": [
    "# Scatter Plot with Hue and Size\n",
    "plt.figure(figsize=(10, 8))\n",
    "sns.scatterplot(\n",
    "    x=\"Awards Received\", \n",
    "    y=\"Metacritic Score\", \n",
    "    data=awards_df, \n",
    "    hue=\"first_genre\",      # Color by day (categorical)\n",
    "    #size=\"Metacritic Score\",    # Vary marker size by size column (numerical)\n",
    "    #sizes=(20, 200),  # Define the size range for markers\n",
    "    palette=\"Set1\"  # Color palette\n",
    ")\n",
    "plt.title(\"Scatter Plot with Hue and Size \")\n",
    "plt.xlabel(\"Awards Received\")\n",
    "plt.ylabel(\"Metacritic Score\")\n",
    "plt.show()"
   ]
  },
  {
   "cell_type": "code",
   "execution_count": null,
   "metadata": {},
   "outputs": [],
   "source": [
    "# Pair Plot\n",
    "sns.set_style(style=\"ticks\")\n",
    "sns.pairplot(awards_df, hue=\"first_genre\")\n",
    "plt.show()"
   ]
  },
  {
   "cell_type": "code",
   "execution_count": null,
   "metadata": {
    "collapsed": true,
    "jupyter": {
     "outputs_hidden": true
    }
   },
   "outputs": [],
   "source": [
    "# we want to use only numeric values, so we supply a list of these\n",
    "numeric_cols = awards_df.select_dtypes(include=['float64', 'int64']) \n",
    "\n",
    "# Compute the correlation matrix\n",
    "correlation_matrix = numeric_cols.corr()\n",
    "\n",
    "plt.figure(figsize=(10,8))\n",
    "# Create a heatmap of the correlation matrix\n",
    "sns.heatmap(correlation_matrix, annot=True, cmap=\"bone\") # try different cmaps - we looked at bone, viridis, magma, coolwarm\n",
    "plt.title(\"Correlation Heatmap of our data\")\n",
    "plt.show()\n"
   ]
  },
  {
   "cell_type": "markdown",
   "metadata": {},
   "source": [
    "### An example pairplot using a clean & complete training dataset  \n",
    "  \n",
    "This shows what you would hope to see if the data contains clear, definite patterns and grouping relating to specific variables. "
   ]
  },
  {
   "cell_type": "code",
   "execution_count": null,
   "metadata": {
    "collapsed": true,
    "jupyter": {
     "outputs_hidden": true
    },
    "scrolled": true
   },
   "outputs": [],
   "source": [
    "# Load the \"iris\" dataset\n",
    "iris = sns.load_dataset(\"iris\")\n",
    "\n",
    "# Create a Facet Grid of pairwise scatterplots\n",
    "g = sns.pairplot(iris, hue=\"species\", palette=\"viridis\")\n",
    "g.add_legend()\n",
    "plt.show()"
   ]
  },
  {
   "cell_type": "code",
   "execution_count": null,
   "metadata": {},
   "outputs": [],
   "source": []
  }
 ],
 "metadata": {
  "kernelspec": {
   "display_name": "Python 3",
   "language": "python",
   "name": "python3"
  },
  "language_info": {
   "codemirror_mode": {
    "name": "ipython",
    "version": 3
   },
   "file_extension": ".py",
   "mimetype": "text/x-python",
   "name": "python",
   "nbconvert_exporter": "python",
   "pygments_lexer": "ipython3",
   "version": "3.11.9"
  }
 },
 "nbformat": 4,
 "nbformat_minor": 4
}
